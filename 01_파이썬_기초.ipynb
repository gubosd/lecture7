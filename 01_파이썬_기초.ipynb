{
 "cells": [
  {
   "cell_type": "markdown",
   "metadata": {},
   "source": [
    "## Yolo 적용을 위한 파이썬과 딥러닝 이해\n",
    "# 이미지 처리를 위한 파이썬 기본 기능"
   ]
  },
  {
   "cell_type": "markdown",
   "metadata": {},
   "source": [
    "### 과정 소개\n",
    "- 교육대상 : Jaaem\n",
    "- 교육장소 : 디지털미디어시티 YTN 건물\n",
    "- 교육기간 : 2019.7.26 에서 6주간 (매주 금요일 14시~18시)\n",
    "- 교육내용\n",
    "    - Python 과 Numpy 이해\n",
    "    - OpenCV 를 이용한 이미지 처리\n",
    "    - 머신러닝과 딥러닝에서의 이미지 처리와 Augmentation\n",
    "    - 머신러닝과 딥러닝의 이해와 관련된 도구 (Framework)\n",
    "    - Jaaem 사업 관련 딥러닝 프로젝트의 이해\n",
    "    - Tensorflow 와 Keras 로 시작하는 딥러닝\n",
    "    - Image Detection 관련 일반 기술과 Yolo 의 이해\n",
    "    - Yolo 를 이용한 개선방안 및 실전 학습"
   ]
  },
  {
   "cell_type": "markdown",
   "metadata": {},
   "source": [
    "### 강사 소개\n",
    "- **김현호** (010-2737-6532, gubos@naver.com)\n",
    "- 물리학 석사\n",
    "- KT 소프트웨어연구소 17년 근무 (로봇, 스마트단말, 감성/인공지능 연구 및 개발)\n",
    "- 파이썬, 머신러닝, 딥러닝, 자바, 데이터베이스 강의"
   ]
  },
  {
   "cell_type": "markdown",
   "metadata": {},
   "source": [
    "---"
   ]
  },
  {
   "cell_type": "markdown",
   "metadata": {},
   "source": [
    "### 리스트 개념\n",
    "- 파이썬 데이터 분석에 있어서 핵심 기능은 **리스트(list)** 이다.\n",
    "- 어떤 형태의 데이터이든 리스트로 저장하고 처리할 수 있다."
   ]
  },
  {
   "cell_type": "markdown",
   "metadata": {},
   "source": [
    "#### 기본문제\n",
    "- 20보다 작은 소수를 리스트로 저장해 보자.\n",
    "- 아래 정보를 리스트로 저장해 보자.\n",
    "\n",
    "이름   | 나이 | 성별 | 키  | 몸무계\n",
    "-------|------|------|-----|-------\n",
    "홍길동 | 35   | 남   | 175 | 67\n",
    "장길산 | 27   | 남   | 181 | 78\n",
    "이효리 | 32   | 여   | 159 | 46"
   ]
  },
  {
   "cell_type": "code",
   "execution_count": 2,
   "metadata": {},
   "outputs": [],
   "source": [
    "소수 = [ ]"
   ]
  },
  {
   "cell_type": "code",
   "execution_count": 3,
   "metadata": {},
   "outputs": [],
   "source": [
    "학생부 = [ ]"
   ]
  },
  {
   "cell_type": "markdown",
   "metadata": {},
   "source": [
    "### 이미지를 리스트로 표현\n",
    "- 이미지는 모두 숫자로 표현할 수 있다.\n",
    "- 즉, 하나의 픽셀이 하나의 숫자이다.\n",
    "- 흑백 이미지의 경우 한 픽셀은 1바이트로 표현한다.\n",
    "- 픽셀값은 주로 0~255 사이의 정수로 표현하며, 숫자가 클수록 밝다."
   ]
  },
  {
   "cell_type": "markdown",
   "metadata": {},
   "source": [
    "#### 기본문제\n",
    "- 5X5 형태의 흑백이미지를 만들려고 한다. 중앙의 3X3 은 흰색, 주변은 검은색이다.\n",
    "- 이를 5X5 형태의 리스트로 표현하라."
   ]
  },
  {
   "cell_type": "code",
   "execution_count": 4,
   "metadata": {},
   "outputs": [],
   "source": [
    "image = [[], [], [], [], []]"
   ]
  },
  {
   "cell_type": "markdown",
   "metadata": {},
   "source": [
    "#### 이미지 출력\n",
    "- plt.imshow() 함수 사용"
   ]
  },
  {
   "cell_type": "code",
   "execution_count": 5,
   "metadata": {},
   "outputs": [],
   "source": [
    "import matplotlib.pyplot as plt"
   ]
  },
  {
   "cell_type": "code",
   "execution_count": 6,
   "metadata": {},
   "outputs": [
    {
     "data": {
      "image/png": "[encoded data removed]",
      "text/plain": [
       "<Figure size 432x288 with 1 Axes>"
      ]
     },
     "metadata": {},
     "output_type": "display_data"
    }
   ],
   "source": [
    "image = [[0,255,0,255,0], [255,0,255,0,255], [0,255,0,255,0], [255,0,255,0,255], [0,255,0,255,0]]\n",
    "plt.imshow(image)\n",
    "plt.show() # jupyter notebook 에서는 생략해도 된다."
   ]
  },
  {
   "cell_type": "code",
   "execution_count": 7,
   "metadata": {},
   "outputs": [
    {
     "data": {
      "text/plain": [
       "<matplotlib.colorbar.Colorbar at 0x227b91a0518>"
      ]
     },
     "execution_count": 7,
     "metadata": {},
     "output_type": "execute_result"
    },
    {
     "data": {
      "image/png": "[encoded data removed]",
      "text/plain": [
       "<Figure size 432x288 with 2 Axes>"
      ]
     },
     "metadata": {},
     "output_type": "display_data"
    }
   ],
   "source": [
    "plt.imshow(image)\n",
    "plt.colorbar()"
   ]
  },
  {
   "cell_type": "code",
   "execution_count": 12,
   "metadata": {},
   "outputs": [
    {
     "data": {
      "text/plain": [
       "<matplotlib.colorbar.Colorbar at 0x227b953e4a8>"
      ]
     },
     "execution_count": 12,
     "metadata": {},
     "output_type": "execute_result"
    },
    {
     "data": {
      "image/png": "[encoded data removed]",
      "text/plain": [
       "<Figure size 432x288 with 2 Axes>"
      ]
     },
     "metadata": {},
     "output_type": "display_data"
    }
   ],
   "source": [
    "plt.imshow(image, cmap='gray')\n",
    "plt.colorbar()"
   ]
  },
  {
   "cell_type": "markdown",
   "metadata": {},
   "source": [
    "### 칼러 이미지란?\n",
    "- 위에서, 한 픽셀은 한 바이트로 표현되었다.\n",
    "- 즉, 밝고 어두움만 표현 할 수 있었다.\n",
    "- 색상을 표현하기 위해서는 한 픽셀이 3바이트를 가져야 한다.\n",
    "- RGB : Red, Green, Blue 각 한 바이트씩"
   ]
  },
  {
   "cell_type": "code",
   "execution_count": 11,
   "metadata": {},
   "outputs": [
    {
     "data": {
      "text/plain": [
       "<matplotlib.colorbar.Colorbar at 0x227b94ac6a0>"
      ]
     },
     "execution_count": 11,
     "metadata": {},
     "output_type": "execute_result"
    },
    {
     "data": {
      "image/png": "[encoded data removed]",
      "text/plain": [
       "<Figure size 432x288 with 2 Axes>"
      ]
     },
     "metadata": {},
     "output_type": "display_data"
    }
   ],
   "source": [
    "image = [[0, 255, 0, 255, 0],\n",
    "         [255, 0, 255, 0, 255],\n",
    "         [0, 255, 0, 255, 0],\n",
    "         [255, 0, 255, 0, 255],\n",
    "         [0, 255, 0, 255, 0]]\n",
    "\n",
    "color_image = [[[0,0,0], [255,0,0], [0,0,0], [255,0,0], [0,0,0]],\n",
    "               [[0,255,0], [0,0,0], [0,255,0], [0,0,0], [0,255,0]],\n",
    "               [[0,0,0], [0,0,255], [0,0,0], [0,0,255], [0,0,0]],\n",
    "               [[0,255,0], [0,0,0], [0,255,0], [0,0,0], [0,255,0]],\n",
    "               [[0,0,0], [255,0,0], [0,0,0], [255,0,0], [0,0,0]]]\n",
    "\n",
    "plt.imshow(color_image)\n",
    "plt.colorbar()"
   ]
  },
  {
   "cell_type": "markdown",
   "metadata": {},
   "source": [
    "- 위 그림은 행이 5개, 열이 5개, 깊이가 3개 이다.\n",
    "- 이미지 개념으로 설명하면, 높이가 5, 넓이가 5, 채널수가 3 이다.\n",
    "- 즉, 5X5X3 형태의 이미지임. (Height/Width/Channel)"
   ]
  },
  {
   "cell_type": "markdown",
   "metadata": {},
   "source": [
    "### 리스트의 위치 지정\n",
    "- 해당 위치의 값을 알아낸다.\n",
    "- 해당 위치의 값을 바꾼다."
   ]
  },
  {
   "cell_type": "code",
   "execution_count": 13,
   "metadata": {},
   "outputs": [],
   "source": [
    "a = [2,3,5,7,11,13,17,19]"
   ]
  },
  {
   "cell_type": "code",
   "execution_count": 15,
   "metadata": {},
   "outputs": [
    {
     "data": {
      "text/plain": [
       "8"
      ]
     },
     "execution_count": 15,
     "metadata": {},
     "output_type": "execute_result"
    }
   ],
   "source": [
    "len(a)"
   ]
  },
  {
   "cell_type": "code",
   "execution_count": 14,
   "metadata": {},
   "outputs": [
    {
     "data": {
      "text/plain": [
       "(2, 3, 5, 19, 17)"
      ]
     },
     "execution_count": 14,
     "metadata": {},
     "output_type": "execute_result"
    }
   ],
   "source": [
    "a[0], a[1], a[2], a[-1], a[-2]"
   ]
  },
  {
   "cell_type": "code",
   "execution_count": 16,
   "metadata": {},
   "outputs": [
    {
     "data": {
      "text/plain": [
       "([7, 11], [3, 5, 7, 11, 13])"
      ]
     },
     "execution_count": 16,
     "metadata": {},
     "output_type": "execute_result"
    }
   ],
   "source": [
    "a[3:5], a[1:6]"
   ]
  },
  {
   "cell_type": "code",
   "execution_count": 17,
   "metadata": {},
   "outputs": [
    {
     "data": {
      "text/plain": [
       "([2, 3, 5], [7, 11, 13, 17, 19])"
      ]
     },
     "execution_count": 17,
     "metadata": {},
     "output_type": "execute_result"
    }
   ],
   "source": [
    "a[:3], a[3:]"
   ]
  },
  {
   "cell_type": "code",
   "execution_count": 18,
   "metadata": {},
   "outputs": [
    {
     "data": {
      "text/plain": [
       "([2, 3, 5, 7, 11, 13, 17], [13, 17, 19], [5, 7, 11, 13])"
      ]
     },
     "execution_count": 18,
     "metadata": {},
     "output_type": "execute_result"
    }
   ],
   "source": [
    "a[:-1], a[-3:], a[2:-2]"
   ]
  },
  {
   "cell_type": "code",
   "execution_count": 19,
   "metadata": {},
   "outputs": [
    {
     "data": {
      "text/plain": [
       "[2, 5, 11, 17]"
      ]
     },
     "execution_count": 19,
     "metadata": {},
     "output_type": "execute_result"
    }
   ],
   "source": [
    "a[::2]"
   ]
  },
  {
   "cell_type": "code",
   "execution_count": 20,
   "metadata": {},
   "outputs": [
    {
     "data": {
      "text/plain": [
       "[19, 17, 13, 11, 7, 5, 3, 2]"
      ]
     },
     "execution_count": 20,
     "metadata": {},
     "output_type": "execute_result"
    }
   ],
   "source": [
    "a[::-1]"
   ]
  },
  {
   "cell_type": "markdown",
   "metadata": {},
   "source": [
    "- 값을 바꿔 보자"
   ]
  },
  {
   "cell_type": "code",
   "execution_count": 22,
   "metadata": {},
   "outputs": [
    {
     "data": {
      "text/plain": [
       "[2, 3, 5, 7, 11, 13, 17, 19]"
      ]
     },
     "execution_count": 22,
     "metadata": {},
     "output_type": "execute_result"
    }
   ],
   "source": [
    "b = a.copy() # 리스트를 하나 새로 만든다\n",
    "b"
   ]
  },
  {
   "cell_type": "code",
   "execution_count": 23,
   "metadata": {},
   "outputs": [
    {
     "data": {
      "text/plain": [
       "[0, 3, 5, 7, 11, 13, 17, 19]"
      ]
     },
     "execution_count": 23,
     "metadata": {},
     "output_type": "execute_result"
    }
   ],
   "source": [
    "b[0] = 0\n",
    "b"
   ]
  },
  {
   "cell_type": "code",
   "execution_count": 24,
   "metadata": {},
   "outputs": [
    {
     "data": {
      "text/plain": [
       "[0, 3, 5, 7, 11, 13, 17, 99]"
      ]
     },
     "execution_count": 24,
     "metadata": {},
     "output_type": "execute_result"
    }
   ],
   "source": [
    "b[-1] = 99\n",
    "b"
   ]
  },
  {
   "cell_type": "markdown",
   "metadata": {},
   "source": [
    "- 이미지 조회 및 수정"
   ]
  },
  {
   "cell_type": "code",
   "execution_count": 32,
   "metadata": {},
   "outputs": [
    {
     "data": {
      "text/plain": [
       "[[0, 255, 0, 255, 0],\n",
       " [255, 0, 255, 0, 255],\n",
       " [0, 255, 0, 255, 0],\n",
       " [255, 0, 255, 0, 255],\n",
       " [0, 255, 0, 255, 0]]"
      ]
     },
     "execution_count": 32,
     "metadata": {},
     "output_type": "execute_result"
    }
   ],
   "source": [
    "gi = image.copy()\n",
    "gi"
   ]
  },
  {
   "cell_type": "code",
   "execution_count": 33,
   "metadata": {},
   "outputs": [
    {
     "data": {
      "text/plain": [
       "[0, 255, 0, 255, 0]"
      ]
     },
     "execution_count": 33,
     "metadata": {},
     "output_type": "execute_result"
    }
   ],
   "source": [
    "gi[0]"
   ]
  },
  {
   "cell_type": "code",
   "execution_count": 34,
   "metadata": {},
   "outputs": [
    {
     "data": {
      "text/plain": [
       "[255, 0, 255, 0, 255]"
      ]
     },
     "execution_count": 34,
     "metadata": {},
     "output_type": "execute_result"
    }
   ],
   "source": [
    "gi[1]"
   ]
  },
  {
   "cell_type": "code",
   "execution_count": 36,
   "metadata": {},
   "outputs": [
    {
     "data": {
      "text/plain": [
       "(0, 255, 255, 255)"
      ]
     },
     "execution_count": 36,
     "metadata": {},
     "output_type": "execute_result"
    }
   ],
   "source": [
    "gi[0][0], gi[0][1], gi[1][2], gi[3][2]"
   ]
  },
  {
   "cell_type": "code",
   "execution_count": 38,
   "metadata": {},
   "outputs": [
    {
     "data": {
      "text/plain": [
       "<matplotlib.image.AxesImage at 0x227b95ef5f8>"
      ]
     },
     "execution_count": 38,
     "metadata": {},
     "output_type": "execute_result"
    },
    {
     "data": {
      "image/png": "[encoded data removed]",
      "text/plain": [
       "<Figure size 432x288 with 1 Axes>"
      ]
     },
     "metadata": {},
     "output_type": "display_data"
    }
   ],
   "source": [
    "gi[2][2] = 127\n",
    "plt.imshow(gi, cmap='gray')"
   ]
  },
  {
   "cell_type": "code",
   "execution_count": 39,
   "metadata": {},
   "outputs": [
    {
     "data": {
      "text/plain": [
       "[[[0, 0, 0], [255, 0, 0], [0, 0, 0], [255, 0, 0], [0, 0, 0]],\n",
       " [[0, 255, 0], [0, 0, 0], [0, 255, 0], [0, 0, 0], [0, 255, 0]],\n",
       " [[0, 0, 0], [0, 0, 255], [0, 0, 0], [0, 0, 255], [0, 0, 0]],\n",
       " [[0, 255, 0], [0, 0, 0], [0, 255, 0], [0, 0, 0], [0, 255, 0]],\n",
       " [[0, 0, 0], [255, 0, 0], [0, 0, 0], [255, 0, 0], [0, 0, 0]]]"
      ]
     },
     "execution_count": 39,
     "metadata": {},
     "output_type": "execute_result"
    }
   ],
   "source": [
    "ci = color_image.copy()\n",
    "ci"
   ]
  },
  {
   "cell_type": "code",
   "execution_count": 40,
   "metadata": {},
   "outputs": [
    {
     "data": {
      "text/plain": [
       "[[0, 0, 0], [255, 0, 0], [0, 0, 0], [255, 0, 0], [0, 0, 0]]"
      ]
     },
     "execution_count": 40,
     "metadata": {},
     "output_type": "execute_result"
    }
   ],
   "source": [
    "ci[0]"
   ]
  },
  {
   "cell_type": "code",
   "execution_count": 41,
   "metadata": {},
   "outputs": [
    {
     "data": {
      "text/plain": [
       "[0, 0, 0]"
      ]
     },
     "execution_count": 41,
     "metadata": {},
     "output_type": "execute_result"
    }
   ],
   "source": [
    "ci[0][0]"
   ]
  },
  {
   "cell_type": "code",
   "execution_count": 42,
   "metadata": {},
   "outputs": [
    {
     "data": {
      "text/plain": [
       "0"
      ]
     },
     "execution_count": 42,
     "metadata": {},
     "output_type": "execute_result"
    }
   ],
   "source": [
    "ci[0][0][0]"
   ]
  },
  {
   "cell_type": "code",
   "execution_count": 44,
   "metadata": {},
   "outputs": [
    {
     "data": {
      "text/plain": [
       "[0, 0, 0]"
      ]
     },
     "execution_count": 44,
     "metadata": {},
     "output_type": "execute_result"
    }
   ],
   "source": [
    "ci[2][2] # 정중앙 픽셀"
   ]
  },
  {
   "cell_type": "code",
   "execution_count": 46,
   "metadata": {},
   "outputs": [
    {
     "data": {
      "text/plain": [
       "<matplotlib.image.AxesImage at 0x227b969a240>"
      ]
     },
     "execution_count": 46,
     "metadata": {},
     "output_type": "execute_result"
    },
    {
     "data": {
      "image/png": "[encoded data removed]",
      "text/plain": [
       "<Figure size 432x288 with 1 Axes>"
      ]
     },
     "metadata": {},
     "output_type": "display_data"
    }
   ],
   "source": [
    "ci[2][2] = [255, 255, 0] # RGB (노란색)\n",
    "plt.imshow(ci)"
   ]
  },
  {
   "cell_type": "code",
   "execution_count": null,
   "metadata": {},
   "outputs": [],
   "source": []
  },
  {
   "cell_type": "code",
   "execution_count": null,
   "metadata": {},
   "outputs": [],
   "source": []
  },
  {
   "cell_type": "markdown",
   "metadata": {},
   "source": [
    "### 리스트 항목 추가\n",
    "- 리스트 + 리스트\n",
    "- append() 함수\n",
    "- 빈리스트 [ ]"
   ]
  },
  {
   "cell_type": "code",
   "execution_count": 47,
   "metadata": {},
   "outputs": [
    {
     "data": {
      "text/plain": [
       "[1, 2, 3, 7, 8, 9]"
      ]
     },
     "execution_count": 47,
     "metadata": {},
     "output_type": "execute_result"
    }
   ],
   "source": [
    "[1,2,3] + [7,8,9] # 리스트와 리스트 끼리는 더할 수 있다"
   ]
  },
  {
   "cell_type": "code",
   "execution_count": 49,
   "metadata": {},
   "outputs": [
    {
     "data": {
      "text/plain": [
       "[1, 2, 3, 4]"
      ]
     },
     "execution_count": 49,
     "metadata": {},
     "output_type": "execute_result"
    }
   ],
   "source": [
    "a = [1,2,3]\n",
    "a.append(4)\n",
    "a"
   ]
  },
  {
   "cell_type": "code",
   "execution_count": 50,
   "metadata": {},
   "outputs": [
    {
     "data": {
      "text/plain": [
       "[1, 2, 3, 4, 5, 6, 7, 8, 9]"
      ]
     },
     "execution_count": 50,
     "metadata": {},
     "output_type": "execute_result"
    }
   ],
   "source": [
    "a = a + [5,6,7,8,9]\n",
    "a"
   ]
  },
  {
   "cell_type": "code",
   "execution_count": 52,
   "metadata": {},
   "outputs": [
    {
     "data": {
      "text/plain": [
       "[1, 2, 3, 4, 6, 7, 8, 9]"
      ]
     },
     "execution_count": 52,
     "metadata": {},
     "output_type": "execute_result"
    }
   ],
   "source": [
    "b = a.copy()\n",
    "b[:4] + b[5:]"
   ]
  },
  {
   "cell_type": "code",
   "execution_count": 53,
   "metadata": {},
   "outputs": [
    {
     "data": {
      "text/plain": [
       "[1, 2, 3, 4, 5, 6, 7, 8, 9, -1]"
      ]
     },
     "execution_count": 53,
     "metadata": {},
     "output_type": "execute_result"
    }
   ],
   "source": [
    "b.append(-1)\n",
    "b"
   ]
  },
  {
   "cell_type": "code",
   "execution_count": 54,
   "metadata": {},
   "outputs": [
    {
     "data": {
      "text/plain": [
       "[1, 2, 3, 4, 5, 6, 7, 8, 9, -1, [-2, -3, -4]]"
      ]
     },
     "execution_count": 54,
     "metadata": {},
     "output_type": "execute_result"
    }
   ],
   "source": [
    "b.append([-2,-3,-4])\n",
    "b"
   ]
  },
  {
   "cell_type": "markdown",
   "metadata": {},
   "source": [
    "#### 기본문제\n",
    "- [4,2,7,3,1] 의 각 항목을 제곱한 리스트를 만들어라."
   ]
  },
  {
   "cell_type": "code",
   "execution_count": 55,
   "metadata": {},
   "outputs": [
    {
     "name": "stdout",
     "output_type": "stream",
     "text": [
      "[16, 4, 49, 9, 1]\n"
     ]
    }
   ],
   "source": [
    "숫자 = [4,2,7,3,1]\n",
    "\n",
    "결과 = []\n",
    "for i in 숫자:\n",
    "    결과.append(i*i)\n",
    "    \n",
    "print(결과)"
   ]
  },
  {
   "cell_type": "markdown",
   "metadata": {},
   "source": [
    "- 위와 같이 빈리스트를 하나 만들고, 거기에 항목을 하나 하나 추가하는 방식은 꼭 익혀둬야 한다!"
   ]
  },
  {
   "cell_type": "markdown",
   "metadata": {},
   "source": [
    "### 기본문제\n",
    "- 첫번째 픽셀부터 시작해 점점 밝아지는 5X5 흑백이미지를 만들어라."
   ]
  },
  {
   "cell_type": "code",
   "execution_count": 56,
   "metadata": {},
   "outputs": [
    {
     "data": {
      "text/plain": [
       "[[0, 1, 2, 3, 4],\n",
       " [5, 6, 7, 8, 9],\n",
       " [10, 11, 12, 13, 14],\n",
       " [15, 16, 17, 18, 19],\n",
       " [20, 21, 22, 23, 24]]"
      ]
     },
     "execution_count": 56,
     "metadata": {},
     "output_type": "execute_result"
    }
   ],
   "source": [
    "image = []\n",
    "\n",
    "for row in range(5):\n",
    "    a = []\n",
    "    for col in range(5):\n",
    "        a.append(row*5 + col)\n",
    "        \n",
    "    image.append(a)\n",
    "        \n",
    "image"
   ]
  },
  {
   "cell_type": "code",
   "execution_count": 58,
   "metadata": {},
   "outputs": [
    {
     "data": {
      "text/plain": [
       "<matplotlib.colorbar.Colorbar at 0x227b97649b0>"
      ]
     },
     "execution_count": 58,
     "metadata": {},
     "output_type": "execute_result"
    },
    {
     "data": {
      "image/png": "[encoded data removed]",
      "text/plain": [
       "<Figure size 432x288 with 2 Axes>"
      ]
     },
     "metadata": {},
     "output_type": "display_data"
    }
   ],
   "source": [
    "plt.imshow(image, cmap='gray')\n",
    "plt.colorbar()"
   ]
  },
  {
   "cell_type": "code",
   "execution_count": 59,
   "metadata": {},
   "outputs": [
    {
     "data": {
      "text/plain": [
       "<matplotlib.colorbar.Colorbar at 0x227ba7b6b00>"
      ]
     },
     "execution_count": 59,
     "metadata": {},
     "output_type": "execute_result"
    },
    {
     "data": {
      "image/png": "[encoded data removed]",
      "text/plain": [
       "<Figure size 432x288 with 2 Axes>"
      ]
     },
     "metadata": {},
     "output_type": "display_data"
    }
   ],
   "source": [
    "plt.imshow(image, vmin=0, vmax=255, cmap='gray')\n",
    "plt.colorbar()"
   ]
  },
  {
   "cell_type": "code",
   "execution_count": 62,
   "metadata": {},
   "outputs": [
    {
     "data": {
      "text/plain": [
       "[[0, 10, 20, 30, 40],\n",
       " [50, 60, 70, 80, 90],\n",
       " [100, 110, 120, 130, 140],\n",
       " [150, 160, 170, 180, 190],\n",
       " [200, 210, 220, 230, 240]]"
      ]
     },
     "execution_count": 62,
     "metadata": {},
     "output_type": "execute_result"
    }
   ],
   "source": [
    "image = []\n",
    "\n",
    "for row in range(5):\n",
    "    a = []\n",
    "    for col in range(5):\n",
    "        a.append((row*5 + col)*10) # 원래 값에 10을 곱했다\n",
    "        \n",
    "    image.append(a)\n",
    "        \n",
    "image"
   ]
  },
  {
   "cell_type": "code",
   "execution_count": 61,
   "metadata": {},
   "outputs": [
    {
     "data": {
      "text/plain": [
       "<matplotlib.colorbar.Colorbar at 0x227ba84d898>"
      ]
     },
     "execution_count": 61,
     "metadata": {},
     "output_type": "execute_result"
    },
    {
     "data": {
      "image/png": "[encoded data removed]",
      "text/plain": [
       "<Figure size 432x288 with 2 Axes>"
      ]
     },
     "metadata": {},
     "output_type": "display_data"
    }
   ],
   "source": [
    "plt.imshow(image, vmin=0, vmax=255, cmap='gray') # vmin, vmax 로 색상 영역을 지정한다\n",
    "plt.colorbar()"
   ]
  },
  {
   "cell_type": "markdown",
   "metadata": {},
   "source": [
    "- 칼러 이미지를 만들어보자. 위와 같이 그라데이션을 적용해 본다."
   ]
  },
  {
   "cell_type": "code",
   "execution_count": 65,
   "metadata": {},
   "outputs": [
    {
     "data": {
      "text/plain": [
       "[[[0, 3, 6], [9, 12, 15], [18, 21, 24], [27, 30, 33], [36, 39, 42]],\n",
       " [[45, 48, 51], [54, 57, 60], [63, 66, 69], [72, 75, 78], [81, 84, 87]],\n",
       " [[90, 93, 96],\n",
       "  [99, 102, 105],\n",
       "  [108, 111, 114],\n",
       "  [117, 120, 123],\n",
       "  [126, 129, 132]],\n",
       " [[135, 138, 141],\n",
       "  [144, 147, 150],\n",
       "  [153, 156, 159],\n",
       "  [162, 165, 168],\n",
       "  [171, 174, 177]],\n",
       " [[180, 183, 186],\n",
       "  [189, 192, 195],\n",
       "  [198, 201, 204],\n",
       "  [207, 210, 213],\n",
       "  [216, 219, 222]]]"
      ]
     },
     "execution_count": 65,
     "metadata": {},
     "output_type": "execute_result"
    }
   ],
   "source": [
    "image = []\n",
    "\n",
    "for row in range(5):\n",
    "    row_list = []\n",
    "    \n",
    "    for col in range(5):\n",
    "        col_list = []\n",
    "        \n",
    "        for ch in range(3):\n",
    "            col_list.append((row*15 + col*3 + ch)*3) # 밝게 하기 위해 3을 곱했다\n",
    "            \n",
    "        row_list.append(col_list)\n",
    "        \n",
    "    image.append(row_list)\n",
    "    \n",
    "image"
   ]
  },
  {
   "cell_type": "code",
   "execution_count": 66,
   "metadata": {},
   "outputs": [
    {
     "data": {
      "text/plain": [
       "<matplotlib.colorbar.Colorbar at 0x227ba97acf8>"
      ]
     },
     "execution_count": 66,
     "metadata": {},
     "output_type": "execute_result"
    },
    {
     "data": {
      "image/png": "[encoded data removed]",
      "text/plain": [
       "<Figure size 432x288 with 2 Axes>"
      ]
     },
     "metadata": {},
     "output_type": "display_data"
    }
   ],
   "source": [
    "plt.imshow(image)\n",
    "plt.colorbar()"
   ]
  },
  {
   "cell_type": "code",
   "execution_count": 67,
   "metadata": {},
   "outputs": [
    {
     "data": {
      "text/plain": [
       "[[[0, 100, 200], [1, 101, 201], [2, 102, 202], [3, 103, 203], [4, 104, 204]],\n",
       " [[5, 105, 205], [6, 106, 206], [7, 107, 207], [8, 108, 208], [9, 109, 209]],\n",
       " [[10, 110, 210],\n",
       "  [11, 111, 211],\n",
       "  [12, 112, 212],\n",
       "  [13, 113, 213],\n",
       "  [14, 114, 214]],\n",
       " [[15, 115, 215],\n",
       "  [16, 116, 216],\n",
       "  [17, 117, 217],\n",
       "  [18, 118, 218],\n",
       "  [19, 119, 219]],\n",
       " [[20, 120, 220],\n",
       "  [21, 121, 221],\n",
       "  [22, 122, 222],\n",
       "  [23, 123, 223],\n",
       "  [24, 124, 224]]]"
      ]
     },
     "execution_count": 67,
     "metadata": {},
     "output_type": "execute_result"
    }
   ],
   "source": [
    "image = []\n",
    "\n",
    "for row in range(5):\n",
    "    row_list = []\n",
    "    \n",
    "    for col in range(5):\n",
    "        col_list = []\n",
    "        \n",
    "        for ch in range(3):\n",
    "            col_list.append(row*5 + col + ch*100) # 밝게 하기 위해 3을 곱했다\n",
    "            \n",
    "        row_list.append(col_list)\n",
    "        \n",
    "    image.append(row_list)\n",
    "    \n",
    "image"
   ]
  },
  {
   "cell_type": "code",
   "execution_count": 68,
   "metadata": {},
   "outputs": [
    {
     "data": {
      "text/plain": [
       "<matplotlib.colorbar.Colorbar at 0x227baa15978>"
      ]
     },
     "execution_count": 68,
     "metadata": {},
     "output_type": "execute_result"
    },
    {
     "data": {
      "image/png": "[encoded data removed]",
      "text/plain": [
       "<Figure size 432x288 with 2 Axes>"
      ]
     },
     "metadata": {},
     "output_type": "display_data"
    }
   ],
   "source": [
    "plt.imshow(image)\n",
    "plt.colorbar()"
   ]
  },
  {
   "cell_type": "markdown",
   "metadata": {},
   "source": [
    "### 리스트에 적용하는 함수들"
   ]
  },
  {
   "cell_type": "code",
   "execution_count": 69,
   "metadata": {},
   "outputs": [],
   "source": [
    "a = [1,2,3,4,5]"
   ]
  },
  {
   "cell_type": "code",
   "execution_count": 70,
   "metadata": {},
   "outputs": [
    {
     "data": {
      "text/plain": [
       "5"
      ]
     },
     "execution_count": 70,
     "metadata": {},
     "output_type": "execute_result"
    }
   ],
   "source": [
    "len(a)"
   ]
  },
  {
   "cell_type": "code",
   "execution_count": 71,
   "metadata": {},
   "outputs": [
    {
     "data": {
      "text/plain": [
       "15"
      ]
     },
     "execution_count": 71,
     "metadata": {},
     "output_type": "execute_result"
    }
   ],
   "source": [
    "sum(a)"
   ]
  },
  {
   "cell_type": "code",
   "execution_count": 73,
   "metadata": {},
   "outputs": [
    {
     "data": {
      "text/plain": [
       "3.0"
      ]
     },
     "execution_count": 73,
     "metadata": {},
     "output_type": "execute_result"
    }
   ],
   "source": [
    "mean = sum(a)/len(a); mean"
   ]
  },
  {
   "cell_type": "code",
   "execution_count": 76,
   "metadata": {},
   "outputs": [
    {
     "data": {
      "text/plain": [
       "[1, 2, 3, 4, 5]"
      ]
     },
     "execution_count": 76,
     "metadata": {},
     "output_type": "execute_result"
    }
   ],
   "source": [
    "b = [3,2,1,4,5]\n",
    "sorted(b)"
   ]
  },
  {
   "cell_type": "code",
   "execution_count": 77,
   "metadata": {},
   "outputs": [
    {
     "data": {
      "text/plain": [
       "[3, 2, 1, 4, 5]"
      ]
     },
     "execution_count": 77,
     "metadata": {},
     "output_type": "execute_result"
    }
   ],
   "source": [
    "b"
   ]
  },
  {
   "cell_type": "code",
   "execution_count": 78,
   "metadata": {},
   "outputs": [
    {
     "data": {
      "text/plain": [
       "[0, 1, 2, -2, 3, -4]"
      ]
     },
     "execution_count": 78,
     "metadata": {},
     "output_type": "execute_result"
    }
   ],
   "source": [
    "b = [3,1,-4,2,0,-2]\n",
    "sorted(b, key=abs)"
   ]
  },
  {
   "cell_type": "code",
   "execution_count": 79,
   "metadata": {},
   "outputs": [
    {
     "data": {
      "text/plain": [
       "[0, 1, 2, -2, 3, -4]"
      ]
     },
     "execution_count": 79,
     "metadata": {},
     "output_type": "execute_result"
    }
   ],
   "source": [
    "sorted(b, key=lambda x: abs(x))"
   ]
  },
  {
   "cell_type": "code",
   "execution_count": 80,
   "metadata": {},
   "outputs": [
    {
     "name": "stdout",
     "output_type": "stream",
     "text": [
      "0 => 2\n",
      "1 => 3\n",
      "2 => 5\n",
      "3 => 7\n"
     ]
    }
   ],
   "source": [
    "a = [2,3,5,7]\n",
    "for i,n in enumerate(a):\n",
    "    print(i,'=>',n)"
   ]
  },
  {
   "cell_type": "code",
   "execution_count": 81,
   "metadata": {},
   "outputs": [
    {
     "data": {
      "text/plain": [
       "[(2, 11), (3, 13), (5, 17), (7, 19)]"
      ]
     },
     "execution_count": 81,
     "metadata": {},
     "output_type": "execute_result"
    }
   ],
   "source": [
    "a = [2,3,5,7]\n",
    "b = [11,13,17,19]\n",
    "\n",
    "list(zip(a,b))"
   ]
  },
  {
   "cell_type": "code",
   "execution_count": 83,
   "metadata": {},
   "outputs": [
    {
     "name": "stdout",
     "output_type": "stream",
     "text": [
      "2 11 9\n",
      "3 13 10\n",
      "5 17 12\n",
      "7 19 12\n"
     ]
    }
   ],
   "source": [
    "for i,j in zip(a,b):\n",
    "    print(i,j,j-i)"
   ]
  },
  {
   "cell_type": "code",
   "execution_count": 84,
   "metadata": {
    "scrolled": true
   },
   "outputs": [
    {
     "data": {
      "text/plain": [
       "['__add__',\n",
       " '__class__',\n",
       " '__contains__',\n",
       " '__delattr__',\n",
       " '__delitem__',\n",
       " '__dir__',\n",
       " '__doc__',\n",
       " '__eq__',\n",
       " '__format__',\n",
       " '__ge__',\n",
       " '__getattribute__',\n",
       " '__getitem__',\n",
       " '__gt__',\n",
       " '__hash__',\n",
       " '__iadd__',\n",
       " '__imul__',\n",
       " '__init__',\n",
       " '__init_subclass__',\n",
       " '__iter__',\n",
       " '__le__',\n",
       " '__len__',\n",
       " '__lt__',\n",
       " '__mul__',\n",
       " '__ne__',\n",
       " '__new__',\n",
       " '__reduce__',\n",
       " '__reduce_ex__',\n",
       " '__repr__',\n",
       " '__reversed__',\n",
       " '__rmul__',\n",
       " '__setattr__',\n",
       " '__setitem__',\n",
       " '__sizeof__',\n",
       " '__str__',\n",
       " '__subclasshook__',\n",
       " 'append',\n",
       " 'clear',\n",
       " 'copy',\n",
       " 'count',\n",
       " 'extend',\n",
       " 'index',\n",
       " 'insert',\n",
       " 'pop',\n",
       " 'remove',\n",
       " 'reverse',\n",
       " 'sort']"
      ]
     },
     "execution_count": 84,
     "metadata": {},
     "output_type": "execute_result"
    }
   ],
   "source": [
    "dir(a)"
   ]
  },
  {
   "cell_type": "code",
   "execution_count": 87,
   "metadata": {},
   "outputs": [
    {
     "name": "stdout",
     "output_type": "stream",
     "text": [
      "Help on built-in function index:\n",
      "\n",
      "index(...) method of builtins.list instance\n",
      "    L.index(value, [start, [stop]]) -> integer -- return first index of value.\n",
      "    Raises ValueError if the value is not present.\n",
      "\n"
     ]
    }
   ],
   "source": [
    "help(a.index)"
   ]
  },
  {
   "cell_type": "markdown",
   "metadata": {},
   "source": [
    "#### 도전과제\n",
    "- 색상별 이미지 3개를 합쳐보자."
   ]
  },
  {
   "cell_type": "code",
   "execution_count": 88,
   "metadata": {},
   "outputs": [
    {
     "data": {
      "text/plain": [
       "[[(0, 255, 0), (255, 0, 255), (0, 255, 0), (255, 0, 255), (0, 255, 0)],\n",
       " [(255, 0, 255), (0, 255, 0), (255, 0, 255), (0, 255, 0), (255, 0, 255)],\n",
       " [(0, 255, 0), (255, 0, 255), (0, 255, 0), (255, 0, 255), (0, 255, 0)],\n",
       " [(255, 0, 255), (0, 255, 0), (255, 0, 255), (0, 255, 0), (255, 0, 255)],\n",
       " [(0, 255, 0), (255, 0, 255), (0, 255, 0), (255, 0, 255), (0, 255, 0)]]"
      ]
     },
     "execution_count": 88,
     "metadata": {},
     "output_type": "execute_result"
    }
   ],
   "source": [
    "r = [[0,255,0,255,0], [255,0,255,0,255], [0,255,0,255,0], [255,0,255,0,255], [0,255,0,255,0]]\n",
    "g = [[255,0,255,0,255], [0,255,0,255,0], [255,0,255,0,255], [0,255,0,255,0], [255,0,255,0,255]]\n",
    "b = [[0,255,0,255,0], [255,0,255,0,255], [0,255,0,255,0], [255,0,255,0,255], [0,255,0,255,0]]\n",
    "\n",
    "data = []\n",
    "for row in range(5):\n",
    "    data.append(list(zip(r[row], g[row], b[row])))\n",
    "    \n",
    "data"
   ]
  },
  {
   "cell_type": "code",
   "execution_count": 90,
   "metadata": {},
   "outputs": [
    {
     "data": {
      "text/plain": [
       "<matplotlib.colorbar.Colorbar at 0x227bab5eb38>"
      ]
     },
     "execution_count": 90,
     "metadata": {},
     "output_type": "execute_result"
    },
    {
     "data": {
      "image/png": "[encoded data removed]",
      "text/plain": [
       "<Figure size 432x288 with 2 Axes>"
      ]
     },
     "metadata": {},
     "output_type": "display_data"
    }
   ],
   "source": [
    "plt.imshow(data)\n",
    "plt.colorbar()"
   ]
  }
 ],
 "metadata": {
  "kernelspec": {
   "display_name": "Python 3",
   "language": "python",
   "name": "python3"
  },
  "language_info": {
   "codemirror_mode": {
    "name": "ipython",
    "version": 3
   },
   "file_extension": ".py",
   "mimetype": "text/x-python",
   "name": "python",
   "nbconvert_exporter": "python",
   "pygments_lexer": "ipython3",
   "version": "3.6.5"
  }
 },
 "nbformat": 4,
 "nbformat_minor": 2
}
