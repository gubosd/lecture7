{
 "cells": [
  {
   "cell_type": "markdown",
   "metadata": {},
   "source": [
    "## Yolo 적용을 위한 파이썬과 딥러닝 이해\n",
    "# MNIST 신경망 적용"
   ]
  },
  {
   "cell_type": "code",
   "execution_count": 1,
   "metadata": {},
   "outputs": [],
   "source": [
    "import numpy as np\n",
    "import matplotlib.pyplot as plt\n",
    "import pandas as pd"
   ]
  },
  {
   "cell_type": "markdown",
   "metadata": {},
   "source": [
    "### MNIST 불러오기"
   ]
  },
  {
   "cell_type": "code",
   "execution_count": 2,
   "metadata": {},
   "outputs": [
    {
     "name": "stderr",
     "output_type": "stream",
     "text": [
      "C:\\Anaconda3\\envs\\py36\\lib\\site-packages\\h5py\\__init__.py:36: FutureWarning: Conversion of the second argument of issubdtype from `float` to `np.floating` is deprecated. In future, it will be treated as `np.float64 == np.dtype(float).type`.\n",
      "  from ._conv import register_converters as _register_converters\n",
      "Using TensorFlow backend.\n"
     ]
    }
   ],
   "source": [
    "from keras.datasets import mnist"
   ]
  },
  {
   "cell_type": "code",
   "execution_count": 3,
   "metadata": {},
   "outputs": [],
   "source": [
    "(X_train, y_train), (X_test, y_test) = mnist.load_data()"
   ]
  },
  {
   "cell_type": "code",
   "execution_count": 4,
   "metadata": {},
   "outputs": [
    {
     "data": {
      "text/plain": [
       "((60000, 28, 28), (60000,), (10000, 28, 28), (10000,))"
      ]
     },
     "execution_count": 4,
     "metadata": {},
     "output_type": "execute_result"
    }
   ],
   "source": [
    "X_train.shape, y_train.shape, X_test.shape, y_test.shape"
   ]
  },
  {
   "cell_type": "code",
   "execution_count": 5,
   "metadata": {},
   "outputs": [
    {
     "data": {
      "text/plain": [
       "255"
      ]
     },
     "execution_count": 5,
     "metadata": {},
     "output_type": "execute_result"
    }
   ],
   "source": [
    "X_train.max()"
   ]
  },
  {
   "cell_type": "code",
   "execution_count": 6,
   "metadata": {},
   "outputs": [
    {
     "data": {
      "text/plain": [
       "Text(0.5,1,'5')"
      ]
     },
     "execution_count": 6,
     "metadata": {},
     "output_type": "execute_result"
    },
    {
     "data": {
      "image/png": "[encoded data removed]",
      "text/plain": [
       "<Figure size 432x288 with 1 Axes>"
      ]
     },
     "metadata": {},
     "output_type": "display_data"
    }
   ],
   "source": [
    "plt.imshow(X_train[0], cmap='gray_r')\n",
    "plt.title(y_train[0])"
   ]
  },
  {
   "cell_type": "markdown",
   "metadata": {},
   "source": [
    "### 데이터 전처리\n",
    "- 값을 0~1 사이로 변환\n",
    "- 28X28 이미지를 옆으로 펼친다.\n",
    "- y 값은 원핫인코딩으로 바꾼다. (5 => [0,0,0,0,0,1,0,0,0,0])"
   ]
  },
  {
   "cell_type": "code",
   "execution_count": 7,
   "metadata": {},
   "outputs": [],
   "source": [
    "X_train = X_train.reshape(-1, 28*28)/255.\n",
    "X_test = X_test.reshape(-1, 28*28)/255.\n",
    "y_train = pd.get_dummies(y_train).values\n",
    "y_test = pd.get_dummies(y_test).values"
   ]
  },
  {
   "cell_type": "code",
   "execution_count": 8,
   "metadata": {},
   "outputs": [
    {
     "data": {
      "text/plain": [
       "((60000, 784), (60000, 10), (10000, 784), (10000, 10))"
      ]
     },
     "execution_count": 8,
     "metadata": {},
     "output_type": "execute_result"
    }
   ],
   "source": [
    "X_train.shape, y_train.shape, X_test.shape, y_test.shape"
   ]
  },
  {
   "cell_type": "code",
   "execution_count": 9,
   "metadata": {},
   "outputs": [
    {
     "data": {
      "text/plain": [
       "1.0"
      ]
     },
     "execution_count": 9,
     "metadata": {},
     "output_type": "execute_result"
    }
   ],
   "source": [
    "X_train.max()"
   ]
  },
  {
   "cell_type": "code",
   "execution_count": 10,
   "metadata": {},
   "outputs": [
    {
     "data": {
      "text/plain": [
       "array([[0, 0, 0, 0, 0, 1, 0, 0, 0, 0],\n",
       "       [1, 0, 0, 0, 0, 0, 0, 0, 0, 0],\n",
       "       [0, 0, 0, 0, 1, 0, 0, 0, 0, 0]], dtype=uint8)"
      ]
     },
     "execution_count": 10,
     "metadata": {},
     "output_type": "execute_result"
    }
   ],
   "source": [
    "y_train[:3]"
   ]
  },
  {
   "cell_type": "markdown",
   "metadata": {},
   "source": [
    "<img src='https://mmlind.github.io/images/1lnn_input.svg' />\n",
    "(출처: https://mmlind.github.io/Simple_1-Layer_Neural_Network_for_MNIST_Handwriting_Recognition/)\n",
    "- 그림에서 픽셀 갯수가 잘못 표기됨 (784가 맞음)"
   ]
  },
  {
   "cell_type": "markdown",
   "metadata": {},
   "source": [
    "<img src='https://mmlind.github.io/images/1lnn_nnlayer.svg' />\n",
    "(출처: https://mmlind.github.io/Simple_1-Layer_Neural_Network_for_MNIST_Handwriting_Recognition/)"
   ]
  },
  {
   "cell_type": "markdown",
   "metadata": {},
   "source": [
    "- 픽셀 수가 784 이므로 속성 갯수가 784인 경우이다.\n",
    "- w1, w2, w3, ..., w784, b\n",
    "- w1\\*x1 + w2\\*x2 + ... + w784\\*x784 + b"
   ]
  },
  {
   "cell_type": "markdown",
   "metadata": {},
   "source": [
    "### 타겟 클래스가 10개\n",
    "- 이전 예제에서는 청소년/어른 으로 클래스가 2개였다.\n",
    "- 하지만 MNIST 에서는 0~9 로 타겟 클래스가 총 10개 이다."
   ]
  },
  {
   "cell_type": "markdown",
   "metadata": {},
   "source": [
    "<img src='https://mmlind.github.io/images/1lnn.svg' />\n",
    "(출처: https://mmlind.github.io/Simple_1-Layer_Neural_Network_for_MNIST_Handwriting_Recognition/)"
   ]
  },
  {
   "cell_type": "markdown",
   "metadata": {},
   "source": [
    "- 타겟 클래스가 10개이므로, 가중치와 절편이 그 만큼 늘어난다.\n",
    "- 클래스값 0 => w1_1, w1_2, ..., w1_784, b1\n",
    "- 클래스값 1 -> w2_1, w2_2, ..., w2_784, b2\n",
    "- 총 가중치 = 784\\*10, 총 절편 = 10"
   ]
  },
  {
   "cell_type": "markdown",
   "metadata": {},
   "source": [
    "### 손실값 정의"
   ]
  },
  {
   "cell_type": "markdown",
   "metadata": {},
   "source": [
    "<img src='https://mmlind.github.io/images/1lnn_full.svg' />\n",
    "(출처: https://mmlind.github.io/Simple_1-Layer_Neural_Network_for_MNIST_Handwriting_Recognition/)"
   ]
  },
  {
   "cell_type": "markdown",
   "metadata": {},
   "source": [
    "- 위와 같은 결과를 얻었을 때, 손실값을 어떻게 계산할까?\n",
    "- mse = (0.003126 - 0)^2 + ... + (0.682134 - 1)^2 + ...\n",
    "- 위와 같이 mse 를 적용할 수 있다.\n",
    "- 하지만, 이런 멀티 클래스의 경우에는 다른 손실값을 적용하는 것이 일반적이다.\n",
    "- 위 그림은 숫자 6을 판별한 것이다. 그러므로 결과값은 6 위치만 값이 1이다.\n",
    "> cross_entropy = -log(0.682134), 입력 이미지 1개에 대한 손실값\n",
    "- 입력 이미지가 많으므로 각각의 크로스엔트로피를 모두 더한 것이 최종값이다.\n",
    "> $ cross\\_entropy = \\sum_i {-log(해당숫자의 예측값)} $"
   ]
  },
  {
   "cell_type": "markdown",
   "metadata": {},
   "source": [
    "### Softmax 함수"
   ]
  },
  {
   "cell_type": "markdown",
   "metadata": {},
   "source": [
    "<img src='https://encrypted-tbn0.gstatic.com/images?q=tbn:ANd9GcQ6QRL4yW5p4j634dzSyjZWMWWCGXaU_MZVnqDq_HErnH5RCCIizQ' />\n",
    "(출처 : https://www.google.com/search?tbm=isch&sa=1&ei=VFNCXfrICcybmAWZw6_ACQ&q=mnist+softmax&oq=mnist+softmax&gs_l=img.3..0i24l3.528.3330..3872...0.0..1.585.3193.0j1j5j2j1j1......0....1..gws-wiz-img.uKr_Bjki0oA&ved=0ahUKEwj6wvvf1ODjAhXMDaYKHZnhC5gQ4dUDCAY&uact=5#imgrc=Bwc55tfbS2SjXM:)"
   ]
  },
  {
   "cell_type": "markdown",
   "metadata": {},
   "source": [
    "- 실제로는 위와 같이 마지막 출력값을 내기 전에 softmax 라는 함수를 적용하여 출력값을 바꾸어 준다."
   ]
  },
  {
   "cell_type": "markdown",
   "metadata": {},
   "source": [
    "<img src='https://i.ytimg.com/vi/lvNdl7yg4Pg/maxresdefault.jpg' />\n",
    "(출처: https://www.youtube.com/watch?v=lvNdl7yg4Pg)"
   ]
  },
  {
   "cell_type": "markdown",
   "metadata": {},
   "source": [
    "- 출력값이 [2,1,0.1] 일때, 각각에 exponential 지수를 적용한 값의 비율을 구한 것이 softmax 이다.\n",
    "- softmax 를 적용하면 최종 출력값을 모두 더하면 1이 된다. (즉 확률 개념이 된다.)"
   ]
  },
  {
   "cell_type": "markdown",
   "metadata": {},
   "source": [
    "### Keras 로 구현"
   ]
  },
  {
   "cell_type": "markdown",
   "metadata": {},
   "source": [
    "<img src='mnist_nn.jpg' />\n",
    "(출처: http://users.jyu.fi/~olkhriye/ties4911/lectures/Lecture03.pdf )<br>\n",
    "<img src='https://image.slidesharecdn.com/tensorflowppt-160408142819/95/tensorflow-5-638.jpg?cb=1460125744' />\n",
    "(출처: https://www.slideshare.net/jirimaterna/tensorflow-60661959 )"
   ]
  },
  {
   "cell_type": "code",
   "execution_count": 12,
   "metadata": {},
   "outputs": [],
   "source": [
    "from keras.models import Sequential\n",
    "from keras.layers import Dense"
   ]
  },
  {
   "cell_type": "code",
   "execution_count": 16,
   "metadata": {},
   "outputs": [],
   "source": [
    "model = Sequential()\n",
    "model.add(Dense(10, activation='softmax'))"
   ]
  },
  {
   "cell_type": "code",
   "execution_count": 17,
   "metadata": {},
   "outputs": [],
   "source": [
    "model.compile(loss='categorical_crossentropy', optimizer='sgd', metrics=['acc'])"
   ]
  },
  {
   "cell_type": "code",
   "execution_count": 18,
   "metadata": {},
   "outputs": [
    {
     "name": "stdout",
     "output_type": "stream",
     "text": [
      "Train on 48000 samples, validate on 12000 samples\n",
      "Epoch 1/50\n",
      "48000/48000 [==============================] - 4s 81us/step - loss: 1.4029 - acc: 0.6526 - val_loss: 0.9003 - val_acc: 0.8222\n",
      "Epoch 2/50\n",
      "48000/48000 [==============================] - 3s 69us/step - loss: 0.7954 - acc: 0.8286 - val_loss: 0.6587 - val_acc: 0.8586\n",
      "Epoch 3/50\n",
      "48000/48000 [==============================] - 3s 69us/step - loss: 0.6430 - acc: 0.8522 - val_loss: 0.5620 - val_acc: 0.8708\n",
      "Epoch 4/50\n",
      "48000/48000 [==============================] - 3s 70us/step - loss: 0.5698 - acc: 0.8628 - val_loss: 0.5088 - val_acc: 0.8791\n",
      "Epoch 5/50\n",
      "48000/48000 [==============================] - 3s 69us/step - loss: 0.5255 - acc: 0.8697 - val_loss: 0.4746 - val_acc: 0.8840\n",
      "Epoch 6/50\n",
      "48000/48000 [==============================] - 3s 70us/step - loss: 0.4951 - acc: 0.8747 - val_loss: 0.4503 - val_acc: 0.8875\n",
      "Epoch 7/50\n",
      "48000/48000 [==============================] - 3s 70us/step - loss: 0.4728 - acc: 0.8788 - val_loss: 0.4322 - val_acc: 0.8910\n",
      "Epoch 8/50\n",
      "48000/48000 [==============================] - 3s 71us/step - loss: 0.4554 - acc: 0.8814 - val_loss: 0.4178 - val_acc: 0.8938\n",
      "Epoch 9/50\n",
      "48000/48000 [==============================] - 3s 71us/step - loss: 0.4413 - acc: 0.8840 - val_loss: 0.4066 - val_acc: 0.8946\n",
      "Epoch 10/50\n",
      "48000/48000 [==============================] - 3s 72us/step - loss: 0.4299 - acc: 0.8863 - val_loss: 0.3967 - val_acc: 0.8970\n",
      "Epoch 11/50\n",
      "48000/48000 [==============================] - 3s 70us/step - loss: 0.4201 - acc: 0.8884 - val_loss: 0.3888 - val_acc: 0.8978\n",
      "Epoch 12/50\n",
      "48000/48000 [==============================] - 3s 70us/step - loss: 0.4117 - acc: 0.8901 - val_loss: 0.3816 - val_acc: 0.8991\n",
      "Epoch 13/50\n",
      "48000/48000 [==============================] - 3s 69us/step - loss: 0.4044 - acc: 0.8913 - val_loss: 0.3757 - val_acc: 0.9008\n",
      "Epoch 14/50\n",
      "48000/48000 [==============================] - 3s 69us/step - loss: 0.3979 - acc: 0.8927 - val_loss: 0.3703 - val_acc: 0.9007\n",
      "Epoch 15/50\n",
      "48000/48000 [==============================] - 3s 71us/step - loss: 0.3922 - acc: 0.8940 - val_loss: 0.3654 - val_acc: 0.9030\n",
      "Epoch 16/50\n",
      "48000/48000 [==============================] - 3s 70us/step - loss: 0.3870 - acc: 0.8949 - val_loss: 0.3615 - val_acc: 0.9030\n",
      "Epoch 17/50\n",
      "48000/48000 [==============================] - 3s 69us/step - loss: 0.3824 - acc: 0.8955 - val_loss: 0.3573 - val_acc: 0.9041\n",
      "Epoch 18/50\n",
      "48000/48000 [==============================] - 3s 70us/step - loss: 0.3781 - acc: 0.8965 - val_loss: 0.3537 - val_acc: 0.9053\n",
      "Epoch 19/50\n",
      "48000/48000 [==============================] - 3s 70us/step - loss: 0.3742 - acc: 0.8974 - val_loss: 0.3506 - val_acc: 0.9059\n",
      "Epoch 20/50\n",
      "48000/48000 [==============================] - 3s 69us/step - loss: 0.3706 - acc: 0.8981 - val_loss: 0.3477 - val_acc: 0.9073\n",
      "Epoch 21/50\n",
      "48000/48000 [==============================] - 3s 69us/step - loss: 0.3673 - acc: 0.8989 - val_loss: 0.3447 - val_acc: 0.9078\n",
      "Epoch 22/50\n",
      "48000/48000 [==============================] - 3s 70us/step - loss: 0.3643 - acc: 0.8993 - val_loss: 0.3423 - val_acc: 0.9081\n",
      "Epoch 23/50\n",
      "48000/48000 [==============================] - 3s 69us/step - loss: 0.3614 - acc: 0.9004 - val_loss: 0.3398 - val_acc: 0.9083\n",
      "Epoch 24/50\n",
      "48000/48000 [==============================] - 3s 69us/step - loss: 0.3587 - acc: 0.9010 - val_loss: 0.3378 - val_acc: 0.9086\n",
      "Epoch 25/50\n",
      "48000/48000 [==============================] - 3s 70us/step - loss: 0.3562 - acc: 0.9014 - val_loss: 0.3356 - val_acc: 0.9094\n",
      "Epoch 26/50\n",
      "48000/48000 [==============================] - 3s 69us/step - loss: 0.3538 - acc: 0.9020 - val_loss: 0.3337 - val_acc: 0.9091\n",
      "Epoch 27/50\n",
      "48000/48000 [==============================] - 3s 69us/step - loss: 0.3516 - acc: 0.9020 - val_loss: 0.3318 - val_acc: 0.9096\n",
      "Epoch 28/50\n",
      "48000/48000 [==============================] - 3s 70us/step - loss: 0.3495 - acc: 0.9029 - val_loss: 0.3302 - val_acc: 0.9104\n",
      "Epoch 29/50\n",
      "48000/48000 [==============================] - 3s 69us/step - loss: 0.3475 - acc: 0.9035 - val_loss: 0.3284 - val_acc: 0.9108\n",
      "Epoch 30/50\n",
      "48000/48000 [==============================] - 3s 69us/step - loss: 0.3456 - acc: 0.9037 - val_loss: 0.3270 - val_acc: 0.9102\n",
      "Epoch 31/50\n",
      "48000/48000 [==============================] - 3s 71us/step - loss: 0.3438 - acc: 0.9046 - val_loss: 0.3255 - val_acc: 0.9113\n",
      "Epoch 32/50\n",
      "48000/48000 [==============================] - 3s 72us/step - loss: 0.3421 - acc: 0.9051 - val_loss: 0.3241 - val_acc: 0.9113\n",
      "Epoch 33/50\n",
      "48000/48000 [==============================] - 3s 69us/step - loss: 0.3404 - acc: 0.9054 - val_loss: 0.3227 - val_acc: 0.9118\n",
      "Epoch 34/50\n",
      "48000/48000 [==============================] - 3s 69us/step - loss: 0.3389 - acc: 0.9058 - val_loss: 0.3214 - val_acc: 0.9122\n",
      "Epoch 35/50\n",
      "48000/48000 [==============================] - 3s 69us/step - loss: 0.3374 - acc: 0.9064 - val_loss: 0.3202 - val_acc: 0.9119\n",
      "Epoch 36/50\n",
      "48000/48000 [==============================] - 3s 70us/step - loss: 0.3359 - acc: 0.9067 - val_loss: 0.3192 - val_acc: 0.9119\n",
      "Epoch 37/50\n",
      "48000/48000 [==============================] - 4s 75us/step - loss: 0.3345 - acc: 0.9068 - val_loss: 0.3180 - val_acc: 0.9123\n",
      "Epoch 38/50\n",
      "48000/48000 [==============================] - 3s 69us/step - loss: 0.3332 - acc: 0.9076 - val_loss: 0.3169 - val_acc: 0.9127\n",
      "Epoch 39/50\n",
      "48000/48000 [==============================] - 3s 69us/step - loss: 0.3319 - acc: 0.9078 - val_loss: 0.3160 - val_acc: 0.9130\n",
      "Epoch 40/50\n",
      "48000/48000 [==============================] - 3s 70us/step - loss: 0.3307 - acc: 0.9080 - val_loss: 0.3149 - val_acc: 0.9135\n",
      "Epoch 41/50\n",
      "48000/48000 [==============================] - 3s 70us/step - loss: 0.3295 - acc: 0.9083 - val_loss: 0.3140 - val_acc: 0.9138\n",
      "Epoch 42/50\n",
      "48000/48000 [==============================] - 3s 69us/step - loss: 0.3284 - acc: 0.9088 - val_loss: 0.3130 - val_acc: 0.9138\n",
      "Epoch 43/50\n",
      "48000/48000 [==============================] - 3s 69us/step - loss: 0.3273 - acc: 0.9086 - val_loss: 0.3122 - val_acc: 0.9144\n",
      "Epoch 44/50\n",
      "48000/48000 [==============================] - 3s 69us/step - loss: 0.3263 - acc: 0.9090 - val_loss: 0.3113 - val_acc: 0.9142\n",
      "Epoch 45/50\n",
      "48000/48000 [==============================] - 3s 70us/step - loss: 0.3252 - acc: 0.9094 - val_loss: 0.3105 - val_acc: 0.9148\n",
      "Epoch 46/50\n",
      "48000/48000 [==============================] - 3s 71us/step - loss: 0.3242 - acc: 0.9100 - val_loss: 0.3098 - val_acc: 0.9152\n",
      "Epoch 47/50\n",
      "48000/48000 [==============================] - 3s 69us/step - loss: 0.3232 - acc: 0.9096 - val_loss: 0.3089 - val_acc: 0.9146\n",
      "Epoch 48/50\n",
      "48000/48000 [==============================] - 3s 69us/step - loss: 0.3223 - acc: 0.9101 - val_loss: 0.3082 - val_acc: 0.9150\n",
      "Epoch 49/50\n",
      "48000/48000 [==============================] - 3s 70us/step - loss: 0.3214 - acc: 0.9108 - val_loss: 0.3076 - val_acc: 0.9151\n",
      "Epoch 50/50\n",
      "48000/48000 [==============================] - 3s 69us/step - loss: 0.3205 - acc: 0.9111 - val_loss: 0.3068 - val_acc: 0.9150\n"
     ]
    }
   ],
   "source": [
    "history = model.fit(X_train, y_train, batch_size=128, epochs=50, validation_split=0.2)"
   ]
  },
  {
   "cell_type": "code",
   "execution_count": 22,
   "metadata": {},
   "outputs": [
    {
     "data": {
      "text/plain": [
       "<matplotlib.legend.Legend at 0x2118ea9e208>"
      ]
     },
     "execution_count": 22,
     "metadata": {},
     "output_type": "execute_result"
    },
    {
     "data": {
      "image/png": "[encoded data removed]",
      "text/plain": [
       "<Figure size 432x288 with 1 Axes>"
      ]
     },
     "metadata": {},
     "output_type": "display_data"
    }
   ],
   "source": [
    "plt.plot(history.history['loss'])\n",
    "plt.plot(history.history['val_loss'])\n",
    "plt.title('Loss')\n",
    "plt.xlabel('epoch')\n",
    "plt.legend(['loss','val_loss'])"
   ]
  },
  {
   "cell_type": "code",
   "execution_count": 24,
   "metadata": {},
   "outputs": [
    {
     "data": {
      "text/plain": [
       "<matplotlib.legend.Legend at 0x2118eb5b470>"
      ]
     },
     "execution_count": 24,
     "metadata": {},
     "output_type": "execute_result"
    },
    {
     "data": {
      "image/png": "[encoded data removed]",
      "text/plain": [
       "<Figure size 432x288 with 1 Axes>"
      ]
     },
     "metadata": {},
     "output_type": "display_data"
    }
   ],
   "source": [
    "plt.plot(history.history['acc'])\n",
    "plt.plot(history.history['val_acc'])\n",
    "plt.title('Validation Accuracy')\n",
    "plt.xlabel('epoch')\n",
    "plt.legend(['acc','val_acc'])"
   ]
  },
  {
   "cell_type": "markdown",
   "metadata": {},
   "source": [
    "### 가중치 분석\n",
    "- 하나의 타겟 클래스로 향하는 화살표를 보면 모두 784개이다.\n",
    "- 화살표 마다 가중치가 하나씩 있으므로 클래스 마다 28X28 인 이미지로 표시할 수 있다."
   ]
  },
  {
   "cell_type": "code",
   "execution_count": 25,
   "metadata": {},
   "outputs": [],
   "source": [
    "ws = model.get_weights()"
   ]
  },
  {
   "cell_type": "code",
   "execution_count": 27,
   "metadata": {},
   "outputs": [
    {
     "data": {
      "text/plain": [
       "(784, 10)"
      ]
     },
     "execution_count": 27,
     "metadata": {},
     "output_type": "execute_result"
    }
   ],
   "source": [
    "ws[0].shape"
   ]
  },
  {
   "cell_type": "code",
   "execution_count": 32,
   "metadata": {},
   "outputs": [
    {
     "data": {
      "image/png": "[encoded data removed]",
      "text/plain": [
       "<Figure size 864x720 with 20 Axes>"
      ]
     },
     "metadata": {},
     "output_type": "display_data"
    }
   ],
   "source": [
    "plt.figure(figsize=[12,10])\n",
    "\n",
    "for i in range(10):\n",
    "    plt.subplot(3,4,i+1)\n",
    "    plt.imshow(ws[0][:,i].reshape(28,28), cmap='bwr')\n",
    "    plt.axis('off')\n",
    "    plt.title(i)\n",
    "    plt.colorbar()"
   ]
  },
  {
   "cell_type": "markdown",
   "metadata": {},
   "source": [
    "### 중간층 추가 (Hidden Layer)\n",
    "- 아래 그림과 같이 입력과 출력 중간에 단계를 하나 더 넣는다. (여러개를 넣을 수도 있다.)\n",
    "- 중간층의 출력값은 그냥 사용하지 않고 ReLU 함수를 적용한다."
   ]
  },
  {
   "cell_type": "markdown",
   "metadata": {},
   "source": [
    "<img src='https://ml4a.github.io/images/figures/mnist_2layers.png' />\n",
    "(출처: https://ml4a.github.io/ml4a/looking_inside_neural_nets/ )"
   ]
  },
  {
   "cell_type": "markdown",
   "metadata": {},
   "source": [
    "<img src='https://miro.medium.com/max/700/1*v88ySSMr7JLaIBjwr4chTw.jpeg' />\n",
    "(출처: https://ml4a.github.io/ml4a/looking_inside_neural_nets/ )"
   ]
  },
  {
   "cell_type": "markdown",
   "metadata": {},
   "source": [
    "- ReLU 함수"
   ]
  },
  {
   "cell_type": "code",
   "execution_count": 33,
   "metadata": {},
   "outputs": [],
   "source": [
    "def relu(t):\n",
    "    r = t\n",
    "    if r<0: r=0\n",
    "    return r"
   ]
  },
  {
   "cell_type": "code",
   "execution_count": 36,
   "metadata": {},
   "outputs": [
    {
     "data": {
      "text/plain": [
       "Text(0.5,1,'ReLU function')"
      ]
     },
     "execution_count": 36,
     "metadata": {},
     "output_type": "execute_result"
    },
    {
     "data": {
      "image/png": "[encoded data removed]",
      "text/plain": [
       "<Figure size 432x288 with 1 Axes>"
      ]
     },
     "metadata": {},
     "output_type": "display_data"
    }
   ],
   "source": [
    "rng = np.arange(-5,10,0.1)\n",
    "hgt = rng.copy()\n",
    "hgt[hgt<0] = 0\n",
    "\n",
    "plt.plot(rng, hgt)\n",
    "plt.axis('equal')\n",
    "plt.title('ReLU function')"
   ]
  },
  {
   "cell_type": "code",
   "execution_count": 41,
   "metadata": {},
   "outputs": [],
   "source": [
    "model = Sequential()\n",
    "model.add(Dense(128, activation='relu', input_shape=(28*28,))) # 128 노드, ReLU 적용\n",
    "model.add(Dense(10, activation='softmax'))"
   ]
  },
  {
   "cell_type": "code",
   "execution_count": 42,
   "metadata": {},
   "outputs": [],
   "source": [
    "model.compile(loss='categorical_crossentropy', optimizer='sgd', metrics=['acc'])"
   ]
  },
  {
   "cell_type": "code",
   "execution_count": 43,
   "metadata": {
    "scrolled": false
   },
   "outputs": [
    {
     "name": "stdout",
     "output_type": "stream",
     "text": [
      "Train on 48000 samples, validate on 12000 samples\n",
      "Epoch 1/50\n",
      "48000/48000 [==============================] - 8s 170us/step - loss: 1.3262 - acc: 0.6841 - val_loss: 0.7256 - val_acc: 0.8554\n",
      "Epoch 2/50\n",
      "48000/48000 [==============================] - 5s 114us/step - loss: 0.6193 - acc: 0.8563 - val_loss: 0.4897 - val_acc: 0.8830\n",
      "Epoch 3/50\n",
      "48000/48000 [==============================] - 5s 114us/step - loss: 0.4805 - acc: 0.8782 - val_loss: 0.4125 - val_acc: 0.8949\n",
      "Epoch 4/50\n",
      "48000/48000 [==============================] - 5s 112us/step - loss: 0.4212 - acc: 0.8889 - val_loss: 0.3732 - val_acc: 0.9006\n",
      "Epoch 5/50\n",
      "48000/48000 [==============================] - 5s 112us/step - loss: 0.3866 - acc: 0.8952 - val_loss: 0.3486 - val_acc: 0.9068\n",
      "Epoch 6/50\n",
      "48000/48000 [==============================] - 5s 113us/step - loss: 0.3629 - acc: 0.8997 - val_loss: 0.3308 - val_acc: 0.9091\n",
      "Epoch 7/50\n",
      "48000/48000 [==============================] - 5s 111us/step - loss: 0.3452 - acc: 0.9044 - val_loss: 0.3174 - val_acc: 0.9128\n",
      "Epoch 8/50\n",
      "48000/48000 [==============================] - 5s 113us/step - loss: 0.3310 - acc: 0.9082 - val_loss: 0.3059 - val_acc: 0.9144\n",
      "Epoch 9/50\n",
      "48000/48000 [==============================] - 5s 112us/step - loss: 0.3190 - acc: 0.9111 - val_loss: 0.2961 - val_acc: 0.9178\n",
      "Epoch 10/50\n",
      "48000/48000 [==============================] - 5s 113us/step - loss: 0.3087 - acc: 0.9147 - val_loss: 0.2885 - val_acc: 0.9193\n",
      "Epoch 11/50\n",
      "48000/48000 [==============================] - 5s 114us/step - loss: 0.2997 - acc: 0.9165 - val_loss: 0.2809 - val_acc: 0.9213\n",
      "Epoch 12/50\n",
      "48000/48000 [==============================] - 5s 112us/step - loss: 0.2914 - acc: 0.9187 - val_loss: 0.2753 - val_acc: 0.9232\n",
      "Epoch 13/50\n",
      "48000/48000 [==============================] - 5s 114us/step - loss: 0.2838 - acc: 0.9215 - val_loss: 0.2682 - val_acc: 0.9253\n",
      "Epoch 14/50\n",
      "48000/48000 [==============================] - 5s 112us/step - loss: 0.2771 - acc: 0.9226 - val_loss: 0.2627 - val_acc: 0.9263\n",
      "Epoch 15/50\n",
      "48000/48000 [==============================] - 6s 116us/step - loss: 0.2707 - acc: 0.9240 - val_loss: 0.2577 - val_acc: 0.9285\n",
      "Epoch 16/50\n",
      "48000/48000 [==============================] - 5s 111us/step - loss: 0.2649 - acc: 0.9263 - val_loss: 0.2527 - val_acc: 0.9295\n",
      "Epoch 17/50\n",
      "48000/48000 [==============================] - 5s 111us/step - loss: 0.2593 - acc: 0.9278 - val_loss: 0.2487 - val_acc: 0.9292\n",
      "Epoch 18/50\n",
      "48000/48000 [==============================] - 5s 113us/step - loss: 0.2541 - acc: 0.9293 - val_loss: 0.2444 - val_acc: 0.9323\n",
      "Epoch 19/50\n",
      "48000/48000 [==============================] - 6s 115us/step - loss: 0.2492 - acc: 0.9304 - val_loss: 0.2400 - val_acc: 0.9329\n",
      "Epoch 20/50\n",
      "48000/48000 [==============================] - 6s 119us/step - loss: 0.2445 - acc: 0.9318 - val_loss: 0.2364 - val_acc: 0.9348\n",
      "Epoch 21/50\n",
      "48000/48000 [==============================] - 5s 113us/step - loss: 0.2400 - acc: 0.9331 - val_loss: 0.2328 - val_acc: 0.9353\n",
      "Epoch 22/50\n",
      "48000/48000 [==============================] - 5s 113us/step - loss: 0.2356 - acc: 0.9340 - val_loss: 0.2290 - val_acc: 0.9377\n",
      "Epoch 23/50\n",
      "48000/48000 [==============================] - 6s 117us/step - loss: 0.2318 - acc: 0.9351 - val_loss: 0.2261 - val_acc: 0.9375\n",
      "Epoch 24/50\n",
      "48000/48000 [==============================] - 5s 112us/step - loss: 0.2278 - acc: 0.9363 - val_loss: 0.2225 - val_acc: 0.9387\n",
      "Epoch 25/50\n",
      "48000/48000 [==============================] - 5s 113us/step - loss: 0.2241 - acc: 0.9374 - val_loss: 0.2193 - val_acc: 0.9402\n",
      "Epoch 26/50\n",
      "48000/48000 [==============================] - 5s 110us/step - loss: 0.2206 - acc: 0.9381 - val_loss: 0.2166 - val_acc: 0.9402\n",
      "Epoch 27/50\n",
      "48000/48000 [==============================] - 5s 112us/step - loss: 0.2172 - acc: 0.9389 - val_loss: 0.2136 - val_acc: 0.9420\n",
      "Epoch 28/50\n",
      "48000/48000 [==============================] - 5s 112us/step - loss: 0.2138 - acc: 0.9395 - val_loss: 0.2115 - val_acc: 0.9430\n",
      "Epoch 29/50\n",
      "48000/48000 [==============================] - 5s 111us/step - loss: 0.2107 - acc: 0.9405 - val_loss: 0.2092 - val_acc: 0.9432\n",
      "Epoch 30/50\n",
      "48000/48000 [==============================] - 5s 113us/step - loss: 0.2076 - acc: 0.9420 - val_loss: 0.2059 - val_acc: 0.9440\n",
      "Epoch 31/50\n",
      "48000/48000 [==============================] - 5s 111us/step - loss: 0.2045 - acc: 0.9426 - val_loss: 0.2036 - val_acc: 0.9449\n",
      "Epoch 32/50\n",
      "48000/48000 [==============================] - 5s 112us/step - loss: 0.2016 - acc: 0.9436 - val_loss: 0.2014 - val_acc: 0.9449\n",
      "Epoch 33/50\n",
      "48000/48000 [==============================] - 5s 114us/step - loss: 0.1987 - acc: 0.9445 - val_loss: 0.1992 - val_acc: 0.9460\n",
      "Epoch 34/50\n",
      "48000/48000 [==============================] - 6s 116us/step - loss: 0.1960 - acc: 0.9453 - val_loss: 0.1969 - val_acc: 0.9467\n",
      "Epoch 35/50\n",
      "48000/48000 [==============================] - 5s 112us/step - loss: 0.1932 - acc: 0.9456 - val_loss: 0.1948 - val_acc: 0.9476\n",
      "Epoch 36/50\n",
      "48000/48000 [==============================] - 5s 112us/step - loss: 0.1908 - acc: 0.9462 - val_loss: 0.1927 - val_acc: 0.9486\n",
      "Epoch 37/50\n",
      "48000/48000 [==============================] - 6s 128us/step - loss: 0.1883 - acc: 0.9469 - val_loss: 0.1907 - val_acc: 0.9477\n",
      "Epoch 38/50\n",
      "48000/48000 [==============================] - 6s 118us/step - loss: 0.1859 - acc: 0.9475 - val_loss: 0.1889 - val_acc: 0.9489\n",
      "Epoch 39/50\n",
      "48000/48000 [==============================] - 6s 118us/step - loss: 0.1834 - acc: 0.9480 - val_loss: 0.1870 - val_acc: 0.9496\n",
      "Epoch 40/50\n",
      "48000/48000 [==============================] - 6s 120us/step - loss: 0.1812 - acc: 0.9486 - val_loss: 0.1850 - val_acc: 0.9508\n",
      "Epoch 41/50\n",
      "48000/48000 [==============================] - 5s 113us/step - loss: 0.1789 - acc: 0.9489 - val_loss: 0.1834 - val_acc: 0.9510\n",
      "Epoch 42/50\n",
      "48000/48000 [==============================] - 5s 113us/step - loss: 0.1767 - acc: 0.9500 - val_loss: 0.1813 - val_acc: 0.9503\n",
      "Epoch 43/50\n",
      "48000/48000 [==============================] - 5s 112us/step - loss: 0.1745 - acc: 0.9509 - val_loss: 0.1796 - val_acc: 0.9524\n",
      "Epoch 44/50\n",
      "48000/48000 [==============================] - 6s 124us/step - loss: 0.1723 - acc: 0.9511 - val_loss: 0.1783 - val_acc: 0.9517oss: 0.1725 - acc:\n",
      "Epoch 45/50\n",
      "48000/48000 [==============================] - 6s 134us/step - loss: 0.1704 - acc: 0.9517 - val_loss: 0.1766 - val_acc: 0.9522\n",
      "Epoch 46/50\n",
      "48000/48000 [==============================] - 6s 126us/step - loss: 0.1683 - acc: 0.9524 - val_loss: 0.1748 - val_acc: 0.9525\n",
      "Epoch 47/50\n",
      "48000/48000 [==============================] - 6s 133us/step - loss: 0.1664 - acc: 0.9528 - val_loss: 0.1734 - val_acc: 0.9533\n",
      "Epoch 48/50\n",
      "48000/48000 [==============================] - 6s 126us/step - loss: 0.1646 - acc: 0.9533 - val_loss: 0.1717 - val_acc: 0.9528\n",
      "Epoch 49/50\n",
      "48000/48000 [==============================] - 6s 127us/step - loss: 0.1626 - acc: 0.9541 - val_loss: 0.1707 - val_acc: 0.9528\n",
      "Epoch 50/50\n",
      "48000/48000 [==============================] - 7s 137us/step - loss: 0.1607 - acc: 0.9548 - val_loss: 0.1690 - val_acc: 0.9532\n"
     ]
    }
   ],
   "source": [
    "history = model.fit(X_train, y_train, batch_size=128, epochs=50, validation_split=0.2)"
   ]
  },
  {
   "cell_type": "code",
   "execution_count": 44,
   "metadata": {},
   "outputs": [
    {
     "data": {
      "text/plain": [
       "<matplotlib.legend.Legend at 0x2118f43a908>"
      ]
     },
     "execution_count": 44,
     "metadata": {},
     "output_type": "execute_result"
    },
    {
     "data": {
      "image/png": "[encoded data removed]",
      "text/plain": [
       "<Figure size 432x288 with 1 Axes>"
      ]
     },
     "metadata": {},
     "output_type": "display_data"
    }
   ],
   "source": [
    "plt.plot(history.history['loss'])\n",
    "plt.plot(history.history['val_loss'])\n",
    "plt.title('Loss')\n",
    "plt.xlabel('epoch')\n",
    "plt.legend(['loss','val_loss'])"
   ]
  },
  {
   "cell_type": "code",
   "execution_count": 45,
   "metadata": {},
   "outputs": [
    {
     "data": {
      "text/plain": [
       "<matplotlib.legend.Legend at 0x2118ecc9e10>"
      ]
     },
     "execution_count": 45,
     "metadata": {},
     "output_type": "execute_result"
    },
    {
     "data": {
      "image/png": "[encoded data removed]",
      "text/plain": [
       "<Figure size 432x288 with 1 Axes>"
      ]
     },
     "metadata": {},
     "output_type": "display_data"
    }
   ],
   "source": [
    "plt.plot(history.history['acc'])\n",
    "plt.plot(history.history['val_acc'])\n",
    "plt.title('Validation Accuracy')\n",
    "plt.xlabel('epoch')\n",
    "plt.legend(['acc','val_acc'])"
   ]
  },
  {
   "cell_type": "code",
   "execution_count": null,
   "metadata": {},
   "outputs": [],
   "source": []
  }
 ],
 "metadata": {
  "kernelspec": {
   "display_name": "Python 3",
   "language": "python",
   "name": "python3"
  },
  "language_info": {
   "codemirror_mode": {
    "name": "ipython",
    "version": 3
   },
   "file_extension": ".py",
   "mimetype": "text/x-python",
   "name": "python",
   "nbconvert_exporter": "python",
   "pygments_lexer": "ipython3",
   "version": "3.6.5"
  }
 },
 "nbformat": 4,
 "nbformat_minor": 2
}
