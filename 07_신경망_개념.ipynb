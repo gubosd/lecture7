{
 "cells": [
  {
   "cell_type": "markdown",
   "metadata": {},
   "source": [
    "## Yolo 적용을 위한 파이썬과 딥러닝 이해\n",
    "# 신경망 개념 (Neural Network)"
   ]
  },
  {
   "cell_type": "markdown",
   "metadata": {},
   "source": [
    "### 예제1\n",
    "- 입력값 x = [1,2,3]\n",
    "- 출력값 y = [3,5,7]\n",
    "- 입력값이 주어졌을 때 어떻게 출력값을 예측할까?\n",
    "> - y = w*x + b 이라고 가정하고, w 와 b 값을 찾는다.\n",
    "> - 여기서 w 를 **가중치**, b 를 **절편** 이라고 한다.\n",
    "> - 이 문제에서 w=2, b=1 임을 알 수 있다."
   ]
  },
  {
   "cell_type": "markdown",
   "metadata": {},
   "source": [
    "### 예제2\n",
    "- 입력값 x = [1,2,3]\n",
    "- 출력값 y = [3,5,9]\n",
    "- 이 경우는 어떻게 예측할까?\n",
    "> - 위와 마찬가지로 y = w*x + b 이라고 가정한다.\n",
    "> - 하지만 딱 맞아떨어지는 w 와 b 값을 찾지 못한다.\n",
    "> - 예측값 = 2*x + 1 이라고 놓아 보자.\n",
    "> - 그러면, 예측값 = [3,5,7] 이 된다."
   ]
  },
  {
   "cell_type": "markdown",
   "metadata": {},
   "source": [
    "### 손실값(에러) 정의\n",
    "- 예측값과 실제값(y)의 차이를 수치화한다.\n",
    "- 절대값 에러 : [3,5,7] 과 [3,5,9] 의 차이값 => [0,0,2] 이 된다. => 평균하면 2/3\n",
    "- 제곱 에러 : 차이값 => [0,0,2] => 제곱해서 평균하면 4/3\n",
    "- 이렇게 손실값을 정의하고, **에러를 가장 적게 만드는 w 와 b 를 찾는다**.\n",
    "> - MAE : Mean Absolute Error, 절대값 평균 에러\n",
    "> - MSE : Mean Squared Error, 제곱값 평균 에러\n",
    "> - 손실값 : 영어로 Loss 또는 Error"
   ]
  },
  {
   "cell_type": "markdown",
   "metadata": {},
   "source": [
    "### 파이썬으로 구현"
   ]
  },
  {
   "cell_type": "code",
   "execution_count": 2,
   "metadata": {},
   "outputs": [],
   "source": [
    "import numpy as np\n",
    "import matplotlib.pyplot as plt\n",
    "import pandas as pd"
   ]
  },
  {
   "cell_type": "code",
   "execution_count": 4,
   "metadata": {},
   "outputs": [
    {
     "name": "stdout",
     "output_type": "stream",
     "text": [
      "[3 5 7]\n",
      "[3 5 9]\n"
     ]
    }
   ],
   "source": [
    "x = np.array([1,2,3])\n",
    "y = np.array([3,5,9])\n",
    "\n",
    "w = 2\n",
    "b = 1\n",
    "\n",
    "예측값 = w*x + b\n",
    "\n",
    "print(예측값)\n",
    "print(y)"
   ]
  },
  {
   "cell_type": "code",
   "execution_count": 6,
   "metadata": {},
   "outputs": [
    {
     "name": "stdout",
     "output_type": "stream",
     "text": [
      "0.6666666666666666 1.3333333333333333\n"
     ]
    }
   ],
   "source": [
    "mae = np.abs(예측값 - y).mean()\n",
    "mse = np.square(예측값 - y).mean()\n",
    "\n",
    "print(mae, mse)"
   ]
  },
  {
   "cell_type": "markdown",
   "metadata": {},
   "source": [
    "### 해결해야 할 이슈\n",
    "- 손실값을 MSE 로 계산할 때 1.33 이 된다.\n",
    "- 이 값을 0 으로 만들고 싶다. 그러면 w 와 b 값을 어떻게 구할 수 있을까?\n",
    "- 실제 해결 방법은 아주 무식하다. w 와 b 값을 조금씩 바꿔가면서 가장 손실값이 적은 쪽으로 바꿔 나간다.\n",
    "- 현재 w=2, b=1 이다. w=2.1 로 바꾸어 보자."
   ]
  },
  {
   "cell_type": "code",
   "execution_count": 7,
   "metadata": {},
   "outputs": [
    {
     "name": "stdout",
     "output_type": "stream",
     "text": [
      "0.9799999999999992\n"
     ]
    }
   ],
   "source": [
    "w = 2.1\n",
    "예측값 = w*x + b\n",
    "mse = np.square(예측값 - y).mean()\n",
    "print(mse)"
   ]
  },
  {
   "cell_type": "markdown",
   "metadata": {},
   "source": [
    "- w 를 1.9 로 바꾸어 보자."
   ]
  },
  {
   "cell_type": "code",
   "execution_count": 8,
   "metadata": {},
   "outputs": [
    {
     "name": "stdout",
     "output_type": "stream",
     "text": [
      "1.7800000000000011\n"
     ]
    }
   ],
   "source": [
    "w = 1.9\n",
    "예측값 = w*x + b\n",
    "mse = np.square(예측값 - y).mean()\n",
    "print(mse)"
   ]
  },
  {
   "cell_type": "markdown",
   "metadata": {},
   "source": [
    "- 결과는 w 를 2.1 로 바꾸니 손실값이 줄어들었다.\n",
    "- 이런 과정을 계속 반복해서 더이상 손실값이 줄어들지 않을 때 까지 수행한다.\n",
    "- 무식한 방법이지만, 이런 반복 작업은 컴퓨터가 아주 잘하는 분야이다.\n",
    "> 이런 해결방법(알고리즘)을 확률적 경사하강법(Stochastic Gradient Descent) 라고 한다."
   ]
  },
  {
   "cell_type": "markdown",
   "metadata": {},
   "source": [
    "### 케라스로 답 찾기"
   ]
  },
  {
   "cell_type": "code",
   "execution_count": 11,
   "metadata": {},
   "outputs": [],
   "source": [
    "from keras.models import Sequential\n",
    "from keras.layers import Dense\n",
    "\n",
    "model = Sequential()\n",
    "model.add(Dense(1, input_shape=(1,)))"
   ]
  },
  {
   "cell_type": "code",
   "execution_count": 12,
   "metadata": {},
   "outputs": [
    {
     "name": "stdout",
     "output_type": "stream",
     "text": [
      "Epoch 1/20\n",
      "3/3 [==============================] - 0s 133ms/step - loss: 14.4751 - acc: 0.0000e+00\n",
      "Epoch 2/20\n",
      "3/3 [==============================] - 0s 2ms/step - loss: 11.5163 - acc: 0.0000e+00\n",
      "Epoch 3/20\n",
      "3/3 [==============================] - 0s 4ms/step - loss: 9.1774 - acc: 0.0000e+00\n",
      "Epoch 4/20\n",
      "3/3 [==============================] - 0s 3ms/step - loss: 7.3285 - acc: 0.0000e+00\n",
      "Epoch 5/20\n",
      "3/3 [==============================] - 0s 3ms/step - loss: 5.8669 - acc: 0.0000e+00\n",
      "Epoch 6/20\n",
      "3/3 [==============================] - 0s 2ms/step - loss: 4.7115 - acc: 0.0000e+00\n",
      "Epoch 7/20\n",
      "3/3 [==============================] - 0s 1ms/step - loss: 3.7981 - acc: 0.0000e+00\n",
      "Epoch 8/20\n",
      "3/3 [==============================] - 0s 3ms/step - loss: 3.0759 - acc: 0.0000e+00\n",
      "Epoch 9/20\n",
      "3/3 [==============================] - 0s 2ms/step - loss: 2.5049 - acc: 0.0000e+00\n",
      "Epoch 10/20\n",
      "3/3 [==============================] - 0s 2ms/step - loss: 2.0535 - acc: 0.3333\n",
      "Epoch 11/20\n",
      "3/3 [==============================] - 0s 4ms/step - loss: 1.6965 - acc: 0.6667\n",
      "Epoch 12/20\n",
      "3/3 [==============================] - 0s 2ms/step - loss: 1.4142 - acc: 0.6667\n",
      "Epoch 13/20\n",
      "3/3 [==============================] - 0s 5ms/step - loss: 1.1910 - acc: 0.6667\n",
      "Epoch 14/20\n",
      "3/3 [==============================] - 0s 1ms/step - loss: 1.0144 - acc: 0.6667\n",
      "Epoch 15/20\n",
      "3/3 [==============================] - 0s 1ms/step - loss: 0.8746 - acc: 0.6667\n",
      "Epoch 16/20\n",
      "3/3 [==============================] - 0s 2ms/step - loss: 0.7641 - acc: 0.6667\n",
      "Epoch 17/20\n",
      "3/3 [==============================] - 0s 2ms/step - loss: 0.6765 - acc: 0.6667\n",
      "Epoch 18/20\n",
      "3/3 [==============================] - 0s 2ms/step - loss: 0.6072 - acc: 0.6667\n",
      "Epoch 19/20\n",
      "3/3 [==============================] - 0s 2ms/step - loss: 0.5523 - acc: 0.6667\n",
      "Epoch 20/20\n",
      "3/3 [==============================] - 0s 3ms/step - loss: 0.5088 - acc: 0.6667\n"
     ]
    },
    {
     "data": {
      "text/plain": [
       "<keras.callbacks.History at 0x2071ee5eb38>"
      ]
     },
     "execution_count": 12,
     "metadata": {},
     "output_type": "execute_result"
    }
   ],
   "source": [
    "model.compile(loss='mse', optimizer='sgd', metrics=['acc'])\n",
    "model.fit(x.reshape(-1,1), y, epochs=20) # 입력값은 [[1], [2], [3]] 형태로 변환해야 함"
   ]
  },
  {
   "cell_type": "code",
   "execution_count": 13,
   "metadata": {},
   "outputs": [
    {
     "data": {
      "text/plain": [
       "array([[2.9872653],\n",
       "       [5.43917  ],\n",
       "       [7.8910747]], dtype=float32)"
      ]
     },
     "execution_count": 13,
     "metadata": {},
     "output_type": "execute_result"
    }
   ],
   "source": [
    "model.predict(x.reshape(-1,1))"
   ]
  },
  {
   "cell_type": "code",
   "execution_count": 14,
   "metadata": {},
   "outputs": [
    {
     "data": {
      "text/plain": [
       "[array([[2.4519045]], dtype=float32), array([0.5353609], dtype=float32)]"
      ]
     },
     "execution_count": 14,
     "metadata": {},
     "output_type": "execute_result"
    }
   ],
   "source": [
    "ws = model.get_weights()\n",
    "ws"
   ]
  },
  {
   "cell_type": "markdown",
   "metadata": {},
   "source": [
    "- 예측값 = [2.99, 5.44, 7.90]\n",
    "- w = 2.45, b = 0.54"
   ]
  },
  {
   "cell_type": "code",
   "execution_count": 21,
   "metadata": {},
   "outputs": [
    {
     "data": {
      "text/plain": [
       "Text(0.5,0,'epoch')"
      ]
     },
     "execution_count": 21,
     "metadata": {},
     "output_type": "execute_result"
    },
    {
     "data": {
      "image/png": "[encoded data removed]",
      "text/plain": [
       "<Figure size 432x288 with 1 Axes>"
      ]
     },
     "metadata": {},
     "output_type": "display_data"
    }
   ],
   "source": [
    "plt.plot(model.history.history['loss'])\n",
    "plt.title('Loss')\n",
    "plt.xlabel('epoch')"
   ]
  },
  {
   "cell_type": "markdown",
   "metadata": {},
   "source": [
    "### 입력값의 속성이 여러개일 때\n",
    "<img src='https://miro.medium.com/max/1280/1*n9_4oGTvkmve9ZM07kkQXw.png' />\n",
    "(출처: https://becominghuman.ai/from-perceptron-to-deep-neural-nets-504b8ff616e)"
   ]
  },
  {
   "cell_type": "markdown",
   "metadata": {},
   "source": [
    "- 앞에서 x=[1,2,3] 과 같이 한 항목이 숫자 하나였다.\n",
    "- 키와 몸무게를 가지고 나이를 예측하는 문제를 생각해 보자.\n",
    "- 그러면 입력값은 (키, 몸무게) 이고, 결과값은 나이 가 된다.\n",
    "> - X = [[170,68], [162,53], [182,77]]\n",
    "> - y = [22, 28, 31]\n",
    "> - 키를 x1, 몸무게를 x2 라고 하자. (각각을 속성이라 한다.)\n",
    "> - 예측값 = w1 \\* x1 + w2 \\* x2 + b\n",
    "- 이와 같이 속성이 두개이므로, 가중치도 w1, w2 두개가 된다."
   ]
  },
  {
   "cell_type": "code",
   "execution_count": 25,
   "metadata": {},
   "outputs": [
    {
     "name": "stdout",
     "output_type": "stream",
     "text": [
      "[30.9 27.1 33.9]\n"
     ]
    }
   ],
   "source": [
    "X = np.array([[170,68],\n",
    "              [162,53],\n",
    "              [182,77]])\n",
    "y = np.array([22, 28, 31])\n",
    "\n",
    "w = [0.1, 0.2] # [w1, w2] 의 초기값 설정\n",
    "b = 0.3\n",
    "\n",
    "예측값 = (X*w).sum(axis=1) + b\n",
    "print(예측값)"
   ]
  },
  {
   "cell_type": "code",
   "execution_count": 26,
   "metadata": {},
   "outputs": [
    {
     "name": "stdout",
     "output_type": "stream",
     "text": [
      "29.476666666666677\n"
     ]
    }
   ],
   "source": [
    "mse = np.square(예측값 - y).mean()\n",
    "print(mse)"
   ]
  },
  {
   "cell_type": "markdown",
   "metadata": {},
   "source": [
    "- 이제 컴퓨터가 잘하는 대로 w1, w2, b 값을 반복적으로 찾으면 된다."
   ]
  },
  {
   "cell_type": "markdown",
   "metadata": {},
   "source": [
    "#### 연습문제\n",
    "- 위의 경우를 keras 로 풀어보자."
   ]
  },
  {
   "cell_type": "markdown",
   "metadata": {},
   "source": [
    "### 청소년 혹은 어른? (분류 문제)\n",
    "- 입력값은 그대로 사용하되, 결과값을 청소년(0), 어른(1) 을 판별하는 문제로 바꾸어 보자.\n",
    "> - X = [[170,68], [162,53], [182,77]]\n",
    "> - y = [0, 0, 1]\n",
    "- 이럴 때에는 결과값이 항상 0 과 1 이므로, 예측값을 0과 1 사이로 맞추는 것이 좋아보인다.\n",
    "- 위에서 예측값은 [30.9 27.1 33.9] 와 같이 나와, 보기에 좋지 않다."
   ]
  },
  {
   "cell_type": "code",
   "execution_count": 27,
   "metadata": {},
   "outputs": [],
   "source": [
    "def sigmoid(t):\n",
    "    return 1/(1+np.exp(-t))"
   ]
  },
  {
   "cell_type": "code",
   "execution_count": 32,
   "metadata": {},
   "outputs": [
    {
     "data": {
      "text/plain": [
       "Text(0,0.5,'output value')"
      ]
     },
     "execution_count": 32,
     "metadata": {},
     "output_type": "execute_result"
    },
    {
     "data": {
      "image/png": "[encoded data removed]",
      "text/plain": [
       "<Figure size 432x288 with 1 Axes>"
      ]
     },
     "metadata": {},
     "output_type": "display_data"
    }
   ],
   "source": [
    "plt.plot(np.arange(-10,10,0.1), sigmoid(np.arange(-10,10,0.1)))\n",
    "plt.vlines([0], 0, 1, linestyles=':')\n",
    "plt.title('sigmoid function')\n",
    "plt.xlabel('input value')\n",
    "plt.ylabel('output value')"
   ]
  },
  {
   "cell_type": "code",
   "execution_count": 33,
   "metadata": {},
   "outputs": [
    {
     "data": {
      "text/plain": [
       "array([1., 1., 1.])"
      ]
     },
     "execution_count": 33,
     "metadata": {},
     "output_type": "execute_result"
    }
   ],
   "source": [
    "sigmoid(예측값)"
   ]
  },
  {
   "cell_type": "markdown",
   "metadata": {},
   "source": [
    "- sigmoid 함수를 적용하면 항상 결과가 0~1 사이의 값이 된다.\n",
    "- 문제해결 방법 => 먼저 위와 같이 중간예측값을 구한 다음 sigmoid 함수를 적용하자."
   ]
  },
  {
   "cell_type": "code",
   "execution_count": 36,
   "metadata": {},
   "outputs": [
    {
     "name": "stdout",
     "output_type": "stream",
     "text": [
      "[30.9 27.1 33.9]\n",
      "[1. 1. 1.]\n"
     ]
    }
   ],
   "source": [
    "X = np.array([[170,68],\n",
    "              [162,53],\n",
    "              [182,77]])\n",
    "y = np.array([0,0,1])\n",
    "\n",
    "w = [0.1, 0.2] # [w1, w2] 의 초기값 설정\n",
    "b = 0.3\n",
    "\n",
    "중간예측값 = (X*w).sum(axis=1) + b\n",
    "print(중간예측값)\n",
    "\n",
    "예측값 = sigmoid(중간예측값)\n",
    "print(예측값)"
   ]
  },
  {
   "cell_type": "code",
   "execution_count": 37,
   "metadata": {},
   "outputs": [
    {
     "name": "stdout",
     "output_type": "stream",
     "text": [
      "0.6666666666655076\n"
     ]
    }
   ],
   "source": [
    "mse = np.square(예측값 - y).mean()\n",
    "print(mse)"
   ]
  },
  {
   "cell_type": "markdown",
   "metadata": {},
   "source": [
    "- w1, w2, b 값을 바꿔 보자."
   ]
  },
  {
   "cell_type": "code",
   "execution_count": 46,
   "metadata": {},
   "outputs": [
    {
     "name": "stdout",
     "output_type": "stream",
     "text": [
      "[-34. -56. -28.]\n",
      "[1.71390843e-15 4.78089288e-25 6.91440011e-13]\n"
     ]
    }
   ],
   "source": [
    "w = [-1, 2] # [w1, w2] 의 초기값 설정\n",
    "b = 0.0\n",
    "\n",
    "중간예측값 = (X*w).sum(axis=1) + b\n",
    "print(중간예측값)\n",
    "\n",
    "예측값 = sigmoid(중간예측값)\n",
    "print(예측값)"
   ]
  },
  {
   "cell_type": "code",
   "execution_count": 47,
   "metadata": {},
   "outputs": [
    {
     "name": "stdout",
     "output_type": "stream",
     "text": [
      "0.33333333333287235\n"
     ]
    }
   ],
   "source": [
    "mse = np.square(예측값 - y).mean()\n",
    "print(mse)"
   ]
  },
  {
   "cell_type": "markdown",
   "metadata": {},
   "source": [
    "### 분류 문제 Keras 적용"
   ]
  },
  {
   "cell_type": "code",
   "execution_count": 100,
   "metadata": {},
   "outputs": [],
   "source": [
    "from keras.models import Sequential\n",
    "from keras.layers import Dense\n",
    "from keras.optimizers import SGD # lr=0.01\n",
    "\n",
    "X = np.array([[170,68],\n",
    "              [162,53],\n",
    "              [182,77]])\n",
    "# 정규화 적용 (평균 0, 표준편차 1) => 분류 문제에서는 정규화가 필요하다\n",
    "X = (X-X.mean(axis=0))/X.std(axis=0)\n",
    "\n",
    "y = np.array([0,0,1])\n",
    "\n",
    "model = Sequential()\n",
    "model.add(Dense(1, activation='sigmoid', input_shape=(2,))) # sigmoid 적용, 입력 속성은 2개"
   ]
  },
  {
   "cell_type": "code",
   "execution_count": 101,
   "metadata": {},
   "outputs": [
    {
     "name": "stdout",
     "output_type": "stream",
     "text": [
      "Epoch 1/500\n",
      "3/3 [==============================] - 2s 603ms/step - loss: 0.4844 - acc: 0.0000e+00\n",
      "Epoch 2/500\n",
      "3/3 [==============================] - 0s 3ms/step - loss: 0.4738 - acc: 0.0000e+00\n",
      "Epoch 3/500\n",
      "3/3 [==============================] - 0s 1ms/step - loss: 0.4629 - acc: 0.0000e+00\n",
      "Epoch 4/500\n",
      "3/3 [==============================] - 0s 3ms/step - loss: 0.4517 - acc: 0.0000e+00\n",
      "Epoch 5/500\n",
      "3/3 [==============================] - 0s 2ms/step - loss: 0.4402 - acc: 0.0000e+00\n",
      "Epoch 6/500\n",
      "3/3 [==============================] - 0s 4ms/step - loss: 0.4286 - acc: 0.0000e+00\n",
      "Epoch 7/500\n",
      "3/3 [==============================] - 0s 2ms/step - loss: 0.4168 - acc: 0.0000e+00\n",
      "Epoch 8/500\n",
      "3/3 [==============================] - 0s 2ms/step - loss: 0.4049 - acc: 0.0000e+00\n",
      "Epoch 9/500\n",
      "3/3 [==============================] - 0s 5ms/step - loss: 0.3929 - acc: 0.0000e+00\n",
      "Epoch 10/500\n",
      "3/3 [==============================] - 0s 1ms/step - loss: 0.3810 - acc: 0.0000e+00\n",
      "Epoch 11/500\n",
      "3/3 [==============================] - 0s 2ms/step - loss: 0.3690 - acc: 0.0000e+00\n",
      "Epoch 12/500\n",
      "3/3 [==============================] - 0s 2ms/step - loss: 0.3571 - acc: 0.0000e+00\n",
      "Epoch 13/500\n",
      "3/3 [==============================] - 0s 2ms/step - loss: 0.3454 - acc: 0.0000e+00\n",
      "Epoch 14/500\n",
      "3/3 [==============================] - 0s 3ms/step - loss: 0.3339 - acc: 0.3333\n",
      "Epoch 15/500\n",
      "3/3 [==============================] - 0s 2ms/step - loss: 0.3226 - acc: 0.3333\n",
      "Epoch 16/500\n",
      "3/3 [==============================] - 0s 1ms/step - loss: 0.3115 - acc: 0.3333\n",
      "Epoch 17/500\n",
      "3/3 [==============================] - 0s 2ms/step - loss: 0.3008 - acc: 0.3333\n",
      "Epoch 18/500\n",
      "3/3 [==============================] - 0s 2ms/step - loss: 0.2904 - acc: 0.3333\n",
      "Epoch 19/500\n",
      "3/3 [==============================] - 0s 4ms/step - loss: 0.2804 - acc: 0.6667\n",
      "Epoch 20/500\n",
      "3/3 [==============================] - 0s 3ms/step - loss: 0.2708 - acc: 0.6667\n",
      "Epoch 21/500\n",
      "3/3 [==============================] - 0s 2ms/step - loss: 0.2615 - acc: 0.6667\n",
      "Epoch 22/500\n",
      "3/3 [==============================] - 0s 2ms/step - loss: 0.2527 - acc: 0.6667\n",
      "Epoch 23/500\n",
      "3/3 [==============================] - 0s 2ms/step - loss: 0.2443 - acc: 0.6667\n",
      "Epoch 24/500\n",
      "3/3 [==============================] - 0s 2ms/step - loss: 0.2362 - acc: 0.6667\n",
      "Epoch 25/500\n",
      "3/3 [==============================] - 0s 2ms/step - loss: 0.2286 - acc: 0.6667\n",
      "Epoch 26/500\n",
      "3/3 [==============================] - 0s 3ms/step - loss: 0.2214 - acc: 0.6667\n",
      "Epoch 27/500\n",
      "3/3 [==============================] - 0s 2ms/step - loss: 0.2145 - acc: 0.6667\n",
      "Epoch 28/500\n",
      "3/3 [==============================] - 0s 2ms/step - loss: 0.2080 - acc: 0.6667\n",
      "Epoch 29/500\n",
      "3/3 [==============================] - 0s 2ms/step - loss: 0.2018 - acc: 1.0000\n",
      "Epoch 30/500\n",
      "3/3 [==============================] - 0s 3ms/step - loss: 0.1960 - acc: 1.0000\n",
      "Epoch 31/500\n",
      "3/3 [==============================] - 0s 3ms/step - loss: 0.1905 - acc: 1.0000\n",
      "Epoch 32/500\n",
      "3/3 [==============================] - 0s 2ms/step - loss: 0.1852 - acc: 1.0000\n",
      "Epoch 33/500\n",
      "3/3 [==============================] - 0s 2ms/step - loss: 0.1803 - acc: 1.0000\n",
      "Epoch 34/500\n",
      "3/3 [==============================] - 0s 2ms/step - loss: 0.1756 - acc: 1.0000\n",
      "Epoch 35/500\n",
      "3/3 [==============================] - 0s 2ms/step - loss: 0.1712 - acc: 1.0000\n",
      "Epoch 36/500\n",
      "3/3 [==============================] - 0s 1ms/step - loss: 0.1670 - acc: 1.0000\n",
      "Epoch 37/500\n",
      "3/3 [==============================] - 0s 2ms/step - loss: 0.1631 - acc: 1.0000\n",
      "Epoch 38/500\n",
      "3/3 [==============================] - 0s 2ms/step - loss: 0.1593 - acc: 1.0000\n",
      "Epoch 39/500\n",
      "3/3 [==============================] - 0s 2ms/step - loss: 0.1557 - acc: 1.0000\n",
      "Epoch 40/500\n",
      "3/3 [==============================] - 0s 1ms/step - loss: 0.1524 - acc: 1.0000\n",
      "Epoch 41/500\n",
      "3/3 [==============================] - 0s 2ms/step - loss: 0.1491 - acc: 1.0000\n",
      "Epoch 42/500\n",
      "3/3 [==============================] - 0s 2ms/step - loss: 0.1461 - acc: 1.0000\n",
      "Epoch 43/500\n",
      "3/3 [==============================] - 0s 2ms/step - loss: 0.1432 - acc: 1.0000\n",
      "Epoch 44/500\n",
      "3/3 [==============================] - 0s 2ms/step - loss: 0.1404 - acc: 1.0000\n",
      "Epoch 45/500\n",
      "3/3 [==============================] - 0s 2ms/step - loss: 0.1378 - acc: 1.0000\n",
      "Epoch 46/500\n",
      "3/3 [==============================] - 0s 2ms/step - loss: 0.1353 - acc: 1.0000\n",
      "Epoch 47/500\n",
      "3/3 [==============================] - 0s 2ms/step - loss: 0.1329 - acc: 1.0000\n",
      "Epoch 48/500\n",
      "3/3 [==============================] - 0s 2ms/step - loss: 0.1306 - acc: 1.0000\n",
      "Epoch 49/500\n",
      "3/3 [==============================] - 0s 1ms/step - loss: 0.1284 - acc: 1.0000\n",
      "Epoch 50/500\n",
      "3/3 [==============================] - 0s 2ms/step - loss: 0.1263 - acc: 1.0000\n",
      "Epoch 51/500\n",
      "3/3 [==============================] - 0s 1ms/step - loss: 0.1243 - acc: 1.0000\n",
      "Epoch 52/500\n",
      "3/3 [==============================] - 0s 2ms/step - loss: 0.1224 - acc: 1.0000\n",
      "Epoch 53/500\n",
      "3/3 [==============================] - 0s 2ms/step - loss: 0.1206 - acc: 1.0000\n",
      "Epoch 54/500\n",
      "3/3 [==============================] - 0s 2ms/step - loss: 0.1188 - acc: 1.0000\n",
      "Epoch 55/500\n",
      "3/3 [==============================] - 0s 4ms/step - loss: 0.1171 - acc: 1.0000\n",
      "Epoch 56/500\n",
      "3/3 [==============================] - 0s 2ms/step - loss: 0.1154 - acc: 1.0000\n",
      "Epoch 57/500\n",
      "3/3 [==============================] - 0s 2ms/step - loss: 0.1139 - acc: 1.0000\n",
      "Epoch 58/500\n",
      "3/3 [==============================] - 0s 2ms/step - loss: 0.1123 - acc: 1.0000\n",
      "Epoch 59/500\n",
      "3/3 [==============================] - 0s 2ms/step - loss: 0.1109 - acc: 1.0000\n",
      "Epoch 60/500\n",
      "3/3 [==============================] - 0s 1ms/step - loss: 0.1095 - acc: 1.0000\n",
      "Epoch 61/500\n",
      "3/3 [==============================] - 0s 2ms/step - loss: 0.1081 - acc: 1.0000\n",
      "Epoch 62/500\n",
      "3/3 [==============================] - 0s 1ms/step - loss: 0.1068 - acc: 1.0000\n",
      "Epoch 63/500\n",
      "3/3 [==============================] - 0s 2ms/step - loss: 0.1055 - acc: 1.0000\n",
      "Epoch 64/500\n",
      "3/3 [==============================] - 0s 2ms/step - loss: 0.1043 - acc: 1.0000\n",
      "Epoch 65/500\n",
      "3/3 [==============================] - 0s 1ms/step - loss: 0.1031 - acc: 1.0000\n",
      "Epoch 66/500\n",
      "3/3 [==============================] - 0s 1ms/step - loss: 0.1019 - acc: 1.0000\n",
      "Epoch 67/500\n",
      "3/3 [==============================] - 0s 2ms/step - loss: 0.1008 - acc: 1.0000\n",
      "Epoch 68/500\n",
      "3/3 [==============================] - 0s 1ms/step - loss: 0.0997 - acc: 1.0000\n",
      "Epoch 69/500\n",
      "3/3 [==============================] - 0s 2ms/step - loss: 0.0986 - acc: 1.0000\n",
      "Epoch 70/500\n",
      "3/3 [==============================] - 0s 2ms/step - loss: 0.0976 - acc: 1.0000\n",
      "Epoch 71/500\n",
      "3/3 [==============================] - 0s 1ms/step - loss: 0.0966 - acc: 1.0000\n",
      "Epoch 72/500\n",
      "3/3 [==============================] - 0s 2ms/step - loss: 0.0956 - acc: 1.0000\n",
      "Epoch 73/500\n",
      "3/3 [==============================] - 0s 1ms/step - loss: 0.0947 - acc: 1.0000\n",
      "Epoch 74/500\n",
      "3/3 [==============================] - 0s 2ms/step - loss: 0.0937 - acc: 1.0000\n",
      "Epoch 75/500\n",
      "3/3 [==============================] - 0s 2ms/step - loss: 0.0928 - acc: 1.0000\n",
      "Epoch 76/500\n",
      "3/3 [==============================] - 0s 2ms/step - loss: 0.0919 - acc: 1.0000\n",
      "Epoch 77/500\n",
      "3/3 [==============================] - 0s 1ms/step - loss: 0.0911 - acc: 1.0000\n",
      "Epoch 78/500\n",
      "3/3 [==============================] - 0s 1ms/step - loss: 0.0902 - acc: 1.0000\n",
      "Epoch 79/500\n",
      "3/3 [==============================] - 0s 2ms/step - loss: 0.0894 - acc: 1.0000\n",
      "Epoch 80/500\n",
      "3/3 [==============================] - 0s 1ms/step - loss: 0.0886 - acc: 1.0000\n",
      "Epoch 81/500\n",
      "3/3 [==============================] - 0s 2ms/step - loss: 0.0878 - acc: 1.0000\n",
      "Epoch 82/500\n",
      "3/3 [==============================] - 0s 1ms/step - loss: 0.0871 - acc: 1.0000\n",
      "Epoch 83/500\n",
      "3/3 [==============================] - 0s 2ms/step - loss: 0.0863 - acc: 1.0000\n",
      "Epoch 84/500\n",
      "3/3 [==============================] - 0s 1ms/step - loss: 0.0856 - acc: 1.0000\n",
      "Epoch 85/500\n",
      "3/3 [==============================] - 0s 1ms/step - loss: 0.0849 - acc: 1.0000\n",
      "Epoch 86/500\n",
      "3/3 [==============================] - 0s 1ms/step - loss: 0.0842 - acc: 1.0000\n",
      "Epoch 87/500\n",
      "3/3 [==============================] - 0s 2ms/step - loss: 0.0835 - acc: 1.0000\n",
      "Epoch 88/500\n",
      "3/3 [==============================] - 0s 2ms/step - loss: 0.0828 - acc: 1.0000\n"
     ]
    },
    {
     "name": "stdout",
     "output_type": "stream",
     "text": [
      "Epoch 89/500\n",
      "3/3 [==============================] - 0s 4ms/step - loss: 0.0822 - acc: 1.0000\n",
      "Epoch 90/500\n",
      "3/3 [==============================] - 0s 2ms/step - loss: 0.0815 - acc: 1.0000\n",
      "Epoch 91/500\n",
      "3/3 [==============================] - 0s 2ms/step - loss: 0.0809 - acc: 1.0000\n",
      "Epoch 92/500\n",
      "3/3 [==============================] - 0s 2ms/step - loss: 0.0802 - acc: 1.0000\n",
      "Epoch 93/500\n",
      "3/3 [==============================] - 0s 2ms/step - loss: 0.0796 - acc: 1.0000\n",
      "Epoch 94/500\n",
      "3/3 [==============================] - 0s 2ms/step - loss: 0.0790 - acc: 1.0000\n",
      "Epoch 95/500\n",
      "3/3 [==============================] - 0s 2ms/step - loss: 0.0784 - acc: 1.0000\n",
      "Epoch 96/500\n",
      "3/3 [==============================] - 0s 1ms/step - loss: 0.0779 - acc: 1.0000\n",
      "Epoch 97/500\n",
      "3/3 [==============================] - 0s 2ms/step - loss: 0.0773 - acc: 1.0000\n",
      "Epoch 98/500\n",
      "3/3 [==============================] - 0s 1ms/step - loss: 0.0767 - acc: 1.0000\n",
      "Epoch 99/500\n",
      "3/3 [==============================] - 0s 1ms/step - loss: 0.0762 - acc: 1.0000\n",
      "Epoch 100/500\n",
      "3/3 [==============================] - 0s 2ms/step - loss: 0.0756 - acc: 1.0000\n",
      "Epoch 101/500\n",
      "3/3 [==============================] - 0s 1ms/step - loss: 0.0751 - acc: 1.0000\n",
      "Epoch 102/500\n",
      "3/3 [==============================] - 0s 2ms/step - loss: 0.0746 - acc: 1.0000\n",
      "Epoch 103/500\n",
      "3/3 [==============================] - 0s 2ms/step - loss: 0.0740 - acc: 1.0000\n",
      "Epoch 104/500\n",
      "3/3 [==============================] - 0s 2ms/step - loss: 0.0735 - acc: 1.0000\n",
      "Epoch 105/500\n",
      "3/3 [==============================] - 0s 2ms/step - loss: 0.0730 - acc: 1.0000\n",
      "Epoch 106/500\n",
      "3/3 [==============================] - 0s 2ms/step - loss: 0.0725 - acc: 1.0000\n",
      "Epoch 107/500\n",
      "3/3 [==============================] - 0s 1ms/step - loss: 0.0720 - acc: 1.0000\n",
      "Epoch 108/500\n",
      "3/3 [==============================] - 0s 2ms/step - loss: 0.0716 - acc: 1.0000\n",
      "Epoch 109/500\n",
      "3/3 [==============================] - 0s 2ms/step - loss: 0.0711 - acc: 1.0000\n",
      "Epoch 110/500\n",
      "3/3 [==============================] - 0s 2ms/step - loss: 0.0706 - acc: 1.0000\n",
      "Epoch 111/500\n",
      "3/3 [==============================] - 0s 2ms/step - loss: 0.0702 - acc: 1.0000\n",
      "Epoch 112/500\n",
      "3/3 [==============================] - 0s 2ms/step - loss: 0.0697 - acc: 1.0000\n",
      "Epoch 113/500\n",
      "3/3 [==============================] - 0s 2ms/step - loss: 0.0693 - acc: 1.0000\n",
      "Epoch 114/500\n",
      "3/3 [==============================] - 0s 2ms/step - loss: 0.0688 - acc: 1.0000\n",
      "Epoch 115/500\n",
      "3/3 [==============================] - 0s 2ms/step - loss: 0.0684 - acc: 1.0000\n",
      "Epoch 116/500\n",
      "3/3 [==============================] - 0s 2ms/step - loss: 0.0679 - acc: 1.0000\n",
      "Epoch 117/500\n",
      "3/3 [==============================] - 0s 2ms/step - loss: 0.0675 - acc: 1.0000\n",
      "Epoch 118/500\n",
      "3/3 [==============================] - 0s 1ms/step - loss: 0.0671 - acc: 1.0000\n",
      "Epoch 119/500\n",
      "3/3 [==============================] - 0s 1ms/step - loss: 0.0667 - acc: 1.0000\n",
      "Epoch 120/500\n",
      "3/3 [==============================] - 0s 1ms/step - loss: 0.0663 - acc: 1.0000\n",
      "Epoch 121/500\n",
      "3/3 [==============================] - 0s 2ms/step - loss: 0.0659 - acc: 1.0000\n",
      "Epoch 122/500\n",
      "3/3 [==============================] - 0s 1ms/step - loss: 0.0655 - acc: 1.0000\n",
      "Epoch 123/500\n",
      "3/3 [==============================] - 0s 1ms/step - loss: 0.0651 - acc: 1.0000\n",
      "Epoch 124/500\n",
      "3/3 [==============================] - 0s 2ms/step - loss: 0.0647 - acc: 1.0000\n",
      "Epoch 125/500\n",
      "3/3 [==============================] - 0s 2ms/step - loss: 0.0643 - acc: 1.0000\n",
      "Epoch 126/500\n",
      "3/3 [==============================] - 0s 2ms/step - loss: 0.0639 - acc: 1.0000\n",
      "Epoch 127/500\n",
      "3/3 [==============================] - 0s 2ms/step - loss: 0.0635 - acc: 1.0000\n",
      "Epoch 128/500\n",
      "3/3 [==============================] - 0s 1ms/step - loss: 0.0632 - acc: 1.0000\n",
      "Epoch 129/500\n",
      "3/3 [==============================] - 0s 2ms/step - loss: 0.0628 - acc: 1.0000\n",
      "Epoch 130/500\n",
      "3/3 [==============================] - 0s 2ms/step - loss: 0.0624 - acc: 1.0000\n",
      "Epoch 131/500\n",
      "3/3 [==============================] - 0s 2ms/step - loss: 0.0621 - acc: 1.0000\n",
      "Epoch 132/500\n",
      "3/3 [==============================] - 0s 1ms/step - loss: 0.0617 - acc: 1.0000\n",
      "Epoch 133/500\n",
      "3/3 [==============================] - 0s 2ms/step - loss: 0.0614 - acc: 1.0000\n",
      "Epoch 134/500\n",
      "3/3 [==============================] - 0s 4ms/step - loss: 0.0610 - acc: 1.0000\n",
      "Epoch 135/500\n",
      "3/3 [==============================] - 0s 3ms/step - loss: 0.0607 - acc: 1.0000\n",
      "Epoch 136/500\n",
      "3/3 [==============================] - 0s 2ms/step - loss: 0.0603 - acc: 1.0000\n",
      "Epoch 137/500\n",
      "3/3 [==============================] - 0s 2ms/step - loss: 0.0600 - acc: 1.0000\n",
      "Epoch 138/500\n",
      "3/3 [==============================] - 0s 2ms/step - loss: 0.0597 - acc: 1.0000\n",
      "Epoch 139/500\n",
      "3/3 [==============================] - 0s 1ms/step - loss: 0.0593 - acc: 1.0000\n",
      "Epoch 140/500\n",
      "3/3 [==============================] - 0s 2ms/step - loss: 0.0590 - acc: 1.0000\n",
      "Epoch 141/500\n",
      "3/3 [==============================] - 0s 2ms/step - loss: 0.0587 - acc: 1.0000\n",
      "Epoch 142/500\n",
      "3/3 [==============================] - 0s 2ms/step - loss: 0.0584 - acc: 1.0000\n",
      "Epoch 143/500\n",
      "3/3 [==============================] - 0s 2ms/step - loss: 0.0581 - acc: 1.0000\n",
      "Epoch 144/500\n",
      "3/3 [==============================] - 0s 1ms/step - loss: 0.0578 - acc: 1.0000\n",
      "Epoch 145/500\n",
      "3/3 [==============================] - 0s 2ms/step - loss: 0.0574 - acc: 1.0000\n",
      "Epoch 146/500\n",
      "3/3 [==============================] - 0s 1ms/step - loss: 0.0571 - acc: 1.0000\n",
      "Epoch 147/500\n",
      "3/3 [==============================] - 0s 2ms/step - loss: 0.0568 - acc: 1.0000\n",
      "Epoch 148/500\n",
      "3/3 [==============================] - 0s 2ms/step - loss: 0.0565 - acc: 1.0000\n",
      "Epoch 149/500\n",
      "3/3 [==============================] - 0s 1ms/step - loss: 0.0562 - acc: 1.0000\n",
      "Epoch 150/500\n",
      "3/3 [==============================] - 0s 2ms/step - loss: 0.0559 - acc: 1.0000\n",
      "Epoch 151/500\n",
      "3/3 [==============================] - 0s 2ms/step - loss: 0.0557 - acc: 1.0000\n",
      "Epoch 152/500\n",
      "3/3 [==============================] - 0s 2ms/step - loss: 0.0554 - acc: 1.0000\n",
      "Epoch 153/500\n",
      "3/3 [==============================] - 0s 2ms/step - loss: 0.0551 - acc: 1.0000\n",
      "Epoch 154/500\n",
      "3/3 [==============================] - 0s 2ms/step - loss: 0.0548 - acc: 1.0000\n",
      "Epoch 155/500\n",
      "3/3 [==============================] - 0s 1ms/step - loss: 0.0545 - acc: 1.0000\n",
      "Epoch 156/500\n",
      "3/3 [==============================] - 0s 2ms/step - loss: 0.0542 - acc: 1.0000\n",
      "Epoch 157/500\n",
      "3/3 [==============================] - 0s 2ms/step - loss: 0.0540 - acc: 1.0000\n",
      "Epoch 158/500\n",
      "3/3 [==============================] - 0s 2ms/step - loss: 0.0537 - acc: 1.0000\n",
      "Epoch 159/500\n",
      "3/3 [==============================] - 0s 1ms/step - loss: 0.0534 - acc: 1.0000\n",
      "Epoch 160/500\n",
      "3/3 [==============================] - 0s 1ms/step - loss: 0.0531 - acc: 1.0000\n",
      "Epoch 161/500\n",
      "3/3 [==============================] - 0s 2ms/step - loss: 0.0529 - acc: 1.0000\n",
      "Epoch 162/500\n",
      "3/3 [==============================] - 0s 2ms/step - loss: 0.0526 - acc: 1.0000\n",
      "Epoch 163/500\n",
      "3/3 [==============================] - 0s 2ms/step - loss: 0.0524 - acc: 1.0000\n",
      "Epoch 164/500\n",
      "3/3 [==============================] - 0s 2ms/step - loss: 0.0521 - acc: 1.0000\n",
      "Epoch 165/500\n",
      "3/3 [==============================] - 0s 2ms/step - loss: 0.0518 - acc: 1.0000\n",
      "Epoch 166/500\n",
      "3/3 [==============================] - 0s 1ms/step - loss: 0.0516 - acc: 1.0000\n",
      "Epoch 167/500\n",
      "3/3 [==============================] - 0s 2ms/step - loss: 0.0513 - acc: 1.0000\n",
      "Epoch 168/500\n",
      "3/3 [==============================] - 0s 2ms/step - loss: 0.0511 - acc: 1.0000\n",
      "Epoch 169/500\n",
      "3/3 [==============================] - 0s 2ms/step - loss: 0.0508 - acc: 1.0000\n",
      "Epoch 170/500\n",
      "3/3 [==============================] - 0s 2ms/step - loss: 0.0506 - acc: 1.0000\n",
      "Epoch 171/500\n",
      "3/3 [==============================] - 0s 1ms/step - loss: 0.0504 - acc: 1.0000\n",
      "Epoch 172/500\n",
      "3/3 [==============================] - 0s 2ms/step - loss: 0.0501 - acc: 1.0000\n",
      "Epoch 173/500\n",
      "3/3 [==============================] - 0s 2ms/step - loss: 0.0499 - acc: 1.0000\n",
      "Epoch 174/500\n",
      "3/3 [==============================] - 0s 1ms/step - loss: 0.0496 - acc: 1.0000\n",
      "Epoch 175/500\n",
      "3/3 [==============================] - 0s 1ms/step - loss: 0.0494 - acc: 1.0000\n",
      "Epoch 176/500\n",
      "3/3 [==============================] - 0s 1ms/step - loss: 0.0492 - acc: 1.0000\n"
     ]
    },
    {
     "name": "stdout",
     "output_type": "stream",
     "text": [
      "Epoch 177/500\n",
      "3/3 [==============================] - 0s 2ms/step - loss: 0.0489 - acc: 1.0000\n",
      "Epoch 178/500\n",
      "3/3 [==============================] - 0s 3ms/step - loss: 0.0487 - acc: 1.0000\n",
      "Epoch 179/500\n",
      "3/3 [==============================] - 0s 2ms/step - loss: 0.0485 - acc: 1.0000\n",
      "Epoch 180/500\n",
      "3/3 [==============================] - 0s 2ms/step - loss: 0.0483 - acc: 1.0000\n",
      "Epoch 181/500\n",
      "3/3 [==============================] - 0s 2ms/step - loss: 0.0480 - acc: 1.0000\n",
      "Epoch 182/500\n",
      "3/3 [==============================] - 0s 2ms/step - loss: 0.0478 - acc: 1.0000\n",
      "Epoch 183/500\n",
      "3/3 [==============================] - 0s 1ms/step - loss: 0.0476 - acc: 1.0000\n",
      "Epoch 184/500\n",
      "3/3 [==============================] - 0s 2ms/step - loss: 0.0474 - acc: 1.0000\n",
      "Epoch 185/500\n",
      "3/3 [==============================] - 0s 2ms/step - loss: 0.0472 - acc: 1.0000\n",
      "Epoch 186/500\n",
      "3/3 [==============================] - 0s 2ms/step - loss: 0.0469 - acc: 1.0000\n",
      "Epoch 187/500\n",
      "3/3 [==============================] - 0s 2ms/step - loss: 0.0467 - acc: 1.0000\n",
      "Epoch 188/500\n",
      "3/3 [==============================] - 0s 2ms/step - loss: 0.0465 - acc: 1.0000\n",
      "Epoch 189/500\n",
      "3/3 [==============================] - 0s 2ms/step - loss: 0.0463 - acc: 1.0000\n",
      "Epoch 190/500\n",
      "3/3 [==============================] - 0s 2ms/step - loss: 0.0461 - acc: 1.0000\n",
      "Epoch 191/500\n",
      "3/3 [==============================] - 0s 2ms/step - loss: 0.0459 - acc: 1.0000\n",
      "Epoch 192/500\n",
      "3/3 [==============================] - 0s 2ms/step - loss: 0.0457 - acc: 1.0000\n",
      "Epoch 193/500\n",
      "3/3 [==============================] - 0s 1ms/step - loss: 0.0455 - acc: 1.0000\n",
      "Epoch 194/500\n",
      "3/3 [==============================] - 0s 2ms/step - loss: 0.0453 - acc: 1.0000\n",
      "Epoch 195/500\n",
      "3/3 [==============================] - 0s 2ms/step - loss: 0.0451 - acc: 1.0000\n",
      "Epoch 196/500\n",
      "3/3 [==============================] - 0s 2ms/step - loss: 0.0449 - acc: 1.0000\n",
      "Epoch 197/500\n",
      "3/3 [==============================] - 0s 1ms/step - loss: 0.0447 - acc: 1.0000\n",
      "Epoch 198/500\n",
      "3/3 [==============================] - 0s 2ms/step - loss: 0.0445 - acc: 1.0000\n",
      "Epoch 199/500\n",
      "3/3 [==============================] - 0s 2ms/step - loss: 0.0443 - acc: 1.0000\n",
      "Epoch 200/500\n",
      "3/3 [==============================] - 0s 2ms/step - loss: 0.0441 - acc: 1.0000\n",
      "Epoch 201/500\n",
      "3/3 [==============================] - 0s 2ms/step - loss: 0.0439 - acc: 1.0000\n",
      "Epoch 202/500\n",
      "3/3 [==============================] - 0s 2ms/step - loss: 0.0437 - acc: 1.0000\n",
      "Epoch 203/500\n",
      "3/3 [==============================] - 0s 2ms/step - loss: 0.0435 - acc: 1.0000\n",
      "Epoch 204/500\n",
      "3/3 [==============================] - 0s 2ms/step - loss: 0.0434 - acc: 1.0000\n",
      "Epoch 205/500\n",
      "3/3 [==============================] - 0s 2ms/step - loss: 0.0432 - acc: 1.0000\n",
      "Epoch 206/500\n",
      "3/3 [==============================] - 0s 2ms/step - loss: 0.0430 - acc: 1.0000\n",
      "Epoch 207/500\n",
      "3/3 [==============================] - 0s 2ms/step - loss: 0.0428 - acc: 1.0000\n",
      "Epoch 208/500\n",
      "3/3 [==============================] - 0s 2ms/step - loss: 0.0426 - acc: 1.0000\n",
      "Epoch 209/500\n",
      "3/3 [==============================] - 0s 1ms/step - loss: 0.0424 - acc: 1.0000\n",
      "Epoch 210/500\n",
      "3/3 [==============================] - 0s 2ms/step - loss: 0.0423 - acc: 1.0000\n",
      "Epoch 211/500\n",
      "3/3 [==============================] - 0s 1ms/step - loss: 0.0421 - acc: 1.0000\n",
      "Epoch 212/500\n",
      "3/3 [==============================] - 0s 1ms/step - loss: 0.0419 - acc: 1.0000\n",
      "Epoch 213/500\n",
      "3/3 [==============================] - 0s 2ms/step - loss: 0.0417 - acc: 1.0000\n",
      "Epoch 214/500\n",
      "3/3 [==============================] - 0s 3ms/step - loss: 0.0416 - acc: 1.0000\n",
      "Epoch 215/500\n",
      "3/3 [==============================] - 0s 2ms/step - loss: 0.0414 - acc: 1.0000\n",
      "Epoch 216/500\n",
      "3/3 [==============================] - 0s 2ms/step - loss: 0.0412 - acc: 1.0000\n",
      "Epoch 217/500\n",
      "3/3 [==============================] - 0s 1ms/step - loss: 0.0411 - acc: 1.0000\n",
      "Epoch 218/500\n",
      "3/3 [==============================] - 0s 2ms/step - loss: 0.0409 - acc: 1.0000\n",
      "Epoch 219/500\n",
      "3/3 [==============================] - 0s 2ms/step - loss: 0.0407 - acc: 1.0000\n",
      "Epoch 220/500\n",
      "3/3 [==============================] - 0s 2ms/step - loss: 0.0406 - acc: 1.0000\n",
      "Epoch 221/500\n",
      "3/3 [==============================] - 0s 1ms/step - loss: 0.0404 - acc: 1.0000\n",
      "Epoch 222/500\n",
      "3/3 [==============================] - 0s 2ms/step - loss: 0.0402 - acc: 1.0000\n",
      "Epoch 223/500\n",
      "3/3 [==============================] - 0s 2ms/step - loss: 0.0401 - acc: 1.0000\n",
      "Epoch 224/500\n",
      "3/3 [==============================] - 0s 2ms/step - loss: 0.0399 - acc: 1.0000\n",
      "Epoch 225/500\n",
      "3/3 [==============================] - 0s 2ms/step - loss: 0.0397 - acc: 1.0000\n",
      "Epoch 226/500\n",
      "3/3 [==============================] - 0s 2ms/step - loss: 0.0396 - acc: 1.0000\n",
      "Epoch 227/500\n",
      "3/3 [==============================] - 0s 2ms/step - loss: 0.0394 - acc: 1.0000\n",
      "Epoch 228/500\n",
      "3/3 [==============================] - 0s 2ms/step - loss: 0.0393 - acc: 1.0000\n",
      "Epoch 229/500\n",
      "3/3 [==============================] - 0s 1ms/step - loss: 0.0391 - acc: 1.0000\n",
      "Epoch 230/500\n",
      "3/3 [==============================] - 0s 2ms/step - loss: 0.0390 - acc: 1.0000\n",
      "Epoch 231/500\n",
      "3/3 [==============================] - 0s 2ms/step - loss: 0.0388 - acc: 1.0000\n",
      "Epoch 232/500\n",
      "3/3 [==============================] - 0s 2ms/step - loss: 0.0386 - acc: 1.0000\n",
      "Epoch 233/500\n",
      "3/3 [==============================] - 0s 1ms/step - loss: 0.0385 - acc: 1.0000\n",
      "Epoch 234/500\n",
      "3/3 [==============================] - 0s 2ms/step - loss: 0.0383 - acc: 1.0000\n",
      "Epoch 235/500\n",
      "3/3 [==============================] - 0s 2ms/step - loss: 0.0382 - acc: 1.0000\n",
      "Epoch 236/500\n",
      "3/3 [==============================] - 0s 2ms/step - loss: 0.0380 - acc: 1.0000\n",
      "Epoch 237/500\n",
      "3/3 [==============================] - 0s 2ms/step - loss: 0.0379 - acc: 1.0000\n",
      "Epoch 238/500\n",
      "3/3 [==============================] - 0s 2ms/step - loss: 0.0378 - acc: 1.0000\n",
      "Epoch 239/500\n",
      "3/3 [==============================] - 0s 2ms/step - loss: 0.0376 - acc: 1.0000\n",
      "Epoch 240/500\n",
      "3/3 [==============================] - 0s 2ms/step - loss: 0.0375 - acc: 1.0000\n",
      "Epoch 241/500\n",
      "3/3 [==============================] - 0s 2ms/step - loss: 0.0373 - acc: 1.0000\n",
      "Epoch 242/500\n",
      "3/3 [==============================] - 0s 2ms/step - loss: 0.0372 - acc: 1.0000\n",
      "Epoch 243/500\n",
      "3/3 [==============================] - 0s 2ms/step - loss: 0.0370 - acc: 1.0000\n",
      "Epoch 244/500\n",
      "3/3 [==============================] - 0s 2ms/step - loss: 0.0369 - acc: 1.0000\n",
      "Epoch 245/500\n",
      "3/3 [==============================] - 0s 2ms/step - loss: 0.0368 - acc: 1.0000\n",
      "Epoch 246/500\n",
      "3/3 [==============================] - 0s 5ms/step - loss: 0.0366 - acc: 1.0000\n",
      "Epoch 247/500\n",
      "3/3 [==============================] - 0s 2ms/step - loss: 0.0365 - acc: 1.0000\n",
      "Epoch 248/500\n",
      "3/3 [==============================] - 0s 2ms/step - loss: 0.0363 - acc: 1.0000\n",
      "Epoch 249/500\n",
      "3/3 [==============================] - 0s 1ms/step - loss: 0.0362 - acc: 1.0000\n",
      "Epoch 250/500\n",
      "3/3 [==============================] - 0s 2ms/step - loss: 0.0361 - acc: 1.0000\n",
      "Epoch 251/500\n",
      "3/3 [==============================] - 0s 1ms/step - loss: 0.0359 - acc: 1.0000\n",
      "Epoch 252/500\n",
      "3/3 [==============================] - 0s 2ms/step - loss: 0.0358 - acc: 1.0000\n",
      "Epoch 253/500\n",
      "3/3 [==============================] - 0s 2ms/step - loss: 0.0357 - acc: 1.0000\n",
      "Epoch 254/500\n",
      "3/3 [==============================] - 0s 1ms/step - loss: 0.0355 - acc: 1.0000\n",
      "Epoch 255/500\n",
      "3/3 [==============================] - 0s 2ms/step - loss: 0.0354 - acc: 1.0000\n",
      "Epoch 256/500\n",
      "3/3 [==============================] - 0s 2ms/step - loss: 0.0353 - acc: 1.0000\n",
      "Epoch 257/500\n",
      "3/3 [==============================] - 0s 1ms/step - loss: 0.0351 - acc: 1.0000\n",
      "Epoch 258/500\n",
      "3/3 [==============================] - 0s 2ms/step - loss: 0.0350 - acc: 1.0000\n",
      "Epoch 259/500\n",
      "3/3 [==============================] - 0s 7ms/step - loss: 0.0349 - acc: 1.0000\n",
      "Epoch 260/500\n",
      "3/3 [==============================] - 0s 2ms/step - loss: 0.0348 - acc: 1.0000\n",
      "Epoch 261/500\n",
      "3/3 [==============================] - 0s 2ms/step - loss: 0.0346 - acc: 1.0000\n",
      "Epoch 262/500\n",
      "3/3 [==============================] - 0s 2ms/step - loss: 0.0345 - acc: 1.0000\n",
      "Epoch 263/500\n",
      "3/3 [==============================] - 0s 2ms/step - loss: 0.0344 - acc: 1.0000\n",
      "Epoch 264/500\n",
      "3/3 [==============================] - 0s 2ms/step - loss: 0.0343 - acc: 1.0000\n"
     ]
    },
    {
     "name": "stdout",
     "output_type": "stream",
     "text": [
      "Epoch 265/500\n",
      "3/3 [==============================] - 0s 2ms/step - loss: 0.0341 - acc: 1.0000\n",
      "Epoch 266/500\n",
      "3/3 [==============================] - 0s 1ms/step - loss: 0.0340 - acc: 1.0000\n",
      "Epoch 267/500\n",
      "3/3 [==============================] - 0s 2ms/step - loss: 0.0339 - acc: 1.0000\n",
      "Epoch 268/500\n",
      "3/3 [==============================] - 0s 1ms/step - loss: 0.0338 - acc: 1.0000\n",
      "Epoch 269/500\n",
      "3/3 [==============================] - 0s 2ms/step - loss: 0.0337 - acc: 1.0000\n",
      "Epoch 270/500\n",
      "3/3 [==============================] - 0s 2ms/step - loss: 0.0335 - acc: 1.0000\n",
      "Epoch 271/500\n",
      "3/3 [==============================] - 0s 1ms/step - loss: 0.0334 - acc: 1.0000\n",
      "Epoch 272/500\n",
      "3/3 [==============================] - 0s 4ms/step - loss: 0.0333 - acc: 1.0000\n",
      "Epoch 273/500\n",
      "3/3 [==============================] - 0s 2ms/step - loss: 0.0332 - acc: 1.0000\n",
      "Epoch 274/500\n",
      "3/3 [==============================] - 0s 2ms/step - loss: 0.0331 - acc: 1.0000\n",
      "Epoch 275/500\n",
      "3/3 [==============================] - 0s 3ms/step - loss: 0.0329 - acc: 1.0000\n",
      "Epoch 276/500\n",
      "3/3 [==============================] - 0s 2ms/step - loss: 0.0328 - acc: 1.0000\n",
      "Epoch 277/500\n",
      "3/3 [==============================] - 0s 2ms/step - loss: 0.0327 - acc: 1.0000\n",
      "Epoch 278/500\n",
      "3/3 [==============================] - 0s 2ms/step - loss: 0.0326 - acc: 1.0000\n",
      "Epoch 279/500\n",
      "3/3 [==============================] - 0s 2ms/step - loss: 0.0325 - acc: 1.0000\n",
      "Epoch 280/500\n",
      "3/3 [==============================] - 0s 1ms/step - loss: 0.0324 - acc: 1.0000\n",
      "Epoch 281/500\n",
      "3/3 [==============================] - 0s 1ms/step - loss: 0.0323 - acc: 1.0000\n",
      "Epoch 282/500\n",
      "3/3 [==============================] - 0s 2ms/step - loss: 0.0322 - acc: 1.0000\n",
      "Epoch 283/500\n",
      "3/3 [==============================] - 0s 2ms/step - loss: 0.0320 - acc: 1.0000\n",
      "Epoch 284/500\n",
      "3/3 [==============================] - 0s 2ms/step - loss: 0.0319 - acc: 1.0000\n",
      "Epoch 285/500\n",
      "3/3 [==============================] - 0s 1ms/step - loss: 0.0318 - acc: 1.0000\n",
      "Epoch 286/500\n",
      "3/3 [==============================] - 0s 2ms/step - loss: 0.0317 - acc: 1.0000\n",
      "Epoch 287/500\n",
      "3/3 [==============================] - 0s 2ms/step - loss: 0.0316 - acc: 1.0000\n",
      "Epoch 288/500\n",
      "3/3 [==============================] - 0s 2ms/step - loss: 0.0315 - acc: 1.0000\n",
      "Epoch 289/500\n",
      "3/3 [==============================] - 0s 2ms/step - loss: 0.0314 - acc: 1.0000\n",
      "Epoch 290/500\n",
      "3/3 [==============================] - 0s 2ms/step - loss: 0.0313 - acc: 1.0000\n",
      "Epoch 291/500\n",
      "3/3 [==============================] - 0s 2ms/step - loss: 0.0312 - acc: 1.0000\n",
      "Epoch 292/500\n",
      "3/3 [==============================] - 0s 3ms/step - loss: 0.0311 - acc: 1.0000\n",
      "Epoch 293/500\n",
      "3/3 [==============================] - 0s 2ms/step - loss: 0.0310 - acc: 1.0000\n",
      "Epoch 294/500\n",
      "3/3 [==============================] - 0s 2ms/step - loss: 0.0309 - acc: 1.0000\n",
      "Epoch 295/500\n",
      "3/3 [==============================] - 0s 2ms/step - loss: 0.0308 - acc: 1.0000\n",
      "Epoch 296/500\n",
      "3/3 [==============================] - 0s 2ms/step - loss: 0.0307 - acc: 1.0000\n",
      "Epoch 297/500\n",
      "3/3 [==============================] - 0s 2ms/step - loss: 0.0306 - acc: 1.0000\n",
      "Epoch 298/500\n",
      "3/3 [==============================] - 0s 2ms/step - loss: 0.0305 - acc: 1.0000\n",
      "Epoch 299/500\n",
      "3/3 [==============================] - 0s 2ms/step - loss: 0.0304 - acc: 1.0000\n",
      "Epoch 300/500\n",
      "3/3 [==============================] - 0s 1ms/step - loss: 0.0303 - acc: 1.0000\n",
      "Epoch 301/500\n",
      "3/3 [==============================] - 0s 2ms/step - loss: 0.0302 - acc: 1.0000\n",
      "Epoch 302/500\n",
      "3/3 [==============================] - 0s 2ms/step - loss: 0.0301 - acc: 1.0000\n",
      "Epoch 303/500\n",
      "3/3 [==============================] - 0s 2ms/step - loss: 0.0300 - acc: 1.0000\n",
      "Epoch 304/500\n",
      "3/3 [==============================] - 0s 2ms/step - loss: 0.0299 - acc: 1.0000\n",
      "Epoch 305/500\n",
      "3/3 [==============================] - 0s 1ms/step - loss: 0.0298 - acc: 1.0000\n",
      "Epoch 306/500\n",
      "3/3 [==============================] - 0s 2ms/step - loss: 0.0297 - acc: 1.0000\n",
      "Epoch 307/500\n",
      "3/3 [==============================] - 0s 1ms/step - loss: 0.0296 - acc: 1.0000\n",
      "Epoch 308/500\n",
      "3/3 [==============================] - 0s 1ms/step - loss: 0.0295 - acc: 1.0000\n",
      "Epoch 309/500\n",
      "3/3 [==============================] - 0s 2ms/step - loss: 0.0294 - acc: 1.0000\n",
      "Epoch 310/500\n",
      "3/3 [==============================] - 0s 1ms/step - loss: 0.0293 - acc: 1.0000\n",
      "Epoch 311/500\n",
      "3/3 [==============================] - 0s 3ms/step - loss: 0.0292 - acc: 1.0000\n",
      "Epoch 312/500\n",
      "3/3 [==============================] - 0s 2ms/step - loss: 0.0291 - acc: 1.0000\n",
      "Epoch 313/500\n",
      "3/3 [==============================] - 0s 2ms/step - loss: 0.0290 - acc: 1.0000\n",
      "Epoch 314/500\n",
      "3/3 [==============================] - 0s 2ms/step - loss: 0.0289 - acc: 1.0000\n",
      "Epoch 315/500\n",
      "3/3 [==============================] - 0s 1ms/step - loss: 0.0288 - acc: 1.0000\n",
      "Epoch 316/500\n",
      "3/3 [==============================] - 0s 1ms/step - loss: 0.0287 - acc: 1.0000\n",
      "Epoch 317/500\n",
      "3/3 [==============================] - 0s 4ms/step - loss: 0.0287 - acc: 1.0000\n",
      "Epoch 318/500\n",
      "3/3 [==============================] - 0s 1ms/step - loss: 0.0286 - acc: 1.0000\n",
      "Epoch 319/500\n",
      "3/3 [==============================] - 0s 1ms/step - loss: 0.0285 - acc: 1.0000\n",
      "Epoch 320/500\n",
      "3/3 [==============================] - 0s 2ms/step - loss: 0.0284 - acc: 1.0000\n",
      "Epoch 321/500\n",
      "3/3 [==============================] - 0s 1ms/step - loss: 0.0283 - acc: 1.0000\n",
      "Epoch 322/500\n",
      "3/3 [==============================] - 0s 2ms/step - loss: 0.0282 - acc: 1.0000\n",
      "Epoch 323/500\n",
      "3/3 [==============================] - 0s 2ms/step - loss: 0.0281 - acc: 1.0000\n",
      "Epoch 324/500\n",
      "3/3 [==============================] - 0s 2ms/step - loss: 0.0280 - acc: 1.0000\n",
      "Epoch 325/500\n",
      "3/3 [==============================] - 0s 3ms/step - loss: 0.0279 - acc: 1.0000\n",
      "Epoch 326/500\n",
      "3/3 [==============================] - 0s 1ms/step - loss: 0.0279 - acc: 1.0000\n",
      "Epoch 327/500\n",
      "3/3 [==============================] - 0s 2ms/step - loss: 0.0278 - acc: 1.0000\n",
      "Epoch 328/500\n",
      "3/3 [==============================] - 0s 2ms/step - loss: 0.0277 - acc: 1.0000\n",
      "Epoch 329/500\n",
      "3/3 [==============================] - 0s 2ms/step - loss: 0.0276 - acc: 1.0000\n",
      "Epoch 330/500\n",
      "3/3 [==============================] - 0s 1ms/step - loss: 0.0275 - acc: 1.0000\n",
      "Epoch 331/500\n",
      "3/3 [==============================] - 0s 2ms/step - loss: 0.0274 - acc: 1.0000\n",
      "Epoch 332/500\n",
      "3/3 [==============================] - 0s 2ms/step - loss: 0.0274 - acc: 1.0000\n",
      "Epoch 333/500\n",
      "3/3 [==============================] - 0s 2ms/step - loss: 0.0273 - acc: 1.0000\n",
      "Epoch 334/500\n",
      "3/3 [==============================] - 0s 2ms/step - loss: 0.0272 - acc: 1.0000\n",
      "Epoch 335/500\n",
      "3/3 [==============================] - 0s 2ms/step - loss: 0.0271 - acc: 1.0000\n",
      "Epoch 336/500\n",
      "3/3 [==============================] - 0s 2ms/step - loss: 0.0270 - acc: 1.0000\n",
      "Epoch 337/500\n",
      "3/3 [==============================] - 0s 4ms/step - loss: 0.0269 - acc: 1.0000\n",
      "Epoch 338/500\n",
      "3/3 [==============================] - 0s 3ms/step - loss: 0.0269 - acc: 1.0000\n",
      "Epoch 339/500\n",
      "3/3 [==============================] - 0s 2ms/step - loss: 0.0268 - acc: 1.0000\n",
      "Epoch 340/500\n",
      "3/3 [==============================] - 0s 1ms/step - loss: 0.0267 - acc: 1.0000\n",
      "Epoch 341/500\n",
      "3/3 [==============================] - 0s 2ms/step - loss: 0.0266 - acc: 1.0000\n",
      "Epoch 342/500\n",
      "3/3 [==============================] - 0s 1ms/step - loss: 0.0265 - acc: 1.0000\n",
      "Epoch 343/500\n",
      "3/3 [==============================] - 0s 2ms/step - loss: 0.0265 - acc: 1.0000\n",
      "Epoch 344/500\n",
      "3/3 [==============================] - 0s 2ms/step - loss: 0.0264 - acc: 1.0000\n",
      "Epoch 345/500\n",
      "3/3 [==============================] - 0s 3ms/step - loss: 0.0263 - acc: 1.0000\n",
      "Epoch 346/500\n",
      "3/3 [==============================] - 0s 2ms/step - loss: 0.0262 - acc: 1.0000\n",
      "Epoch 347/500\n",
      "3/3 [==============================] - 0s 2ms/step - loss: 0.0261 - acc: 1.0000\n",
      "Epoch 348/500\n",
      "3/3 [==============================] - 0s 1ms/step - loss: 0.0261 - acc: 1.0000\n",
      "Epoch 349/500\n",
      "3/3 [==============================] - 0s 2ms/step - loss: 0.0260 - acc: 1.0000\n",
      "Epoch 350/500\n",
      "3/3 [==============================] - 0s 2ms/step - loss: 0.0259 - acc: 1.0000\n",
      "Epoch 351/500\n",
      "3/3 [==============================] - 0s 4ms/step - loss: 0.0258 - acc: 1.0000\n",
      "Epoch 352/500\n",
      "3/3 [==============================] - 0s 2ms/step - loss: 0.0258 - acc: 1.0000\n"
     ]
    },
    {
     "name": "stdout",
     "output_type": "stream",
     "text": [
      "Epoch 353/500\n",
      "3/3 [==============================] - 0s 2ms/step - loss: 0.0257 - acc: 1.0000\n",
      "Epoch 354/500\n",
      "3/3 [==============================] - 0s 2ms/step - loss: 0.0256 - acc: 1.0000\n",
      "Epoch 355/500\n",
      "3/3 [==============================] - 0s 2ms/step - loss: 0.0255 - acc: 1.0000\n",
      "Epoch 356/500\n",
      "3/3 [==============================] - 0s 2ms/step - loss: 0.0255 - acc: 1.0000\n",
      "Epoch 357/500\n",
      "3/3 [==============================] - 0s 2ms/step - loss: 0.0254 - acc: 1.0000\n",
      "Epoch 358/500\n",
      "3/3 [==============================] - 0s 2ms/step - loss: 0.0253 - acc: 1.0000\n",
      "Epoch 359/500\n",
      "3/3 [==============================] - 0s 2ms/step - loss: 0.0253 - acc: 1.0000\n",
      "Epoch 360/500\n",
      "3/3 [==============================] - 0s 1ms/step - loss: 0.0252 - acc: 1.0000\n",
      "Epoch 361/500\n",
      "3/3 [==============================] - 0s 2ms/step - loss: 0.0251 - acc: 1.0000\n",
      "Epoch 362/500\n",
      "3/3 [==============================] - 0s 2ms/step - loss: 0.0250 - acc: 1.0000\n",
      "Epoch 363/500\n",
      "3/3 [==============================] - 0s 2ms/step - loss: 0.0250 - acc: 1.0000\n",
      "Epoch 364/500\n",
      "3/3 [==============================] - 0s 2ms/step - loss: 0.0249 - acc: 1.0000\n",
      "Epoch 365/500\n",
      "3/3 [==============================] - 0s 1ms/step - loss: 0.0248 - acc: 1.0000\n",
      "Epoch 366/500\n",
      "3/3 [==============================] - 0s 1ms/step - loss: 0.0248 - acc: 1.0000\n",
      "Epoch 367/500\n",
      "3/3 [==============================] - 0s 3ms/step - loss: 0.0247 - acc: 1.0000\n",
      "Epoch 368/500\n",
      "3/3 [==============================] - 0s 2ms/step - loss: 0.0246 - acc: 1.0000\n",
      "Epoch 369/500\n",
      "3/3 [==============================] - 0s 2ms/step - loss: 0.0245 - acc: 1.0000\n",
      "Epoch 370/500\n",
      "3/3 [==============================] - 0s 2ms/step - loss: 0.0245 - acc: 1.0000\n",
      "Epoch 371/500\n",
      "3/3 [==============================] - 0s 1ms/step - loss: 0.0244 - acc: 1.0000\n",
      "Epoch 372/500\n",
      "3/3 [==============================] - 0s 1ms/step - loss: 0.0243 - acc: 1.0000\n",
      "Epoch 373/500\n",
      "3/3 [==============================] - 0s 2ms/step - loss: 0.0243 - acc: 1.0000\n",
      "Epoch 374/500\n",
      "3/3 [==============================] - 0s 2ms/step - loss: 0.0242 - acc: 1.0000\n",
      "Epoch 375/500\n",
      "3/3 [==============================] - 0s 2ms/step - loss: 0.0241 - acc: 1.0000\n",
      "Epoch 376/500\n",
      "3/3 [==============================] - 0s 2ms/step - loss: 0.0241 - acc: 1.0000\n",
      "Epoch 377/500\n",
      "3/3 [==============================] - 0s 1ms/step - loss: 0.0240 - acc: 1.0000\n",
      "Epoch 378/500\n",
      "3/3 [==============================] - 0s 2ms/step - loss: 0.0239 - acc: 1.0000\n",
      "Epoch 379/500\n",
      "3/3 [==============================] - 0s 2ms/step - loss: 0.0239 - acc: 1.0000\n",
      "Epoch 380/500\n",
      "3/3 [==============================] - 0s 2ms/step - loss: 0.0238 - acc: 1.0000\n",
      "Epoch 381/500\n",
      "3/3 [==============================] - 0s 3ms/step - loss: 0.0237 - acc: 1.0000\n",
      "Epoch 382/500\n",
      "3/3 [==============================] - 0s 2ms/step - loss: 0.0237 - acc: 1.0000\n",
      "Epoch 383/500\n",
      "3/3 [==============================] - 0s 3ms/step - loss: 0.0236 - acc: 1.0000\n",
      "Epoch 384/500\n",
      "3/3 [==============================] - 0s 2ms/step - loss: 0.0235 - acc: 1.0000\n",
      "Epoch 385/500\n",
      "3/3 [==============================] - 0s 1ms/step - loss: 0.0235 - acc: 1.0000\n",
      "Epoch 386/500\n",
      "3/3 [==============================] - 0s 2ms/step - loss: 0.0234 - acc: 1.0000\n",
      "Epoch 387/500\n",
      "3/3 [==============================] - 0s 2ms/step - loss: 0.0234 - acc: 1.0000\n",
      "Epoch 388/500\n",
      "3/3 [==============================] - 0s 2ms/step - loss: 0.0233 - acc: 1.0000\n",
      "Epoch 389/500\n",
      "3/3 [==============================] - 0s 2ms/step - loss: 0.0232 - acc: 1.0000\n",
      "Epoch 390/500\n",
      "3/3 [==============================] - 0s 2ms/step - loss: 0.0232 - acc: 1.0000\n",
      "Epoch 391/500\n",
      "3/3 [==============================] - 0s 2ms/step - loss: 0.0231 - acc: 1.0000\n",
      "Epoch 392/500\n",
      "3/3 [==============================] - 0s 1ms/step - loss: 0.0230 - acc: 1.0000\n",
      "Epoch 393/500\n",
      "3/3 [==============================] - 0s 1ms/step - loss: 0.0230 - acc: 1.0000\n",
      "Epoch 394/500\n",
      "3/3 [==============================] - 0s 2ms/step - loss: 0.0229 - acc: 1.0000\n",
      "Epoch 395/500\n",
      "3/3 [==============================] - 0s 2ms/step - loss: 0.0229 - acc: 1.0000\n",
      "Epoch 396/500\n",
      "3/3 [==============================] - 0s 2ms/step - loss: 0.0228 - acc: 1.0000\n",
      "Epoch 397/500\n",
      "3/3 [==============================] - 0s 2ms/step - loss: 0.0227 - acc: 1.0000\n",
      "Epoch 398/500\n",
      "3/3 [==============================] - 0s 2ms/step - loss: 0.0227 - acc: 1.0000\n",
      "Epoch 399/500\n",
      "3/3 [==============================] - 0s 2ms/step - loss: 0.0226 - acc: 1.0000\n",
      "Epoch 400/500\n",
      "3/3 [==============================] - 0s 2ms/step - loss: 0.0226 - acc: 1.0000\n",
      "Epoch 401/500\n",
      "3/3 [==============================] - 0s 2ms/step - loss: 0.0225 - acc: 1.0000\n",
      "Epoch 402/500\n",
      "3/3 [==============================] - 0s 1ms/step - loss: 0.0224 - acc: 1.0000\n",
      "Epoch 403/500\n",
      "3/3 [==============================] - 0s 1ms/step - loss: 0.0224 - acc: 1.0000\n",
      "Epoch 404/500\n",
      "3/3 [==============================] - 0s 2ms/step - loss: 0.0223 - acc: 1.0000\n",
      "Epoch 405/500\n",
      "3/3 [==============================] - 0s 2ms/step - loss: 0.0223 - acc: 1.0000\n",
      "Epoch 406/500\n",
      "3/3 [==============================] - 0s 2ms/step - loss: 0.0222 - acc: 1.0000\n",
      "Epoch 407/500\n",
      "3/3 [==============================] - 0s 1ms/step - loss: 0.0222 - acc: 1.0000\n",
      "Epoch 408/500\n",
      "3/3 [==============================] - 0s 2ms/step - loss: 0.0221 - acc: 1.0000\n",
      "Epoch 409/500\n",
      "3/3 [==============================] - 0s 3ms/step - loss: 0.0220 - acc: 1.0000\n",
      "Epoch 410/500\n",
      "3/3 [==============================] - 0s 2ms/step - loss: 0.0220 - acc: 1.0000\n",
      "Epoch 411/500\n",
      "3/3 [==============================] - 0s 2ms/step - loss: 0.0219 - acc: 1.0000\n",
      "Epoch 412/500\n",
      "3/3 [==============================] - 0s 2ms/step - loss: 0.0219 - acc: 1.0000\n",
      "Epoch 413/500\n",
      "3/3 [==============================] - 0s 2ms/step - loss: 0.0218 - acc: 1.0000\n",
      "Epoch 414/500\n",
      "3/3 [==============================] - 0s 2ms/step - loss: 0.0218 - acc: 1.0000\n",
      "Epoch 415/500\n",
      "3/3 [==============================] - 0s 2ms/step - loss: 0.0217 - acc: 1.0000\n",
      "Epoch 416/500\n",
      "3/3 [==============================] - 0s 1ms/step - loss: 0.0216 - acc: 1.0000\n",
      "Epoch 417/500\n",
      "3/3 [==============================] - 0s 1ms/step - loss: 0.0216 - acc: 1.0000\n",
      "Epoch 418/500\n",
      "3/3 [==============================] - 0s 2ms/step - loss: 0.0215 - acc: 1.0000\n",
      "Epoch 419/500\n",
      "3/3 [==============================] - 0s 1ms/step - loss: 0.0215 - acc: 1.0000\n",
      "Epoch 420/500\n",
      "3/3 [==============================] - 0s 2ms/step - loss: 0.0214 - acc: 1.0000\n",
      "Epoch 421/500\n",
      "3/3 [==============================] - 0s 2ms/step - loss: 0.0214 - acc: 1.0000\n",
      "Epoch 422/500\n",
      "3/3 [==============================] - 0s 2ms/step - loss: 0.0213 - acc: 1.0000\n",
      "Epoch 423/500\n",
      "3/3 [==============================] - 0s 2ms/step - loss: 0.0213 - acc: 1.0000\n",
      "Epoch 424/500\n",
      "3/3 [==============================] - 0s 2ms/step - loss: 0.0212 - acc: 1.0000\n",
      "Epoch 425/500\n",
      "3/3 [==============================] - 0s 1ms/step - loss: 0.0212 - acc: 1.0000\n",
      "Epoch 426/500\n",
      "3/3 [==============================] - 0s 1ms/step - loss: 0.0211 - acc: 1.0000\n",
      "Epoch 427/500\n",
      "3/3 [==============================] - 0s 2ms/step - loss: 0.0211 - acc: 1.0000\n",
      "Epoch 428/500\n",
      "3/3 [==============================] - 0s 2ms/step - loss: 0.0210 - acc: 1.0000\n",
      "Epoch 429/500\n",
      "3/3 [==============================] - 0s 2ms/step - loss: 0.0209 - acc: 1.0000\n",
      "Epoch 430/500\n",
      "3/3 [==============================] - 0s 2ms/step - loss: 0.0209 - acc: 1.0000\n",
      "Epoch 431/500\n",
      "3/3 [==============================] - 0s 1ms/step - loss: 0.0208 - acc: 1.0000\n",
      "Epoch 432/500\n",
      "3/3 [==============================] - 0s 1ms/step - loss: 0.0208 - acc: 1.0000\n",
      "Epoch 433/500\n",
      "3/3 [==============================] - 0s 3ms/step - loss: 0.0207 - acc: 1.0000\n",
      "Epoch 434/500\n",
      "3/3 [==============================] - 0s 2ms/step - loss: 0.0207 - acc: 1.0000\n",
      "Epoch 435/500\n",
      "3/3 [==============================] - 0s 2ms/step - loss: 0.0206 - acc: 1.0000\n",
      "Epoch 436/500\n",
      "3/3 [==============================] - 0s 2ms/step - loss: 0.0206 - acc: 1.0000\n",
      "Epoch 437/500\n",
      "3/3 [==============================] - 0s 1ms/step - loss: 0.0205 - acc: 1.0000\n",
      "Epoch 438/500\n",
      "3/3 [==============================] - 0s 1ms/step - loss: 0.0205 - acc: 1.0000\n",
      "Epoch 439/500\n",
      "3/3 [==============================] - 0s 2ms/step - loss: 0.0204 - acc: 1.0000\n",
      "Epoch 440/500\n",
      "3/3 [==============================] - 0s 2ms/step - loss: 0.0204 - acc: 1.0000\n"
     ]
    },
    {
     "name": "stdout",
     "output_type": "stream",
     "text": [
      "Epoch 441/500\n",
      "3/3 [==============================] - 0s 1ms/step - loss: 0.0203 - acc: 1.0000\n",
      "Epoch 442/500\n",
      "3/3 [==============================] - 0s 1ms/step - loss: 0.0203 - acc: 1.0000\n",
      "Epoch 443/500\n",
      "3/3 [==============================] - 0s 1ms/step - loss: 0.0202 - acc: 1.0000\n",
      "Epoch 444/500\n",
      "3/3 [==============================] - 0s 2ms/step - loss: 0.0202 - acc: 1.0000\n",
      "Epoch 445/500\n",
      "3/3 [==============================] - 0s 2ms/step - loss: 0.0201 - acc: 1.0000\n",
      "Epoch 446/500\n",
      "3/3 [==============================] - 0s 2ms/step - loss: 0.0201 - acc: 1.0000\n",
      "Epoch 447/500\n",
      "3/3 [==============================] - 0s 2ms/step - loss: 0.0200 - acc: 1.0000\n",
      "Epoch 448/500\n",
      "3/3 [==============================] - 0s 2ms/step - loss: 0.0200 - acc: 1.0000\n",
      "Epoch 449/500\n",
      "3/3 [==============================] - 0s 2ms/step - loss: 0.0199 - acc: 1.0000\n",
      "Epoch 450/500\n",
      "3/3 [==============================] - 0s 2ms/step - loss: 0.0199 - acc: 1.0000\n",
      "Epoch 451/500\n",
      "3/3 [==============================] - 0s 2ms/step - loss: 0.0199 - acc: 1.0000\n",
      "Epoch 452/500\n",
      "3/3 [==============================] - 0s 1ms/step - loss: 0.0198 - acc: 1.0000\n",
      "Epoch 453/500\n",
      "3/3 [==============================] - 0s 2ms/step - loss: 0.0198 - acc: 1.0000\n",
      "Epoch 454/500\n",
      "3/3 [==============================] - 0s 2ms/step - loss: 0.0197 - acc: 1.0000\n",
      "Epoch 455/500\n",
      "3/3 [==============================] - 0s 3ms/step - loss: 0.0197 - acc: 1.0000\n",
      "Epoch 456/500\n",
      "3/3 [==============================] - 0s 2ms/step - loss: 0.0196 - acc: 1.0000\n",
      "Epoch 457/500\n",
      "3/3 [==============================] - 0s 1ms/step - loss: 0.0196 - acc: 1.0000\n",
      "Epoch 458/500\n",
      "3/3 [==============================] - 0s 2ms/step - loss: 0.0195 - acc: 1.0000\n",
      "Epoch 459/500\n",
      "3/3 [==============================] - 0s 2ms/step - loss: 0.0195 - acc: 1.0000\n",
      "Epoch 460/500\n",
      "3/3 [==============================] - 0s 2ms/step - loss: 0.0194 - acc: 1.0000\n",
      "Epoch 461/500\n",
      "3/3 [==============================] - 0s 1ms/step - loss: 0.0194 - acc: 1.0000\n",
      "Epoch 462/500\n",
      "3/3 [==============================] - 0s 2ms/step - loss: 0.0193 - acc: 1.0000\n",
      "Epoch 463/500\n",
      "3/3 [==============================] - 0s 2ms/step - loss: 0.0193 - acc: 1.0000\n",
      "Epoch 464/500\n",
      "3/3 [==============================] - 0s 2ms/step - loss: 0.0193 - acc: 1.0000\n",
      "Epoch 465/500\n",
      "3/3 [==============================] - 0s 2ms/step - loss: 0.0192 - acc: 1.0000\n",
      "Epoch 466/500\n",
      "3/3 [==============================] - 0s 1ms/step - loss: 0.0192 - acc: 1.0000\n",
      "Epoch 467/500\n",
      "3/3 [==============================] - 0s 1ms/step - loss: 0.0191 - acc: 1.0000\n",
      "Epoch 468/500\n",
      "3/3 [==============================] - 0s 1ms/step - loss: 0.0191 - acc: 1.0000\n",
      "Epoch 469/500\n",
      "3/3 [==============================] - 0s 1ms/step - loss: 0.0190 - acc: 1.0000\n",
      "Epoch 470/500\n",
      "3/3 [==============================] - 0s 2ms/step - loss: 0.0190 - acc: 1.0000\n",
      "Epoch 471/500\n",
      "3/3 [==============================] - 0s 2ms/step - loss: 0.0189 - acc: 1.0000\n",
      "Epoch 472/500\n",
      "3/3 [==============================] - 0s 2ms/step - loss: 0.0189 - acc: 1.0000\n",
      "Epoch 473/500\n",
      "3/3 [==============================] - 0s 1ms/step - loss: 0.0189 - acc: 1.0000\n",
      "Epoch 474/500\n",
      "3/3 [==============================] - 0s 1ms/step - loss: 0.0188 - acc: 1.0000\n",
      "Epoch 475/500\n",
      "3/3 [==============================] - 0s 2ms/step - loss: 0.0188 - acc: 1.0000\n",
      "Epoch 476/500\n",
      "3/3 [==============================] - 0s 2ms/step - loss: 0.0187 - acc: 1.0000\n",
      "Epoch 477/500\n",
      "3/3 [==============================] - 0s 2ms/step - loss: 0.0187 - acc: 1.0000\n",
      "Epoch 478/500\n",
      "3/3 [==============================] - 0s 2ms/step - loss: 0.0186 - acc: 1.0000\n",
      "Epoch 479/500\n",
      "3/3 [==============================] - 0s 1ms/step - loss: 0.0186 - acc: 1.0000\n",
      "Epoch 480/500\n",
      "3/3 [==============================] - 0s 2ms/step - loss: 0.0186 - acc: 1.0000\n",
      "Epoch 481/500\n",
      "3/3 [==============================] - 0s 2ms/step - loss: 0.0185 - acc: 1.0000\n",
      "Epoch 482/500\n",
      "3/3 [==============================] - 0s 2ms/step - loss: 0.0185 - acc: 1.0000\n",
      "Epoch 483/500\n",
      "3/3 [==============================] - 0s 2ms/step - loss: 0.0184 - acc: 1.0000\n",
      "Epoch 484/500\n",
      "3/3 [==============================] - 0s 3ms/step - loss: 0.0184 - acc: 1.0000\n",
      "Epoch 485/500\n",
      "3/3 [==============================] - 0s 1ms/step - loss: 0.0184 - acc: 1.0000\n",
      "Epoch 486/500\n",
      "3/3 [==============================] - 0s 2ms/step - loss: 0.0183 - acc: 1.0000\n",
      "Epoch 487/500\n",
      "3/3 [==============================] - 0s 2ms/step - loss: 0.0183 - acc: 1.0000\n",
      "Epoch 488/500\n",
      "3/3 [==============================] - 0s 1ms/step - loss: 0.0182 - acc: 1.0000\n",
      "Epoch 489/500\n",
      "3/3 [==============================] - 0s 2ms/step - loss: 0.0182 - acc: 1.0000\n",
      "Epoch 490/500\n",
      "3/3 [==============================] - 0s 2ms/step - loss: 0.0181 - acc: 1.0000\n",
      "Epoch 491/500\n",
      "3/3 [==============================] - 0s 1ms/step - loss: 0.0181 - acc: 1.0000\n",
      "Epoch 492/500\n",
      "3/3 [==============================] - 0s 3ms/step - loss: 0.0181 - acc: 1.0000\n",
      "Epoch 493/500\n",
      "3/3 [==============================] - 0s 2ms/step - loss: 0.0180 - acc: 1.0000\n",
      "Epoch 494/500\n",
      "3/3 [==============================] - 0s 1ms/step - loss: 0.0180 - acc: 1.0000\n",
      "Epoch 495/500\n",
      "3/3 [==============================] - 0s 2ms/step - loss: 0.0180 - acc: 1.0000\n",
      "Epoch 496/500\n",
      "3/3 [==============================] - 0s 1ms/step - loss: 0.0179 - acc: 1.0000\n",
      "Epoch 497/500\n",
      "3/3 [==============================] - 0s 1ms/step - loss: 0.0179 - acc: 1.0000\n",
      "Epoch 498/500\n",
      "3/3 [==============================] - 0s 2ms/step - loss: 0.0178 - acc: 1.0000\n",
      "Epoch 499/500\n",
      "3/3 [==============================] - 0s 2ms/step - loss: 0.0178 - acc: 1.0000\n",
      "Epoch 500/500\n",
      "3/3 [==============================] - 0s 1ms/step - loss: 0.0178 - acc: 1.0000\n"
     ]
    }
   ],
   "source": [
    "model.compile(loss='mse', optimizer=SGD(lr=0.1), metrics=['acc']) # SGD(lr=0.01)\n",
    "# 샘플 수가 적어 학습속도를 높여야 한다. (lr=0.1)\n",
    "history = model.fit(X, y, epochs=500, verbose=True)"
   ]
  },
  {
   "cell_type": "code",
   "execution_count": 102,
   "metadata": {},
   "outputs": [
    {
     "data": {
      "text/plain": [
       "array([[0.19747484],\n",
       "       [0.00785683],\n",
       "       [0.8813    ]], dtype=float32)"
      ]
     },
     "execution_count": 102,
     "metadata": {},
     "output_type": "execute_result"
    }
   ],
   "source": [
    "model.predict(X)"
   ]
  },
  {
   "cell_type": "code",
   "execution_count": 103,
   "metadata": {},
   "outputs": [
    {
     "data": {
      "text/plain": [
       "Text(0.5,0,'epoch')"
      ]
     },
     "execution_count": 103,
     "metadata": {},
     "output_type": "execute_result"
    },
    {
     "data": {
      "image/png": "[encoded data removed]",
      "text/plain": [
       "<Figure size 432x288 with 1 Axes>"
      ]
     },
     "metadata": {},
     "output_type": "display_data"
    }
   ],
   "source": [
    "plt.plot(model.history.history['loss'])\n",
    "plt.title('Loss')\n",
    "plt.xlabel('epoch')"
   ]
  },
  {
   "cell_type": "markdown",
   "metadata": {},
   "source": [
    "### 경계선 그리기"
   ]
  },
  {
   "cell_type": "code",
   "execution_count": 104,
   "metadata": {},
   "outputs": [
    {
     "data": {
      "text/plain": [
       "<matplotlib.collections.PathCollection at 0x20728df10b8>"
      ]
     },
     "execution_count": 104,
     "metadata": {},
     "output_type": "execute_result"
    },
    {
     "data": {
      "image/png": "[encoded data removed]",
      "text/plain": [
       "<Figure size 432x288 with 1 Axes>"
      ]
     },
     "metadata": {},
     "output_type": "display_data"
    }
   ],
   "source": [
    "plt.scatter(X[:,0], X[:,1], c=y)"
   ]
  },
  {
   "cell_type": "code",
   "execution_count": 105,
   "metadata": {},
   "outputs": [],
   "source": [
    "ws = model.get_weights()"
   ]
  },
  {
   "cell_type": "code",
   "execution_count": 106,
   "metadata": {},
   "outputs": [
    {
     "data": {
      "text/plain": [
       "[array([[1.535568 ],\n",
       "        [1.2814701]], dtype=float32), array([-1.411946], dtype=float32)]"
      ]
     },
     "execution_count": 106,
     "metadata": {},
     "output_type": "execute_result"
    }
   ],
   "source": [
    "ws"
   ]
  },
  {
   "cell_type": "code",
   "execution_count": 109,
   "metadata": {},
   "outputs": [
    {
     "data": {
      "text/plain": [
       "(1.535568, 1.2814701, -1.411946)"
      ]
     },
     "execution_count": 109,
     "metadata": {},
     "output_type": "execute_result"
    }
   ],
   "source": [
    "w1 = ws[0][0,0]\n",
    "w2= ws[0][1,0]\n",
    "b = ws[1][0]\n",
    "\n",
    "w1, w2, b"
   ]
  },
  {
   "cell_type": "code",
   "execution_count": 110,
   "metadata": {},
   "outputs": [
    {
     "data": {
      "text/plain": [
       "<matplotlib.collections.PathCollection at 0x20728e08f98>"
      ]
     },
     "execution_count": 110,
     "metadata": {},
     "output_type": "execute_result"
    },
    {
     "data": {
      "image/png": "[encoded data removed]",
      "text/plain": [
       "<Figure size 432x288 with 1 Axes>"
      ]
     },
     "metadata": {},
     "output_type": "display_data"
    }
   ],
   "source": [
    "rng = np.arange(-2,2,0.1)\n",
    "hgt = -(w1/w2) * rng -(b/w2)\n",
    "\n",
    "plt.plot(rng, hgt)\n",
    "plt.scatter(X[:,0], X[:,1], c=y)"
   ]
  },
  {
   "cell_type": "markdown",
   "metadata": {},
   "source": [
    "### Keras 기본 정보"
   ]
  },
  {
   "cell_type": "markdown",
   "metadata": {},
   "source": [
    "- 케라스 설정파일 : C:/Users/[사용자이름]/.keras/keras.json\n",
    "- 데이터셋 폴더 : C:/Users/[사용자이름]/.keras\\datasets\n",
    "- 도움말 : http://keras.io\n",
    "- input_shape=(30,) 또는 input_dim=30\n",
    "- activation : softmax, relu, tanh, sigmoid (https://keras.io/activations/)"
   ]
  },
  {
   "cell_type": "markdown",
   "metadata": {},
   "source": [
    "- Sequencial 가이드 : https://keras.io/getting-started/sequential-model-guide/\n",
    "- optimizer : sgd, rmsprop, adagrad, adam (https://keras.io/optimizers/)\n",
    "- loss : mse, mae, categorical_crossentropy, binary_crossentropy (https://keras.io/losses/)\n",
    "- compile, fit 함수 설명 : https://keras.io/models/sequential/"
   ]
  },
  {
   "cell_type": "markdown",
   "metadata": {},
   "source": [
    "- keras.optimizers.RMSprop(lr=0.001, rho=0.9, epsilon=None, decay=0.0)\n",
    "- keras.optimizers.SGD(lr=0.01, momentum=0.0, decay=0.0, nesterov=False)\n",
    "- keras.optimizers.Adagrad(lr=0.01, epsilon=None, decay=0.0)"
   ]
  },
  {
   "cell_type": "code",
   "execution_count": null,
   "metadata": {},
   "outputs": [],
   "source": []
  }
 ],
 "metadata": {
  "kernelspec": {
   "display_name": "Python 3",
   "language": "python",
   "name": "python3"
  },
  "language_info": {
   "codemirror_mode": {
    "name": "ipython",
    "version": 3
   },
   "file_extension": ".py",
   "mimetype": "text/x-python",
   "name": "python",
   "nbconvert_exporter": "python",
   "pygments_lexer": "ipython3",
   "version": "3.6.8"
  }
 },
 "nbformat": 4,
 "nbformat_minor": 2
}
