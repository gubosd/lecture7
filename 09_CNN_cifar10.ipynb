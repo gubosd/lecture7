{
 "cells": [
  {
   "cell_type": "markdown",
   "metadata": {},
   "source": [
    "## Yolo 적용을 위한 파이썬과 딥러닝 이해\n",
    "# cifar-10 이미지셋 CNN 적용"
   ]
  },
  {
   "cell_type": "code",
   "execution_count": 2,
   "metadata": {},
   "outputs": [],
   "source": [
    "import numpy as np\n",
    "import matplotlib.pyplot as plt\n",
    "import pandas as pd"
   ]
  },
  {
   "cell_type": "markdown",
   "metadata": {},
   "source": [
    "### cifar-10 데이터 불러오기\n",
    "- http://www.cs.toronto.edu/~kriz/cifar.html\n",
    "- cifar-10-python.tar.gz"
   ]
  },
  {
   "cell_type": "code",
   "execution_count": 3,
   "metadata": {},
   "outputs": [],
   "source": [
    "import pickle\n",
    "\n",
    "X_train = None\n",
    "y_train = []\n",
    "\n",
    "for i in range(1,6):\n",
    "    f = open('../프로그래밍/keras_new/cifar10/data_batch_'+str(i), 'rb')\n",
    "    dict = pickle.load(f, encoding='bytes') # [b'batch_label', b'labels', b'data', b'filenames']\n",
    "    f.close()\n",
    "    \n",
    "    X_now = dict[b'data']\n",
    "    if i==1:\n",
    "        X_train = X_now\n",
    "    else:\n",
    "        X_train = np.r_[X_train, X_now]\n",
    "        \n",
    "    y_train += dict[b'labels']"
   ]
  },
  {
   "cell_type": "code",
   "execution_count": 4,
   "metadata": {},
   "outputs": [
    {
     "data": {
      "text/plain": [
       "((50000, 3072), 50000)"
      ]
     },
     "execution_count": 4,
     "metadata": {},
     "output_type": "execute_result"
    }
   ],
   "source": [
    "X_train.shape, len(y_train)"
   ]
  },
  {
   "cell_type": "markdown",
   "metadata": {},
   "source": [
    "- 3072 개의 값은 R채널, G채널, B채널 순으로 되어 있다. 즉 (3,32,32) 형태이다.\n",
    "- np.moveaxis() 를 이용해 1번 축을 마지막으로 보내야 한다."
   ]
  },
  {
   "cell_type": "code",
   "execution_count": 5,
   "metadata": {},
   "outputs": [],
   "source": [
    "X_train = np.moveaxis(X_train.reshape(-1,3,32,32), 1, -1)"
   ]
  },
  {
   "cell_type": "code",
   "execution_count": 6,
   "metadata": {},
   "outputs": [
    {
     "data": {
      "text/plain": [
       "Text(0.5,1,'6')"
      ]
     },
     "execution_count": 6,
     "metadata": {},
     "output_type": "execute_result"
    },
    {
     "data": {
      "image/png": "[encoded data removed]",
      "text/plain": [
       "<Figure size 432x288 with 1 Axes>"
      ]
     },
     "metadata": {},
     "output_type": "display_data"
    }
   ],
   "source": [
    "plt.imshow(X_train[0])\n",
    "plt.title(y_train[0], fontsize=20)"
   ]
  },
  {
   "cell_type": "code",
   "execution_count": 7,
   "metadata": {},
   "outputs": [
    {
     "data": {
      "text/plain": [
       "(dtype('uint8'), 255)"
      ]
     },
     "execution_count": 7,
     "metadata": {},
     "output_type": "execute_result"
    }
   ],
   "source": [
    "X_train[0].dtype, X_train[0].max()"
   ]
  },
  {
   "cell_type": "code",
   "execution_count": 8,
   "metadata": {},
   "outputs": [
    {
     "data": {
      "text/plain": [
       "[6, 9, 9, 4, 1, 1, 2, 7, 8, 3]"
      ]
     },
     "execution_count": 8,
     "metadata": {},
     "output_type": "execute_result"
    }
   ],
   "source": [
    "y_train[:10]"
   ]
  },
  {
   "cell_type": "markdown",
   "metadata": {},
   "source": [
    "### 테스트 데이터 불러오기"
   ]
  },
  {
   "cell_type": "code",
   "execution_count": 9,
   "metadata": {},
   "outputs": [],
   "source": [
    "import pickle\n",
    "\n",
    "f = open('../프로그래밍/keras_new/cifar10/test_batch', 'rb')\n",
    "dict = pickle.load(f, encoding='bytes') # [b'batch_label', b'labels', b'data', b'filenames']\n",
    "f.close()\n",
    "\n",
    "X_test = dict[b'data']\n",
    "y_test = dict[b'labels']"
   ]
  },
  {
   "cell_type": "code",
   "execution_count": 10,
   "metadata": {},
   "outputs": [
    {
     "data": {
      "text/plain": [
       "((10000, 3072), 10000)"
      ]
     },
     "execution_count": 10,
     "metadata": {},
     "output_type": "execute_result"
    }
   ],
   "source": [
    "X_test.shape, len(y_test)"
   ]
  },
  {
   "cell_type": "code",
   "execution_count": 11,
   "metadata": {},
   "outputs": [],
   "source": [
    "X_test = np.moveaxis(X_test.reshape(-1,3,32,32), 1, -1)"
   ]
  },
  {
   "cell_type": "markdown",
   "metadata": {},
   "source": [
    "### 사진 레이블 알아내기"
   ]
  },
  {
   "cell_type": "code",
   "execution_count": 12,
   "metadata": {},
   "outputs": [
    {
     "data": {
      "text/plain": [
       "dict_keys([b'num_cases_per_batch', b'label_names', b'num_vis'])"
      ]
     },
     "execution_count": 12,
     "metadata": {},
     "output_type": "execute_result"
    }
   ],
   "source": [
    "f = open('../프로그래밍/keras_new/cifar10/batches.meta', 'rb')\n",
    "dict = pickle.load(f, encoding='bytes') # [b'batch_label', b'labels', b'data', b'filenames']\n",
    "f.close()\n",
    "\n",
    "dict.keys()"
   ]
  },
  {
   "cell_type": "code",
   "execution_count": 13,
   "metadata": {},
   "outputs": [
    {
     "data": {
      "text/plain": [
       "[b'airplane',\n",
       " b'automobile',\n",
       " b'bird',\n",
       " b'cat',\n",
       " b'deer',\n",
       " b'dog',\n",
       " b'frog',\n",
       " b'horse',\n",
       " b'ship',\n",
       " b'truck']"
      ]
     },
     "execution_count": 13,
     "metadata": {},
     "output_type": "execute_result"
    }
   ],
   "source": [
    "dict[b'label_names']"
   ]
  },
  {
   "cell_type": "code",
   "execution_count": 14,
   "metadata": {},
   "outputs": [
    {
     "data": {
      "text/plain": [
       "['airplane',\n",
       " 'automobile',\n",
       " 'bird',\n",
       " 'cat',\n",
       " 'deer',\n",
       " 'dog',\n",
       " 'frog',\n",
       " 'horse',\n",
       " 'ship',\n",
       " 'truck']"
      ]
     },
     "execution_count": 14,
     "metadata": {},
     "output_type": "execute_result"
    }
   ],
   "source": [
    "labels = [b.decode() for b in dict[b'label_names']]\n",
    "labels"
   ]
  },
  {
   "cell_type": "markdown",
   "metadata": {},
   "source": [
    "### 데이터 정리\n",
    "- X_train, y_train\n",
    "- X_test, y_test\n",
    "- labels"
   ]
  },
  {
   "cell_type": "code",
   "execution_count": 15,
   "metadata": {},
   "outputs": [
    {
     "name": "stderr",
     "output_type": "stream",
     "text": [
      "C:\\Anaconda3\\envs\\py36\\lib\\site-packages\\h5py\\__init__.py:36: FutureWarning: Conversion of the second argument of issubdtype from `float` to `np.floating` is deprecated. In future, it will be treated as `np.float64 == np.dtype(float).type`.\n",
      "  from ._conv import register_converters as _register_converters\n",
      "Using TensorFlow backend.\n"
     ]
    }
   ],
   "source": [
    "from keras.utils import np_utils"
   ]
  },
  {
   "cell_type": "code",
   "execution_count": 16,
   "metadata": {},
   "outputs": [],
   "source": [
    "X_train = X_train/255."
   ]
  },
  {
   "cell_type": "code",
   "execution_count": 17,
   "metadata": {},
   "outputs": [],
   "source": [
    "y_train = np_utils.to_categorical(y_train, 10)"
   ]
  },
  {
   "cell_type": "code",
   "execution_count": 18,
   "metadata": {},
   "outputs": [],
   "source": [
    "X_test = X_test/255."
   ]
  },
  {
   "cell_type": "code",
   "execution_count": 19,
   "metadata": {},
   "outputs": [],
   "source": [
    "y_test = np_utils.to_categorical(y_test, 10)"
   ]
  },
  {
   "cell_type": "code",
   "execution_count": 20,
   "metadata": {},
   "outputs": [],
   "source": [
    "labels = np.array(labels)"
   ]
  },
  {
   "cell_type": "markdown",
   "metadata": {},
   "source": [
    "- 데이터 확인"
   ]
  },
  {
   "cell_type": "code",
   "execution_count": 21,
   "metadata": {},
   "outputs": [
    {
     "data": {
      "text/plain": [
       "((50000, 32, 32, 3), 1.0)"
      ]
     },
     "execution_count": 21,
     "metadata": {},
     "output_type": "execute_result"
    }
   ],
   "source": [
    "X_train.shape, X_train[0].max()"
   ]
  },
  {
   "cell_type": "code",
   "execution_count": 22,
   "metadata": {},
   "outputs": [
    {
     "data": {
      "text/plain": [
       "(50000, 10)"
      ]
     },
     "execution_count": 22,
     "metadata": {},
     "output_type": "execute_result"
    }
   ],
   "source": [
    "y_train.shape"
   ]
  },
  {
   "cell_type": "code",
   "execution_count": 23,
   "metadata": {},
   "outputs": [
    {
     "data": {
      "text/plain": [
       "((10000, 32, 32, 3), 1.0)"
      ]
     },
     "execution_count": 23,
     "metadata": {},
     "output_type": "execute_result"
    }
   ],
   "source": [
    "X_test.shape, X_test[0].max()"
   ]
  },
  {
   "cell_type": "code",
   "execution_count": 24,
   "metadata": {},
   "outputs": [
    {
     "data": {
      "text/plain": [
       "(10000, 10)"
      ]
     },
     "execution_count": 24,
     "metadata": {},
     "output_type": "execute_result"
    }
   ],
   "source": [
    "y_test.shape"
   ]
  },
  {
   "cell_type": "code",
   "execution_count": 25,
   "metadata": {},
   "outputs": [
    {
     "data": {
      "text/plain": [
       "(10,)"
      ]
     },
     "execution_count": 25,
     "metadata": {},
     "output_type": "execute_result"
    }
   ],
   "source": [
    "labels.shape"
   ]
  },
  {
   "cell_type": "markdown",
   "metadata": {},
   "source": [
    "### CNN 개념"
   ]
  },
  {
   "cell_type": "markdown",
   "metadata": {},
   "source": [
    "<img src='https://community.arm.com/cfs-file/__key/communityserver-blogs-components-weblogfiles/00-00-00-21-42/Neural-Network-Model-Definition.jpg' />\n",
    "(출처: https://community.arm.com/developer/ip-products/processors/b/processors-ip-blog/posts/deploying-convolutional-neural-network-on-cortex-m-with-cmsis-nn?CommentSortBy=CreatedDate&CommentSortOrder=Descending )<br>\n",
    "\n",
    "<img src='cifar-10.jpg' />\n",
    "(출처: https://arxiv.org/pdf/1611.04905.pdf )"
   ]
  },
  {
   "cell_type": "markdown",
   "metadata": {},
   "source": [
    "- 입력이미지 -> Convolution -> MaxPooling -> Convolution -> MaxPooling -> ... -> 완전연결층 -> 출력"
   ]
  },
  {
   "cell_type": "markdown",
   "metadata": {},
   "source": [
    "#### 첫번째 Convolution\n",
    "- cifar-10 이미지는 칼러이다. 그러므로 채널은 3개!\n",
    "- 흑백 이미지는 3X3 필터를 적용하지만, 칼러 이미지에는 3X3X3 필터를 적용한다. (마지막의 3은 채널 갯수를 나타낸다. 필터당 인자는 27개 이다.)\n",
    "- 32X32X3 칼러이미지 => Convolution(필터) 적용, 필터는 3X3X3 => 30X30 이미지\n",
    "- 필터를 32개 적용하면 => 30X30X32 이미지\n",
    "> - Convolution 을 적용할 때, 원래 이미지 크기를 유지하도록 하는 옵션이 있다. 이렇게 하는 경우\n",
    "> - 32X32X3 => 32X32X32"
   ]
  },
  {
   "cell_type": "markdown",
   "metadata": {},
   "source": [
    "#### 첫번째 MaxPooling\n",
    "- Convolution 층에서 30X30X32 이미지가 넘어온다. (채널이 32임)\n",
    "- 2X2 MaxPooling 을 적용하면 사이즈가 반으로 줄어든다.\n",
    "- 출력은 15X15X32"
   ]
  },
  {
   "cell_type": "markdown",
   "metadata": {},
   "source": [
    "#### 뒷부분 완전연결층\n",
    "- Convolution 과 MaxPooling 이 끝나면, 데이터를 1차원 형태로 풀어준다. (Flatten)\n",
    "- 그 뒷부분은 앞에서 적용했던 것 처럼, Dense 층을 연결해 주면 된다."
   ]
  },
  {
   "cell_type": "markdown",
   "metadata": {},
   "source": [
    "### Keras 적용"
   ]
  },
  {
   "cell_type": "code",
   "execution_count": 26,
   "metadata": {},
   "outputs": [],
   "source": [
    "from keras.models import Sequential\n",
    "from keras.layers.convolutional import Conv2D, MaxPooling2D\n",
    "from keras.layers import Dropout, Flatten, Dense"
   ]
  },
  {
   "cell_type": "code",
   "execution_count": 29,
   "metadata": {},
   "outputs": [],
   "source": [
    "model = Sequential()\n",
    "model.add(Conv2D(32, (3,3), padding='same', input_shape=(32,32,3), activation='relu'))\n",
    "model.add(MaxPooling2D((2,2)))\n",
    "\n",
    "model.add(Flatten())\n",
    "model.add(Dense(512, activation='relu'))\n",
    "model.add(Dense(10, activation='softmax'))"
   ]
  },
  {
   "cell_type": "code",
   "execution_count": 30,
   "metadata": {},
   "outputs": [
    {
     "name": "stdout",
     "output_type": "stream",
     "text": [
      "_________________________________________________________________\n",
      "Layer (type)                 Output Shape              Param #   \n",
      "=================================================================\n",
      "conv2d_2 (Conv2D)            (None, 32, 32, 32)        896       \n",
      "_________________________________________________________________\n",
      "max_pooling2d_2 (MaxPooling2 (None, 16, 16, 32)        0         \n",
      "_________________________________________________________________\n",
      "flatten_2 (Flatten)          (None, 8192)              0         \n",
      "_________________________________________________________________\n",
      "dense_3 (Dense)              (None, 512)               4194816   \n",
      "_________________________________________________________________\n",
      "dense_4 (Dense)              (None, 10)                5130      \n",
      "=================================================================\n",
      "Total params: 4,200,842\n",
      "Trainable params: 4,200,842\n",
      "Non-trainable params: 0\n",
      "_________________________________________________________________\n"
     ]
    }
   ],
   "source": [
    "model.summary()"
   ]
  },
  {
   "cell_type": "code",
   "execution_count": 31,
   "metadata": {},
   "outputs": [
    {
     "name": "stdout",
     "output_type": "stream",
     "text": [
      "Train on 40000 samples, validate on 10000 samples\n",
      "Epoch 1/2\n",
      "40000/40000 [==============================] - 278s 7ms/step - loss: 1.6521 - acc: 0.4246 - val_loss: 1.3306 - val_acc: 0.5318\n",
      "Epoch 2/2\n",
      "40000/40000 [==============================] - 257s 6ms/step - loss: 1.2569 - acc: 0.5596 - val_loss: 1.2406 - val_acc: 0.5610\n"
     ]
    },
    {
     "data": {
      "text/plain": [
       "<keras.callbacks.History at 0x1c988664b38>"
      ]
     },
     "execution_count": 31,
     "metadata": {},
     "output_type": "execute_result"
    }
   ],
   "source": [
    "model.compile(loss='categorical_crossentropy', optimizer='rmsprop', metrics=['acc'])\n",
    "model.fit(X_train, y_train, epochs=2, batch_size=128, validation_split=0.2)"
   ]
  },
  {
   "cell_type": "markdown",
   "metadata": {},
   "source": [
    "### Dropout 추가\n",
    "- Dropout 은 고의적으로 중간 단계의 출력값 들을 누락시키는 것이다.\n",
    "- 이렇게 하면 모델이 좀 더 예외상황에 견딜 수 있게 하여, 새로운 데이터에 대한 예측 능력을 키울 수 있다고 알려져 있다.\n",
    "- 사진의 일부분을 가리거나 시야가 흐릿해 지는 등의 효과와 비슷하다.\n",
    "- 여러가지 예외사항에 대처가 가능한 강건한 모델을 만들 수 있다.\n",
    "- 훈련시에는 출력값을 누락시키지만, 검증시에는 모든 출력값을 사용한다."
   ]
  },
  {
   "cell_type": "code",
   "execution_count": 55,
   "metadata": {},
   "outputs": [],
   "source": [
    "model = Sequential()\n",
    "model.add(Conv2D(32, (3,3), padding='same', input_shape=(32,32,3), activation='relu'))\n",
    "model.add(MaxPooling2D((2,2)))\n",
    "model.add(Dropout(0.25)) # 25% 를 누락\n",
    "\n",
    "model.add(Flatten())\n",
    "model.add(Dense(512, activation='relu'))\n",
    "model.add(Dropout(0.5)) # 50% 를 누락\n",
    "model.add(Dense(10, activation='softmax'))"
   ]
  },
  {
   "cell_type": "code",
   "execution_count": 56,
   "metadata": {},
   "outputs": [
    {
     "name": "stdout",
     "output_type": "stream",
     "text": [
      "_________________________________________________________________\n",
      "Layer (type)                 Output Shape              Param #   \n",
      "=================================================================\n",
      "conv2d_6 (Conv2D)            (None, 32, 32, 32)        896       \n",
      "_________________________________________________________________\n",
      "max_pooling2d_6 (MaxPooling2 (None, 16, 16, 32)        0         \n",
      "_________________________________________________________________\n",
      "dropout_8 (Dropout)          (None, 16, 16, 32)        0         \n",
      "_________________________________________________________________\n",
      "flatten_8 (Flatten)          (None, 8192)              0         \n",
      "_________________________________________________________________\n",
      "dense_19 (Dense)             (None, 512)               4194816   \n",
      "_________________________________________________________________\n",
      "dropout_9 (Dropout)          (None, 512)               0         \n",
      "_________________________________________________________________\n",
      "dense_20 (Dense)             (None, 10)                5130      \n",
      "=================================================================\n",
      "Total params: 4,200,842\n",
      "Trainable params: 4,200,842\n",
      "Non-trainable params: 0\n",
      "_________________________________________________________________\n"
     ]
    }
   ],
   "source": [
    "model.summary()"
   ]
  },
  {
   "cell_type": "code",
   "execution_count": 57,
   "metadata": {},
   "outputs": [],
   "source": [
    "model.compile(loss='categorical_crossentropy', optimizer='rmsprop', metrics=['acc'])"
   ]
  },
  {
   "cell_type": "code",
   "execution_count": 58,
   "metadata": {
    "scrolled": false
   },
   "outputs": [
    {
     "name": "stdout",
     "output_type": "stream",
     "text": [
      "Train on 40000 samples, validate on 10000 samples\n",
      "Epoch 1/20\n",
      "40000/40000 [==============================] - 546s 14ms/step - loss: 1.7156 - acc: 0.3955 - val_loss: 1.3837 - val_acc: 0.4985\n",
      "Epoch 2/20\n",
      "40000/40000 [==============================] - 527s 13ms/step - loss: 1.3543 - acc: 0.5210 - val_loss: 1.3672 - val_acc: 0.5241\n",
      "Epoch 3/20\n",
      "40000/40000 [==============================] - 558s 14ms/step - loss: 1.2302 - acc: 0.5663 - val_loss: 1.1823 - val_acc: 0.5855\n",
      "Epoch 4/20\n",
      "40000/40000 [==============================] - 613s 15ms/step - loss: 1.1406 - acc: 0.5965 - val_loss: 1.1255 - val_acc: 0.6144\n",
      "Epoch 5/20\n",
      "40000/40000 [==============================] - 649s 16ms/step - loss: 1.0727 - acc: 0.6222 - val_loss: 1.0686 - val_acc: 0.6323\n",
      "Epoch 6/20\n",
      "40000/40000 [==============================] - 588s 15ms/step - loss: 1.0165 - acc: 0.6437 - val_loss: 1.0950 - val_acc: 0.6215\n",
      "Epoch 7/20\n",
      "40000/40000 [==============================] - 590s 15ms/step - loss: 0.9646 - acc: 0.6621 - val_loss: 1.0520 - val_acc: 0.6440\n",
      "Epoch 8/20\n",
      "40000/40000 [==============================] - 557s 14ms/step - loss: 0.9187 - acc: 0.6785 - val_loss: 1.0497 - val_acc: 0.6366\n",
      "Epoch 9/20\n",
      "40000/40000 [==============================] - 565s 14ms/step - loss: 0.8844 - acc: 0.6918 - val_loss: 1.0086 - val_acc: 0.6609\n",
      "Epoch 10/20\n",
      "40000/40000 [==============================] - 554s 14ms/step - loss: 0.8532 - acc: 0.7034 - val_loss: 1.0088 - val_acc: 0.6614\n",
      "Epoch 11/20\n",
      "40000/40000 [==============================] - 560s 14ms/step - loss: 0.8107 - acc: 0.7183 - val_loss: 1.1236 - val_acc: 0.6280\n",
      "Epoch 12/20\n",
      "40000/40000 [==============================] - 551s 14ms/step - loss: 0.7836 - acc: 0.7288 - val_loss: 1.0248 - val_acc: 0.6555\n",
      "Epoch 13/20\n",
      "40000/40000 [==============================] - 560s 14ms/step - loss: 0.7490 - acc: 0.7409 - val_loss: 0.9947 - val_acc: 0.6726\n",
      "Epoch 14/20\n",
      "40000/40000 [==============================] - 545s 14ms/step - loss: 0.7278 - acc: 0.7489 - val_loss: 0.9988 - val_acc: 0.6765\n",
      "Epoch 15/20\n",
      "40000/40000 [==============================] - 561s 14ms/step - loss: 0.7057 - acc: 0.7560 - val_loss: 0.9838 - val_acc: 0.6773\n",
      "Epoch 16/20\n",
      "40000/40000 [==============================] - 561s 14ms/step - loss: 0.6799 - acc: 0.7643 - val_loss: 0.9821 - val_acc: 0.6773\n",
      "Epoch 17/20\n",
      "40000/40000 [==============================] - 629s 16ms/step - loss: 0.6641 - acc: 0.7703 - val_loss: 1.0357 - val_acc: 0.6642\n",
      "Epoch 18/20\n",
      "40000/40000 [==============================] - 616s 15ms/step - loss: 0.6368 - acc: 0.7792 - val_loss: 1.0290 - val_acc: 0.6630\n",
      "Epoch 19/20\n",
      "40000/40000 [==============================] - 578s 14ms/step - loss: 0.6279 - acc: 0.7841 - val_loss: 1.1235 - val_acc: 0.6487\n",
      "Epoch 20/20\n",
      "40000/40000 [==============================] - 566s 14ms/step - loss: 0.6065 - acc: 0.7913 - val_loss: 1.0424 - val_acc: 0.6734\n"
     ]
    },
    {
     "data": {
      "text/plain": [
       "<keras.callbacks.History at 0x1c993635908>"
      ]
     },
     "execution_count": 58,
     "metadata": {},
     "output_type": "execute_result"
    }
   ],
   "source": [
    "model.fit(X_train, y_train, epochs=20, batch_size=128, validation_split=0.2)"
   ]
  },
  {
   "cell_type": "code",
   "execution_count": 59,
   "metadata": {},
   "outputs": [
    {
     "data": {
      "text/plain": [
       "<matplotlib.legend.Legend at 0x1c9e8854828>"
      ]
     },
     "execution_count": 59,
     "metadata": {},
     "output_type": "execute_result"
    },
    {
     "data": {
      "image/png": "[encoded data removed]",
      "text/plain": [
       "<Figure size 720x360 with 2 Axes>"
      ]
     },
     "metadata": {},
     "output_type": "display_data"
    }
   ],
   "source": [
    "h = model.history.history\n",
    "plt.figure(figsize=[10,5])\n",
    "\n",
    "plt.subplot(1,2,1)\n",
    "plt.plot(h['loss'])\n",
    "plt.plot(h['val_loss'])\n",
    "plt.title('Loss')\n",
    "plt.xlabel('epoch')\n",
    "plt.legend(['loss','val_loss'])\n",
    "\n",
    "plt.subplot(1,2,2)\n",
    "plt.plot(h['acc'])\n",
    "plt.plot(h['val_acc'])\n",
    "plt.title('Accuracy')\n",
    "plt.xlabel('epoch')\n",
    "plt.legend(['acc','val_acc'])"
   ]
  },
  {
   "cell_type": "markdown",
   "metadata": {},
   "source": [
    "### 모델 저장 및 불러오기"
   ]
  },
  {
   "cell_type": "code",
   "execution_count": 60,
   "metadata": {},
   "outputs": [],
   "source": [
    "model.save('cifar10_model_1.h5')  # creates a HDF5 file"
   ]
  },
  {
   "cell_type": "code",
   "execution_count": 62,
   "metadata": {},
   "outputs": [],
   "source": [
    "from keras.models import load_model\n",
    "\n",
    "model2 = load_model('cifar10_model_1.h5')"
   ]
  },
  {
   "cell_type": "code",
   "execution_count": 63,
   "metadata": {},
   "outputs": [
    {
     "name": "stdout",
     "output_type": "stream",
     "text": [
      "_________________________________________________________________\n",
      "Layer (type)                 Output Shape              Param #   \n",
      "=================================================================\n",
      "conv2d_6 (Conv2D)            (None, 32, 32, 32)        896       \n",
      "_________________________________________________________________\n",
      "max_pooling2d_6 (MaxPooling2 (None, 16, 16, 32)        0         \n",
      "_________________________________________________________________\n",
      "dropout_8 (Dropout)          (None, 16, 16, 32)        0         \n",
      "_________________________________________________________________\n",
      "flatten_8 (Flatten)          (None, 8192)              0         \n",
      "_________________________________________________________________\n",
      "dense_19 (Dense)             (None, 512)               4194816   \n",
      "_________________________________________________________________\n",
      "dropout_9 (Dropout)          (None, 512)               0         \n",
      "_________________________________________________________________\n",
      "dense_20 (Dense)             (None, 10)                5130      \n",
      "=================================================================\n",
      "Total params: 4,200,842\n",
      "Trainable params: 4,200,842\n",
      "Non-trainable params: 0\n",
      "_________________________________________________________________\n"
     ]
    }
   ],
   "source": [
    "model2.summary()"
   ]
  },
  {
   "cell_type": "markdown",
   "metadata": {},
   "source": [
    "### 결과 테스트"
   ]
  },
  {
   "cell_type": "code",
   "execution_count": 64,
   "metadata": {},
   "outputs": [],
   "source": [
    "y_pred = model2.predict(X_test[:10])"
   ]
  },
  {
   "cell_type": "code",
   "execution_count": 66,
   "metadata": {},
   "outputs": [
    {
     "data": {
      "image/png": "[encoded data removed]",
      "text/plain": [
       "<Figure size 720x360 with 10 Axes>"
      ]
     },
     "metadata": {},
     "output_type": "display_data"
    }
   ],
   "source": [
    "plt.figure(figsize=[10,5])\n",
    "\n",
    "for i in range(10):\n",
    "    plt.subplot(2,5,i+1)\n",
    "    plt.imshow(X_test[i])\n",
    "    plt.axis('off')\n",
    "    plt.title(labels[np.argmax(y_test[i])] + ' - ' + labels[np.argmax(y_pred[i])])"
   ]
  },
  {
   "cell_type": "code",
   "execution_count": 72,
   "metadata": {},
   "outputs": [
    {
     "name": "stdout",
     "output_type": "stream",
     "text": [
      "(32, 32, 3) 255\n",
      "deer\n"
     ]
    }
   ],
   "source": [
    "img = plt.imread('deer32.jpg') # frog32.jpg\n",
    "print(img.shape, img.max())\n",
    "\n",
    "r = model2.predict(img.reshape(1,32,32,3)/255)[0]\n",
    "print(labels[np.argmax(r)])"
   ]
  },
  {
   "cell_type": "markdown",
   "metadata": {},
   "source": [
    "### CNN 적용하지 않은 경우와 비교"
   ]
  },
  {
   "cell_type": "code",
   "execution_count": 41,
   "metadata": {},
   "outputs": [],
   "source": [
    "model = Sequential()\n",
    "model.add(Flatten(input_shape=(32,32,3)))\n",
    "model.add(Dense(512, activation='relu'))\n",
    "model.add(Dropout(0.5)) # 50% 를 누락\n",
    "model.add(Dense(10, activation='softmax'))"
   ]
  },
  {
   "cell_type": "code",
   "execution_count": 42,
   "metadata": {
    "scrolled": true
   },
   "outputs": [
    {
     "name": "stdout",
     "output_type": "stream",
     "text": [
      "Train on 40000 samples, validate on 10000 samples\n",
      "Epoch 1/20\n",
      "40000/40000 [==============================] - 88s 2ms/step - loss: 2.4508 - acc: 0.2230 - val_loss: 1.9704 - val_acc: 0.2728\n",
      "Epoch 2/20\n",
      "40000/40000 [==============================] - 54s 1ms/step - loss: 1.9617 - acc: 0.2842 - val_loss: 1.8110 - val_acc: 0.3513\n",
      "Epoch 3/20\n",
      "40000/40000 [==============================] - 54s 1ms/step - loss: 1.9168 - acc: 0.3034 - val_loss: 1.8041 - val_acc: 0.3614\n",
      "Epoch 4/20\n",
      "40000/40000 [==============================] - 55s 1ms/step - loss: 1.8888 - acc: 0.3205 - val_loss: 1.7752 - val_acc: 0.3623\n",
      "Epoch 5/20\n",
      "40000/40000 [==============================] - 56s 1ms/step - loss: 1.8682 - acc: 0.3271 - val_loss: 1.7423 - val_acc: 0.3721\n",
      "Epoch 6/20\n",
      "40000/40000 [==============================] - 57s 1ms/step - loss: 1.8464 - acc: 0.3318 - val_loss: 1.7326 - val_acc: 0.3853\n",
      "Epoch 7/20\n",
      "40000/40000 [==============================] - 55s 1ms/step - loss: 1.8335 - acc: 0.3406 - val_loss: 1.7541 - val_acc: 0.3831\n",
      "Epoch 8/20\n",
      "40000/40000 [==============================] - 55s 1ms/step - loss: 1.8223 - acc: 0.3405 - val_loss: 1.7104 - val_acc: 0.3968\n",
      "Epoch 9/20\n",
      "40000/40000 [==============================] - 56s 1ms/step - loss: 1.8112 - acc: 0.3502 - val_loss: 1.6954 - val_acc: 0.3937\n",
      "Epoch 10/20\n",
      "40000/40000 [==============================] - 64s 2ms/step - loss: 1.8012 - acc: 0.3505 - val_loss: 1.6838 - val_acc: 0.4109\n",
      "Epoch 11/20\n",
      "40000/40000 [==============================] - 62s 2ms/step - loss: 1.7879 - acc: 0.3568 - val_loss: 1.7381 - val_acc: 0.3774\n",
      "Epoch 12/20\n",
      "40000/40000 [==============================] - 70s 2ms/step - loss: 1.7848 - acc: 0.3598 - val_loss: 1.7243 - val_acc: 0.3871\n",
      "Epoch 13/20\n",
      "40000/40000 [==============================] - 72s 2ms/step - loss: 1.7777 - acc: 0.3616 - val_loss: 1.6904 - val_acc: 0.4005\n",
      "Epoch 14/20\n",
      "40000/40000 [==============================] - 56s 1ms/step - loss: 1.7716 - acc: 0.3678 - val_loss: 1.6757 - val_acc: 0.4158\n",
      "Epoch 15/20\n",
      "40000/40000 [==============================] - 54s 1ms/step - loss: 1.7649 - acc: 0.3668 - val_loss: 1.6678 - val_acc: 0.4036\n",
      "Epoch 16/20\n",
      "40000/40000 [==============================] - 56s 1ms/step - loss: 1.7579 - acc: 0.3685 - val_loss: 1.6742 - val_acc: 0.4155\n",
      "Epoch 17/20\n",
      "40000/40000 [==============================] - 57s 1ms/step - loss: 1.7589 - acc: 0.3682 - val_loss: 1.6499 - val_acc: 0.4194\n",
      "Epoch 18/20\n",
      "40000/40000 [==============================] - 55s 1ms/step - loss: 1.7498 - acc: 0.3707 - val_loss: 1.6612 - val_acc: 0.4102\n",
      "Epoch 19/20\n",
      "40000/40000 [==============================] - 55s 1ms/step - loss: 1.7466 - acc: 0.3715 - val_loss: 1.6572 - val_acc: 0.4158\n",
      "Epoch 20/20\n",
      "40000/40000 [==============================] - 54s 1ms/step - loss: 1.7394 - acc: 0.3736 - val_loss: 1.6273 - val_acc: 0.4235\n"
     ]
    }
   ],
   "source": [
    "model.compile(loss='categorical_crossentropy', optimizer='rmsprop', metrics=['acc'])\n",
    "history = model.fit(X_train, y_train, batch_size=128, epochs=20, validation_split=0.2)"
   ]
  },
  {
   "cell_type": "code",
   "execution_count": 43,
   "metadata": {},
   "outputs": [
    {
     "data": {
      "text/plain": [
       "<matplotlib.legend.Legend at 0x1c993d06518>"
      ]
     },
     "execution_count": 43,
     "metadata": {},
     "output_type": "execute_result"
    },
    {
     "data": {
      "image/png": "[encoded data removed]",
      "text/plain": [
       "<Figure size 432x288 with 1 Axes>"
      ]
     },
     "metadata": {},
     "output_type": "display_data"
    }
   ],
   "source": [
    "h = model.history.history\n",
    "\n",
    "plt.plot(h['loss'])\n",
    "plt.plot(h['val_loss'])\n",
    "plt.title('Loss')\n",
    "plt.xlabel('epoch')\n",
    "plt.legend(['loss','val_loss'])"
   ]
  },
  {
   "cell_type": "code",
   "execution_count": 44,
   "metadata": {
    "scrolled": true
   },
   "outputs": [
    {
     "data": {
      "text/plain": [
       "<matplotlib.legend.Legend at 0x1c993a15cc0>"
      ]
     },
     "execution_count": 44,
     "metadata": {},
     "output_type": "execute_result"
    },
    {
     "data": {
      "image/png": "[encoded data removed]",
      "text/plain": [
       "<Figure size 432x288 with 1 Axes>"
      ]
     },
     "metadata": {},
     "output_type": "display_data"
    }
   ],
   "source": [
    "h = model.history.history\n",
    "\n",
    "plt.plot(h['acc'])\n",
    "plt.plot(h['val_acc'])\n",
    "plt.title('Accuracy')\n",
    "plt.xlabel('epoch')\n",
    "plt.legend(['acc','val_acc'])"
   ]
  },
  {
   "cell_type": "markdown",
   "metadata": {},
   "source": [
    "- Dropout 미적용"
   ]
  },
  {
   "cell_type": "code",
   "execution_count": 45,
   "metadata": {},
   "outputs": [],
   "source": [
    "model = Sequential()\n",
    "model.add(Flatten(input_shape=(32,32,3)))\n",
    "model.add(Dense(512, activation='relu'))\n",
    "#model.add(Dropout(0.5)) # 50% 를 누락\n",
    "model.add(Dense(10, activation='softmax'))"
   ]
  },
  {
   "cell_type": "code",
   "execution_count": 46,
   "metadata": {
    "scrolled": true
   },
   "outputs": [
    {
     "name": "stdout",
     "output_type": "stream",
     "text": [
      "Train on 40000 samples, validate on 10000 samples\n",
      "Epoch 1/20\n",
      "40000/40000 [==============================] - 55s 1ms/step - loss: 4.3760 - acc: 0.2024 - val_loss: 2.0041 - val_acc: 0.2883\n",
      "Epoch 2/20\n",
      "40000/40000 [==============================] - 54s 1ms/step - loss: 1.9042 - acc: 0.3169 - val_loss: 1.8780 - val_acc: 0.3217\n",
      "Epoch 3/20\n",
      "40000/40000 [==============================] - 58s 1ms/step - loss: 1.7743 - acc: 0.3657 - val_loss: 1.8561 - val_acc: 0.3352\n",
      "Epoch 4/20\n",
      "40000/40000 [==============================] - 56s 1ms/step - loss: 1.7107 - acc: 0.3906 - val_loss: 1.8357 - val_acc: 0.3528\n",
      "Epoch 5/20\n",
      "40000/40000 [==============================] - 52s 1ms/step - loss: 1.6573 - acc: 0.4125 - val_loss: 1.7209 - val_acc: 0.3847\n",
      "Epoch 6/20\n",
      "40000/40000 [==============================] - 53s 1ms/step - loss: 1.6210 - acc: 0.4248 - val_loss: 1.6514 - val_acc: 0.4195\n",
      "Epoch 7/20\n",
      "40000/40000 [==============================] - 51s 1ms/step - loss: 1.5863 - acc: 0.4394 - val_loss: 1.6874 - val_acc: 0.4004\n",
      "Epoch 8/20\n",
      "40000/40000 [==============================] - 51s 1ms/step - loss: 1.5614 - acc: 0.4452 - val_loss: 1.7299 - val_acc: 0.3983\n",
      "Epoch 9/20\n",
      "40000/40000 [==============================] - 51s 1ms/step - loss: 1.5395 - acc: 0.4564 - val_loss: 1.7834 - val_acc: 0.3897\n",
      "Epoch 10/20\n",
      "40000/40000 [==============================] - 52s 1ms/step - loss: 1.5224 - acc: 0.4614 - val_loss: 1.7063 - val_acc: 0.4023\n",
      "Epoch 11/20\n",
      "40000/40000 [==============================] - 56s 1ms/step - loss: 1.5048 - acc: 0.4682 - val_loss: 1.5914 - val_acc: 0.4379\n",
      "Epoch 12/20\n",
      "40000/40000 [==============================] - 56s 1ms/step - loss: 1.4859 - acc: 0.4751 - val_loss: 1.6129 - val_acc: 0.4330\n",
      "Epoch 13/20\n",
      "40000/40000 [==============================] - 53s 1ms/step - loss: 1.4689 - acc: 0.4807 - val_loss: 1.6269 - val_acc: 0.4309\n",
      "Epoch 14/20\n",
      "40000/40000 [==============================] - 54s 1ms/step - loss: 1.4591 - acc: 0.4829 - val_loss: 1.5667 - val_acc: 0.4626\n",
      "Epoch 15/20\n",
      "40000/40000 [==============================] - 54s 1ms/step - loss: 1.4431 - acc: 0.4893 - val_loss: 1.5768 - val_acc: 0.4524\n",
      "Epoch 16/20\n",
      "40000/40000 [==============================] - 56s 1ms/step - loss: 1.4341 - acc: 0.4955 - val_loss: 1.5652 - val_acc: 0.4602\n",
      "Epoch 17/20\n",
      "40000/40000 [==============================] - 56s 1ms/step - loss: 1.4180 - acc: 0.4995 - val_loss: 1.6814 - val_acc: 0.4270\n",
      "Epoch 18/20\n",
      "40000/40000 [==============================] - 57s 1ms/step - loss: 1.4054 - acc: 0.5043 - val_loss: 1.6791 - val_acc: 0.4252\n",
      "Epoch 19/20\n",
      "40000/40000 [==============================] - 53s 1ms/step - loss: 1.3961 - acc: 0.5066 - val_loss: 1.5867 - val_acc: 0.4587\n",
      "Epoch 20/20\n",
      "40000/40000 [==============================] - 55s 1ms/step - loss: 1.3852 - acc: 0.5124 - val_loss: 1.6815 - val_acc: 0.4295\n"
     ]
    }
   ],
   "source": [
    "model.compile(loss='categorical_crossentropy', optimizer='rmsprop', metrics=['acc'])\n",
    "history = model.fit(X_train, y_train, batch_size=128, epochs=20, validation_split=0.2)"
   ]
  },
  {
   "cell_type": "code",
   "execution_count": 47,
   "metadata": {},
   "outputs": [
    {
     "data": {
      "text/plain": [
       "<matplotlib.legend.Legend at 0x1c99501cf98>"
      ]
     },
     "execution_count": 47,
     "metadata": {},
     "output_type": "execute_result"
    },
    {
     "data": {
      "image/png": "[encoded data removed]",
      "text/plain": [
       "<Figure size 432x288 with 1 Axes>"
      ]
     },
     "metadata": {},
     "output_type": "display_data"
    }
   ],
   "source": [
    "h = model.history.history\n",
    "\n",
    "plt.plot(h['loss'])\n",
    "plt.plot(h['val_loss'])\n",
    "plt.title('Loss')\n",
    "plt.xlabel('epoch')\n",
    "plt.legend(['loss','val_loss'])"
   ]
  },
  {
   "cell_type": "code",
   "execution_count": 48,
   "metadata": {
    "scrolled": true
   },
   "outputs": [
    {
     "data": {
      "text/plain": [
       "<matplotlib.legend.Legend at 0x1c9950762e8>"
      ]
     },
     "execution_count": 48,
     "metadata": {},
     "output_type": "execute_result"
    },
    {
     "data": {
      "image/png": "[encoded data removed]",
      "text/plain": [
       "<Figure size 432x288 with 1 Axes>"
      ]
     },
     "metadata": {},
     "output_type": "display_data"
    }
   ],
   "source": [
    "h = model.history.history\n",
    "\n",
    "plt.plot(h['acc'])\n",
    "plt.plot(h['val_acc'])\n",
    "plt.title('Accuracy')\n",
    "plt.xlabel('epoch')\n",
    "plt.legend(['acc','val_acc'])"
   ]
  }
 ],
 "metadata": {
  "kernelspec": {
   "display_name": "Python 3",
   "language": "python",
   "name": "python3"
  },
  "language_info": {
   "codemirror_mode": {
    "name": "ipython",
    "version": 3
   },
   "file_extension": ".py",
   "mimetype": "text/x-python",
   "name": "python",
   "nbconvert_exporter": "python",
   "pygments_lexer": "ipython3",
   "version": "3.6.5"
  }
 },
 "nbformat": 4,
 "nbformat_minor": 2
}
