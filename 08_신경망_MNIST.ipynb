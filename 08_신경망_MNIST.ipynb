{
 "cells": [
  {
   "cell_type": "markdown",
   "metadata": {},
   "source": [
    "## Yolo 적용을 위한 파이썬과 딥러닝 이해\n",
    "# MNIST 신경망 적용"
   ]
  },
  {
   "cell_type": "code",
   "execution_count": 2,
   "metadata": {},
   "outputs": [],
   "source": [
    "import numpy as np\n",
    "import matplotlib.pyplot as plt\n",
    "import pandas as pd"
   ]
  },
  {
   "cell_type": "markdown",
   "metadata": {},
   "source": [
    "### MNIST 불러오기"
   ]
  },
  {
   "cell_type": "code",
   "execution_count": 3,
   "metadata": {},
   "outputs": [
    {
     "name": "stderr",
     "output_type": "stream",
     "text": [
      "C:\\Anaconda3\\envs\\py36\\lib\\site-packages\\h5py\\__init__.py:36: FutureWarning: Conversion of the second argument of issubdtype from `float` to `np.floating` is deprecated. In future, it will be treated as `np.float64 == np.dtype(float).type`.\n",
      "  from ._conv import register_converters as _register_converters\n",
      "Using TensorFlow backend.\n"
     ]
    }
   ],
   "source": [
    "from keras.datasets import mnist"
   ]
  },
  {
   "cell_type": "code",
   "execution_count": 4,
   "metadata": {},
   "outputs": [],
   "source": [
    "(X_train, y_train), (X_test, y_test) = mnist.load_data()"
   ]
  },
  {
   "cell_type": "code",
   "execution_count": 5,
   "metadata": {},
   "outputs": [
    {
     "data": {
      "text/plain": [
       "((60000, 28, 28), (60000,), (10000, 28, 28), (10000,))"
      ]
     },
     "execution_count": 5,
     "metadata": {},
     "output_type": "execute_result"
    }
   ],
   "source": [
    "X_train.shape, y_train.shape, X_test.shape, y_test.shape"
   ]
  },
  {
   "cell_type": "code",
   "execution_count": 6,
   "metadata": {},
   "outputs": [
    {
     "data": {
      "text/plain": [
       "255"
      ]
     },
     "execution_count": 6,
     "metadata": {},
     "output_type": "execute_result"
    }
   ],
   "source": [
    "X_train.max()"
   ]
  },
  {
   "cell_type": "code",
   "execution_count": 6,
   "metadata": {},
   "outputs": [
    {
     "data": {
      "text/plain": [
       "Text(0.5,1,'5')"
      ]
     },
     "execution_count": 6,
     "metadata": {},
     "output_type": "execute_result"
    },
    {
     "data": {
      "image/png": "[encoded data removed]",
      "text/plain": [
       "<Figure size 432x288 with 1 Axes>"
      ]
     },
     "metadata": {},
     "output_type": "display_data"
    }
   ],
   "source": [
    "plt.imshow(X_train[0], cmap='gray_r')\n",
    "plt.title(y_train[0])"
   ]
  },
  {
   "cell_type": "markdown",
   "metadata": {},
   "source": [
    "### 데이터 전처리\n",
    "- 값을 0~1 사이로 변환\n",
    "- 28X28 이미지를 옆으로 펼친다.\n",
    "- y 값은 원핫인코딩으로 바꾼다. (5 => [0,0,0,0,0,1,0,0,0,0])"
   ]
  },
  {
   "cell_type": "code",
   "execution_count": 7,
   "metadata": {},
   "outputs": [],
   "source": [
    "X_train = X_train.reshape(-1, 28*28)/255.\n",
    "X_test = X_test.reshape(-1, 28*28)/255.\n",
    "y_train = pd.get_dummies(y_train).values\n",
    "y_test = pd.get_dummies(y_test).values"
   ]
  },
  {
   "cell_type": "code",
   "execution_count": 8,
   "metadata": {},
   "outputs": [
    {
     "data": {
      "text/plain": [
       "((60000, 784), (60000, 10), (10000, 784), (10000, 10))"
      ]
     },
     "execution_count": 8,
     "metadata": {},
     "output_type": "execute_result"
    }
   ],
   "source": [
    "X_train.shape, y_train.shape, X_test.shape, y_test.shape"
   ]
  },
  {
   "cell_type": "code",
   "execution_count": 9,
   "metadata": {},
   "outputs": [
    {
     "data": {
      "text/plain": [
       "1.0"
      ]
     },
     "execution_count": 9,
     "metadata": {},
     "output_type": "execute_result"
    }
   ],
   "source": [
    "X_train.max()"
   ]
  },
  {
   "cell_type": "code",
   "execution_count": 10,
   "metadata": {},
   "outputs": [
    {
     "data": {
      "text/plain": [
       "array([[0, 0, 0, 0, 0, 1, 0, 0, 0, 0],\n",
       "       [1, 0, 0, 0, 0, 0, 0, 0, 0, 0],\n",
       "       [0, 0, 0, 0, 1, 0, 0, 0, 0, 0]], dtype=uint8)"
      ]
     },
     "execution_count": 10,
     "metadata": {},
     "output_type": "execute_result"
    }
   ],
   "source": [
    "y_train[:3]"
   ]
  },
  {
   "cell_type": "markdown",
   "metadata": {},
   "source": [
    "<img src='https://mmlind.github.io/images/1lnn_input.svg' />\n",
    "(출처: https://mmlind.github.io/Simple_1-Layer_Neural_Network_for_MNIST_Handwriting_Recognition/)\n",
    "- 그림에서 픽셀 갯수가 잘못 표기됨 (784가 맞음)"
   ]
  },
  {
   "cell_type": "markdown",
   "metadata": {},
   "source": [
    "<img src='https://mmlind.github.io/images/1lnn_nnlayer.svg' />\n",
    "(출처: https://mmlind.github.io/Simple_1-Layer_Neural_Network_for_MNIST_Handwriting_Recognition/)"
   ]
  },
  {
   "cell_type": "markdown",
   "metadata": {},
   "source": [
    "- 픽셀 수가 784 이므로 속성 갯수가 784인 경우이다.\n",
    "- w1, w2, w3, ..., w784, b\n",
    "- w1\\*x1 + w2\\*x2 + ... + w784\\*x784 + b"
   ]
  },
  {
   "cell_type": "markdown",
   "metadata": {},
   "source": [
    "### 타겟 클래스가 10개\n",
    "- 이전 예제에서는 청소년/어른 으로 클래스가 2개였다.\n",
    "- 하지만 MNIST 에서는 0~9 로 타겟 클래스가 총 10개 이다."
   ]
  },
  {
   "cell_type": "markdown",
   "metadata": {},
   "source": [
    "<img src='https://mmlind.github.io/images/1lnn.svg' />\n",
    "(출처: https://mmlind.github.io/Simple_1-Layer_Neural_Network_for_MNIST_Handwriting_Recognition/)"
   ]
  },
  {
   "cell_type": "markdown",
   "metadata": {},
   "source": [
    "- 타겟 클래스가 10개이므로, 가중치와 절편이 그 만큼 늘어난다.\n",
    "- 클래스값 0 => w1_1, w1_2, ..., w1_784, b1\n",
    "- 클래스값 1 -> w2_1, w2_2, ..., w2_784, b2\n",
    "- 총 가중치 = 784\\*10, 총 절편 = 10"
   ]
  },
  {
   "cell_type": "markdown",
   "metadata": {},
   "source": [
    "### 손실값 정의"
   ]
  },
  {
   "cell_type": "markdown",
   "metadata": {},
   "source": [
    "<img src='https://mmlind.github.io/images/1lnn_full.svg' />\n",
    "(출처: https://mmlind.github.io/Simple_1-Layer_Neural_Network_for_MNIST_Handwriting_Recognition/)"
   ]
  },
  {
   "cell_type": "markdown",
   "metadata": {},
   "source": [
    "- 위와 같은 결과를 얻었을 때, 손실값을 어떻게 계산할까?\n",
    "- mse = (0.003126 - 0)^2 + ... + (0.682134 - 1)^2 + ...\n",
    "- 위와 같이 mse 를 적용할 수 있다.\n",
    "- 하지만, 이런 멀티 클래스의 경우에는 다른 손실값을 적용하는 것이 일반적이다.\n",
    "- 위 그림은 숫자 6을 판별한 것이다. 그러므로 결과값은 6 위치만 값이 1이다.\n",
    "> cross\\_entropy\\_i = -log(0.682134), 입력 이미지 1개에 대한 손실값\n",
    "- 모든 숫자 이미지에 대한 크로스엔트로피를 더한 것이 최종값이다.\n",
    "> $ cross\\_entropy = \\sum_i {-log(해당숫자의 예측값)} $"
   ]
  },
  {
   "cell_type": "markdown",
   "metadata": {},
   "source": [
    "### Softmax 함수"
   ]
  },
  {
   "cell_type": "markdown",
   "metadata": {},
   "source": [
    "<img src='https://encrypted-tbn0.gstatic.com/images?q=tbn:ANd9GcQ6QRL4yW5p4j634dzSyjZWMWWCGXaU_MZVnqDq_HErnH5RCCIizQ' />\n",
    "(출처 : https://www.google.com/search?tbm=isch&sa=1&ei=VFNCXfrICcybmAWZw6_ACQ&q=mnist+softmax&oq=mnist+softmax&gs_l=img.3..0i24l3.528.3330..3872...0.0..1.585.3193.0j1j5j2j1j1......0....1..gws-wiz-img.uKr_Bjki0oA&ved=0ahUKEwj6wvvf1ODjAhXMDaYKHZnhC5gQ4dUDCAY&uact=5#imgrc=Bwc55tfbS2SjXM:)"
   ]
  },
  {
   "cell_type": "markdown",
   "metadata": {},
   "source": [
    "- 실제로는 위와 같이 마지막 출력값을 내기 전에 softmax 라는 함수를 적용하여 출력값을 바꾸어 준다."
   ]
  },
  {
   "cell_type": "markdown",
   "metadata": {},
   "source": [
    "<img src='https://i.ytimg.com/vi/lvNdl7yg4Pg/maxresdefault.jpg' />\n",
    "(출처: https://www.youtube.com/watch?v=lvNdl7yg4Pg)"
   ]
  },
  {
   "cell_type": "markdown",
   "metadata": {},
   "source": [
    "- 출력값이 [2,1,0.1] 일때, 각각에 exponential 지수를 적용한 값의 비율을 구한 것이 softmax 이다.\n",
    "- softmax 를 적용하면 최종 출력값을 모두 더하면 1이 된다. (즉 확률 개념이 된다.)"
   ]
  },
  {
   "cell_type": "markdown",
   "metadata": {},
   "source": [
    "### Keras 로 구현"
   ]
  },
  {
   "cell_type": "markdown",
   "metadata": {},
   "source": [
    "<img src='mnist_nn.jpg' />\n",
    "(출처: http://users.jyu.fi/~olkhriye/ties4911/lectures/Lecture03.pdf )<br>\n",
    "<img src='https://image.slidesharecdn.com/tensorflowppt-160408142819/95/tensorflow-5-638.jpg?cb=1460125744' />\n",
    "(출처: https://www.slideshare.net/jirimaterna/tensorflow-60661959 )"
   ]
  },
  {
   "cell_type": "code",
   "execution_count": 11,
   "metadata": {},
   "outputs": [],
   "source": [
    "from keras.models import Sequential\n",
    "from keras.layers import Dense"
   ]
  },
  {
   "cell_type": "code",
   "execution_count": 14,
   "metadata": {},
   "outputs": [],
   "source": [
    "model = Sequential()\n",
    "model.add(Dense(10, activation='softmax', input_shape=(784,)))"
   ]
  },
  {
   "cell_type": "markdown",
   "metadata": {},
   "source": [
    "- 이전에는 손실값을 줄이는 알고리즘으로 SGD 를 사용하였다.\n",
    "- SGD 보다 향상된 알고리즘인 RMSProp 를 적용해 보자."
   ]
  },
  {
   "cell_type": "code",
   "execution_count": 15,
   "metadata": {},
   "outputs": [],
   "source": [
    "model.compile(loss='categorical_crossentropy', optimizer='rmsprop', metrics=['acc'])"
   ]
  },
  {
   "cell_type": "code",
   "execution_count": 16,
   "metadata": {
    "scrolled": false
   },
   "outputs": [
    {
     "name": "stdout",
     "output_type": "stream",
     "text": [
      "Train on 48000 samples, validate on 12000 samples\n",
      "Epoch 1/50\n",
      "48000/48000 [==============================] - 5s 98us/step - loss: 0.6735 - acc: 0.8336 - val_loss: 0.3586 - val_acc: 0.9036\n",
      "Epoch 2/50\n",
      "48000/48000 [==============================] - 4s 81us/step - loss: 0.3504 - acc: 0.9030 - val_loss: 0.3072 - val_acc: 0.9140\n",
      "Epoch 3/50\n",
      "48000/48000 [==============================] - 4s 84us/step - loss: 0.3149 - acc: 0.9116 - val_loss: 0.2908 - val_acc: 0.9177\n",
      "Epoch 4/50\n",
      "48000/48000 [==============================] - 4s 84us/step - loss: 0.2989 - acc: 0.9163 - val_loss: 0.2820 - val_acc: 0.9202\n",
      "Epoch 5/50\n",
      "48000/48000 [==============================] - 4s 82us/step - loss: 0.2894 - acc: 0.9190 - val_loss: 0.2748 - val_acc: 0.9244\n",
      "Epoch 6/50\n",
      "48000/48000 [==============================] - 4s 82us/step - loss: 0.2828 - acc: 0.9211 - val_loss: 0.2723 - val_acc: 0.9242\n",
      "Epoch 7/50\n",
      "48000/48000 [==============================] - 4s 83us/step - loss: 0.2777 - acc: 0.9220 - val_loss: 0.2706 - val_acc: 0.9251\n",
      "Epoch 8/50\n",
      "48000/48000 [==============================] - 4s 82us/step - loss: 0.2739 - acc: 0.9231 - val_loss: 0.2679 - val_acc: 0.9267\n",
      "Epoch 9/50\n",
      "48000/48000 [==============================] - 4s 83us/step - loss: 0.2709 - acc: 0.9245 - val_loss: 0.2677 - val_acc: 0.9278\n",
      "Epoch 10/50\n",
      "48000/48000 [==============================] - 4s 83us/step - loss: 0.2683 - acc: 0.9251 - val_loss: 0.2653 - val_acc: 0.9283\n",
      "Epoch 11/50\n",
      "48000/48000 [==============================] - 4s 83us/step - loss: 0.2662 - acc: 0.9261 - val_loss: 0.2639 - val_acc: 0.9292\n",
      "Epoch 12/50\n",
      "48000/48000 [==============================] - 4s 84us/step - loss: 0.2645 - acc: 0.9270 - val_loss: 0.2645 - val_acc: 0.9285\n",
      "Epoch 13/50\n",
      "48000/48000 [==============================] - 4s 83us/step - loss: 0.2629 - acc: 0.9277 - val_loss: 0.2629 - val_acc: 0.9302\n",
      "Epoch 14/50\n",
      "48000/48000 [==============================] - 4s 82us/step - loss: 0.2611 - acc: 0.9283 - val_loss: 0.2619 - val_acc: 0.9309\n",
      "Epoch 15/50\n",
      "48000/48000 [==============================] - 4s 83us/step - loss: 0.2600 - acc: 0.9287 - val_loss: 0.2619 - val_acc: 0.9304\n",
      "Epoch 16/50\n",
      "48000/48000 [==============================] - 4s 81us/step - loss: 0.2586 - acc: 0.9289 - val_loss: 0.2614 - val_acc: 0.9316\n",
      "Epoch 17/50\n",
      "48000/48000 [==============================] - 4s 81us/step - loss: 0.2580 - acc: 0.9291 - val_loss: 0.2630 - val_acc: 0.9307\n",
      "Epoch 18/50\n",
      "48000/48000 [==============================] - 4s 81us/step - loss: 0.2569 - acc: 0.9298 - val_loss: 0.2611 - val_acc: 0.9301\n",
      "Epoch 19/50\n",
      "48000/48000 [==============================] - 4s 81us/step - loss: 0.2559 - acc: 0.9298 - val_loss: 0.2614 - val_acc: 0.9306\n",
      "Epoch 20/50\n",
      "48000/48000 [==============================] - 4s 81us/step - loss: 0.2551 - acc: 0.9302 - val_loss: 0.2598 - val_acc: 0.9310\n",
      "Epoch 21/50\n",
      "48000/48000 [==============================] - 4s 81us/step - loss: 0.2540 - acc: 0.9300 - val_loss: 0.2615 - val_acc: 0.9305\n",
      "Epoch 22/50\n",
      "48000/48000 [==============================] - 4s 81us/step - loss: 0.2536 - acc: 0.9307 - val_loss: 0.2613 - val_acc: 0.9307\n",
      "Epoch 23/50\n",
      "48000/48000 [==============================] - 4s 80us/step - loss: 0.2532 - acc: 0.9306 - val_loss: 0.2611 - val_acc: 0.9312\n",
      "Epoch 24/50\n",
      "48000/48000 [==============================] - 4s 79us/step - loss: 0.2524 - acc: 0.9312 - val_loss: 0.2603 - val_acc: 0.9308\n",
      "Epoch 25/50\n",
      "48000/48000 [==============================] - 4s 79us/step - loss: 0.2518 - acc: 0.9315 - val_loss: 0.2614 - val_acc: 0.9309\n",
      "Epoch 26/50\n",
      "48000/48000 [==============================] - 4s 80us/step - loss: 0.2512 - acc: 0.9318 - val_loss: 0.2623 - val_acc: 0.9311\n",
      "Epoch 27/50\n",
      "48000/48000 [==============================] - 4s 79us/step - loss: 0.2506 - acc: 0.9319 - val_loss: 0.2626 - val_acc: 0.9313\n",
      "Epoch 28/50\n",
      "48000/48000 [==============================] - 4s 79us/step - loss: 0.2500 - acc: 0.9320 - val_loss: 0.2620 - val_acc: 0.9304\n",
      "Epoch 29/50\n",
      "48000/48000 [==============================] - 4s 79us/step - loss: 0.2498 - acc: 0.9324 - val_loss: 0.2613 - val_acc: 0.9319\n",
      "Epoch 30/50\n",
      "48000/48000 [==============================] - 4s 79us/step - loss: 0.2491 - acc: 0.9329 - val_loss: 0.2621 - val_acc: 0.9314\n",
      "Epoch 31/50\n",
      "48000/48000 [==============================] - 4s 78us/step - loss: 0.2486 - acc: 0.9326 - val_loss: 0.2618 - val_acc: 0.9322\n",
      "Epoch 32/50\n",
      "48000/48000 [==============================] - 4s 78us/step - loss: 0.2485 - acc: 0.9329 - val_loss: 0.2622 - val_acc: 0.9312\n",
      "Epoch 33/50\n",
      "48000/48000 [==============================] - 4s 78us/step - loss: 0.2481 - acc: 0.9331 - val_loss: 0.2628 - val_acc: 0.9325\n",
      "Epoch 34/50\n",
      "48000/48000 [==============================] - 4s 78us/step - loss: 0.2475 - acc: 0.9327 - val_loss: 0.2625 - val_acc: 0.9317\n",
      "Epoch 35/50\n",
      "48000/48000 [==============================] - 4s 77us/step - loss: 0.2474 - acc: 0.9332 - val_loss: 0.2624 - val_acc: 0.9314\n",
      "Epoch 36/50\n",
      "48000/48000 [==============================] - 4s 81us/step - loss: 0.2471 - acc: 0.9329 - val_loss: 0.2638 - val_acc: 0.9320\n",
      "Epoch 37/50\n",
      "48000/48000 [==============================] - 4s 82us/step - loss: 0.2467 - acc: 0.9329 - val_loss: 0.2634 - val_acc: 0.9312\n",
      "Epoch 38/50\n",
      "48000/48000 [==============================] - 4s 83us/step - loss: 0.2463 - acc: 0.9337 - val_loss: 0.2642 - val_acc: 0.9317\n",
      "Epoch 39/50\n",
      "48000/48000 [==============================] - 4s 83us/step - loss: 0.2460 - acc: 0.9341 - val_loss: 0.2648 - val_acc: 0.9313\n",
      "Epoch 40/50\n",
      "48000/48000 [==============================] - 4s 81us/step - loss: 0.2456 - acc: 0.9339 - val_loss: 0.2672 - val_acc: 0.9321\n",
      "Epoch 41/50\n",
      "48000/48000 [==============================] - 4s 82us/step - loss: 0.2457 - acc: 0.9340 - val_loss: 0.2651 - val_acc: 0.9316\n",
      "Epoch 42/50\n",
      "48000/48000 [==============================] - 4s 82us/step - loss: 0.2451 - acc: 0.9340 - val_loss: 0.2656 - val_acc: 0.9307\n",
      "Epoch 43/50\n",
      "48000/48000 [==============================] - 4s 84us/step - loss: 0.2449 - acc: 0.9337 - val_loss: 0.2645 - val_acc: 0.9317\n",
      "Epoch 44/50\n",
      "48000/48000 [==============================] - 4s 82us/step - loss: 0.2447 - acc: 0.9349 - val_loss: 0.2689 - val_acc: 0.9316\n",
      "Epoch 45/50\n",
      "48000/48000 [==============================] - 4s 83us/step - loss: 0.2446 - acc: 0.9344 - val_loss: 0.2661 - val_acc: 0.9312\n",
      "Epoch 46/50\n",
      "48000/48000 [==============================] - 4s 82us/step - loss: 0.2441 - acc: 0.9343 - val_loss: 0.2661 - val_acc: 0.9319\n",
      "Epoch 47/50\n",
      "48000/48000 [==============================] - 4s 80us/step - loss: 0.2438 - acc: 0.9350 - val_loss: 0.2666 - val_acc: 0.9317\n",
      "Epoch 48/50\n",
      "48000/48000 [==============================] - 4s 80us/step - loss: 0.2437 - acc: 0.9343 - val_loss: 0.2675 - val_acc: 0.9311\n",
      "Epoch 49/50\n",
      "48000/48000 [==============================] - 4s 79us/step - loss: 0.2435 - acc: 0.9347 - val_loss: 0.2677 - val_acc: 0.9311\n",
      "Epoch 50/50\n",
      "48000/48000 [==============================] - 4s 80us/step - loss: 0.2434 - acc: 0.9348 - val_loss: 0.2660 - val_acc: 0.9320\n"
     ]
    }
   ],
   "source": [
    "history = model.fit(X_train, y_train, batch_size=128, epochs=50, validation_split=0.2)"
   ]
  },
  {
   "cell_type": "code",
   "execution_count": 17,
   "metadata": {},
   "outputs": [
    {
     "data": {
      "text/plain": [
       "<matplotlib.legend.Legend at 0x237416d6080>"
      ]
     },
     "execution_count": 17,
     "metadata": {},
     "output_type": "execute_result"
    },
    {
     "data": {
      "image/png": "[encoded data removed]",
      "text/plain": [
       "<Figure size 432x288 with 1 Axes>"
      ]
     },
     "metadata": {},
     "output_type": "display_data"
    }
   ],
   "source": [
    "plt.plot(history.history['loss'])\n",
    "plt.plot(history.history['val_loss'])\n",
    "plt.title('Loss')\n",
    "plt.xlabel('epoch')\n",
    "plt.legend(['loss','val_loss'])"
   ]
  },
  {
   "cell_type": "code",
   "execution_count": 18,
   "metadata": {},
   "outputs": [
    {
     "data": {
      "text/plain": [
       "<matplotlib.legend.Legend at 0x2374174e668>"
      ]
     },
     "execution_count": 18,
     "metadata": {},
     "output_type": "execute_result"
    },
    {
     "data": {
      "image/png": "[encoded data removed]",
      "text/plain": [
       "<Figure size 432x288 with 1 Axes>"
      ]
     },
     "metadata": {},
     "output_type": "display_data"
    }
   ],
   "source": [
    "plt.plot(history.history['acc'])\n",
    "plt.plot(history.history['val_acc'])\n",
    "plt.title('Validation Accuracy')\n",
    "plt.xlabel('epoch')\n",
    "plt.legend(['acc','val_acc'])"
   ]
  },
  {
   "cell_type": "markdown",
   "metadata": {},
   "source": [
    "### 가중치 분석\n",
    "- 하나의 타겟 클래스로 향하는 화살표를 보면 모두 784개이다.\n",
    "- 화살표 마다 가중치가 하나씩 있으므로 클래스 마다 28X28 인 이미지로 표시할 수 있다."
   ]
  },
  {
   "cell_type": "code",
   "execution_count": 19,
   "metadata": {},
   "outputs": [],
   "source": [
    "ws = model.get_weights()"
   ]
  },
  {
   "cell_type": "code",
   "execution_count": 20,
   "metadata": {},
   "outputs": [
    {
     "data": {
      "text/plain": [
       "(784, 10)"
      ]
     },
     "execution_count": 20,
     "metadata": {},
     "output_type": "execute_result"
    }
   ],
   "source": [
    "ws[0].shape"
   ]
  },
  {
   "cell_type": "code",
   "execution_count": 21,
   "metadata": {},
   "outputs": [
    {
     "data": {
      "image/png": "[encoded data removed]",
      "text/plain": [
       "<Figure size 864x720 with 20 Axes>"
      ]
     },
     "metadata": {},
     "output_type": "display_data"
    }
   ],
   "source": [
    "plt.figure(figsize=[12,10])\n",
    "\n",
    "for i in range(10):\n",
    "    plt.subplot(3,4,i+1)\n",
    "    plt.imshow(ws[0][:,i].reshape(28,28), cmap='bwr')\n",
    "    plt.axis('off')\n",
    "    plt.title(i)\n",
    "    plt.colorbar()"
   ]
  },
  {
   "cell_type": "markdown",
   "metadata": {},
   "source": [
    "### 중간층 추가 (Hidden Layer)\n",
    "- 아래 그림과 같이 입력과 출력 중간에 단계를 하나 더 넣는다. (여러개를 넣을 수도 있다.)\n",
    "- 중간층의 출력값은 그냥 사용하지 않고 ReLU 함수를 적용한다."
   ]
  },
  {
   "cell_type": "markdown",
   "metadata": {},
   "source": [
    "<img src='https://ml4a.github.io/images/figures/mnist_2layers.png' />\n",
    "(출처: https://ml4a.github.io/ml4a/looking_inside_neural_nets/ )"
   ]
  },
  {
   "cell_type": "markdown",
   "metadata": {},
   "source": [
    "<img src='https://miro.medium.com/max/700/1*v88ySSMr7JLaIBjwr4chTw.jpeg' />\n",
    "(출처: https://ml4a.github.io/ml4a/looking_inside_neural_nets/ )"
   ]
  },
  {
   "cell_type": "markdown",
   "metadata": {},
   "source": [
    "- ReLU 함수"
   ]
  },
  {
   "cell_type": "code",
   "execution_count": 33,
   "metadata": {},
   "outputs": [],
   "source": [
    "def relu(t):\n",
    "    r = t\n",
    "    if r<0: r=0\n",
    "    return r"
   ]
  },
  {
   "cell_type": "code",
   "execution_count": 36,
   "metadata": {},
   "outputs": [
    {
     "data": {
      "text/plain": [
       "Text(0.5,1,'ReLU function')"
      ]
     },
     "execution_count": 36,
     "metadata": {},
     "output_type": "execute_result"
    },
    {
     "data": {
      "image/png": "[encoded data removed]",
      "text/plain": [
       "<Figure size 432x288 with 1 Axes>"
      ]
     },
     "metadata": {},
     "output_type": "display_data"
    }
   ],
   "source": [
    "rng = np.arange(-5,10,0.1)\n",
    "hgt = rng.copy()\n",
    "hgt[hgt<0] = 0\n",
    "\n",
    "plt.plot(rng, hgt)\n",
    "plt.axis('equal')\n",
    "plt.title('ReLU function')"
   ]
  },
  {
   "cell_type": "code",
   "execution_count": 25,
   "metadata": {},
   "outputs": [],
   "source": [
    "model = Sequential()\n",
    "model.add(Dense(128, activation='relu', input_shape=(784,))) # 128 노드, ReLU 적용\n",
    "model.add(Dense(10, activation='softmax'))"
   ]
  },
  {
   "cell_type": "code",
   "execution_count": 26,
   "metadata": {},
   "outputs": [],
   "source": [
    "model.compile(loss='categorical_crossentropy', optimizer='rmsprop', metrics=['acc'])"
   ]
  },
  {
   "cell_type": "code",
   "execution_count": 27,
   "metadata": {
    "scrolled": false
   },
   "outputs": [
    {
     "name": "stdout",
     "output_type": "stream",
     "text": [
      "Train on 48000 samples, validate on 12000 samples\n",
      "Epoch 1/50\n",
      "48000/48000 [==============================] - 9s 182us/step - loss: 0.3676 - acc: 0.8988 - val_loss: 0.2213 - val_acc: 0.9373\n",
      "Epoch 2/50\n",
      "48000/48000 [==============================] - 8s 159us/step - loss: 0.1789 - acc: 0.9489 - val_loss: 0.1530 - val_acc: 0.9560\n",
      "Epoch 3/50\n",
      "48000/48000 [==============================] - 7s 155us/step - loss: 0.1301 - acc: 0.9614 - val_loss: 0.1237 - val_acc: 0.9627\n",
      "Epoch 4/50\n",
      "48000/48000 [==============================] - 7s 148us/step - loss: 0.1024 - acc: 0.9702 - val_loss: 0.1109 - val_acc: 0.9678\n",
      "Epoch 5/50\n",
      "48000/48000 [==============================] - 7s 149us/step - loss: 0.0824 - acc: 0.9760 - val_loss: 0.0976 - val_acc: 0.9702\n",
      "Epoch 6/50\n",
      "48000/48000 [==============================] - 7s 146us/step - loss: 0.0690 - acc: 0.9799 - val_loss: 0.1016 - val_acc: 0.9702\n",
      "Epoch 7/50\n",
      "48000/48000 [==============================] - 7s 140us/step - loss: 0.0577 - acc: 0.9832 - val_loss: 0.0901 - val_acc: 0.9726\n",
      "Epoch 8/50\n",
      "48000/48000 [==============================] - 6s 132us/step - loss: 0.0489 - acc: 0.9856 - val_loss: 0.0928 - val_acc: 0.9721\n",
      "Epoch 9/50\n",
      "48000/48000 [==============================] - 6s 131us/step - loss: 0.0417 - acc: 0.9881 - val_loss: 0.0862 - val_acc: 0.9738\n",
      "Epoch 10/50\n",
      "48000/48000 [==============================] - 6s 130us/step - loss: 0.0356 - acc: 0.9901 - val_loss: 0.0859 - val_acc: 0.9742\n",
      "Epoch 11/50\n",
      "48000/48000 [==============================] - 6s 130us/step - loss: 0.0305 - acc: 0.9917 - val_loss: 0.0869 - val_acc: 0.9748\n",
      "Epoch 12/50\n",
      "48000/48000 [==============================] - 6s 128us/step - loss: 0.0265 - acc: 0.9927 - val_loss: 0.0896 - val_acc: 0.9742\n",
      "Epoch 13/50\n",
      "48000/48000 [==============================] - 6s 128us/step - loss: 0.0221 - acc: 0.9943 - val_loss: 0.0900 - val_acc: 0.9758\n",
      "Epoch 14/50\n",
      "48000/48000 [==============================] - 6s 127us/step - loss: 0.0193 - acc: 0.9951 - val_loss: 0.0951 - val_acc: 0.9751\n",
      "Epoch 15/50\n",
      "48000/48000 [==============================] - 7s 141us/step - loss: 0.0165 - acc: 0.9960 - val_loss: 0.0915 - val_acc: 0.9753\n",
      "Epoch 16/50\n",
      "48000/48000 [==============================] - 7s 142us/step - loss: 0.0138 - acc: 0.9963 - val_loss: 0.0942 - val_acc: 0.9762\n",
      "Epoch 17/50\n",
      "48000/48000 [==============================] - 7s 141us/step - loss: 0.0119 - acc: 0.9969 - val_loss: 0.0943 - val_acc: 0.9749\n",
      "Epoch 18/50\n",
      "48000/48000 [==============================] - 7s 142us/step - loss: 0.0103 - acc: 0.9975 - val_loss: 0.1007 - val_acc: 0.9735\n",
      "Epoch 19/50\n",
      "48000/48000 [==============================] - 7s 141us/step - loss: 0.0088 - acc: 0.9980 - val_loss: 0.0952 - val_acc: 0.9763\n",
      "Epoch 20/50\n",
      "48000/48000 [==============================] - 7s 141us/step - loss: 0.0075 - acc: 0.9980 - val_loss: 0.1003 - val_acc: 0.9751\n",
      "Epoch 21/50\n",
      "48000/48000 [==============================] - 7s 137us/step - loss: 0.0063 - acc: 0.9988 - val_loss: 0.1025 - val_acc: 0.9757\n",
      "Epoch 22/50\n",
      "48000/48000 [==============================] - 7s 142us/step - loss: 0.0056 - acc: 0.9987 - val_loss: 0.1027 - val_acc: 0.9763\n",
      "Epoch 23/50\n",
      "48000/48000 [==============================] - 7s 138us/step - loss: 0.0046 - acc: 0.9991 - val_loss: 0.1004 - val_acc: 0.9778\n",
      "Epoch 24/50\n",
      "48000/48000 [==============================] - 7s 139us/step - loss: 0.0039 - acc: 0.9994 - val_loss: 0.1014 - val_acc: 0.9775\n",
      "Epoch 25/50\n",
      "48000/48000 [==============================] - 7s 137us/step - loss: 0.0031 - acc: 0.9995 - val_loss: 0.1053 - val_acc: 0.9770\n",
      "Epoch 26/50\n",
      "48000/48000 [==============================] - 7s 139us/step - loss: 0.0028 - acc: 0.9994 - val_loss: 0.1068 - val_acc: 0.9768\n",
      "Epoch 27/50\n",
      "48000/48000 [==============================] - 7s 136us/step - loss: 0.0022 - acc: 0.9997 - val_loss: 0.1076 - val_acc: 0.9773\n",
      "Epoch 28/50\n",
      "48000/48000 [==============================] - 7s 136us/step - loss: 0.0018 - acc: 0.9998 - val_loss: 0.1117 - val_acc: 0.9763\n",
      "Epoch 29/50\n",
      "48000/48000 [==============================] - 7s 136us/step - loss: 0.0016 - acc: 0.9998 - val_loss: 0.1189 - val_acc: 0.9757\n",
      "Epoch 30/50\n",
      "48000/48000 [==============================] - 6s 135us/step - loss: 0.0014 - acc: 0.9998 - val_loss: 0.1127 - val_acc: 0.9774\n",
      "Epoch 31/50\n",
      "48000/48000 [==============================] - 7s 138us/step - loss: 0.0013 - acc: 0.9998 - val_loss: 0.1158 - val_acc: 0.9775\n",
      "Epoch 32/50\n",
      "48000/48000 [==============================] - 7s 136us/step - loss: 8.7525e-04 - acc: 0.9999 - val_loss: 0.1202 - val_acc: 0.9776\n",
      "Epoch 33/50\n",
      "48000/48000 [==============================] - 7s 136us/step - loss: 8.3863e-04 - acc: 0.9998 - val_loss: 0.1189 - val_acc: 0.9771\n",
      "Epoch 34/50\n",
      "48000/48000 [==============================] - 6s 135us/step - loss: 6.7411e-04 - acc: 0.9999 - val_loss: 0.1191 - val_acc: 0.9783\n",
      "Epoch 35/50\n",
      "48000/48000 [==============================] - 6s 134us/step - loss: 5.8058e-04 - acc: 0.9999 - val_loss: 0.1198 - val_acc: 0.9791\n",
      "Epoch 36/50\n",
      "48000/48000 [==============================] - 6s 134us/step - loss: 4.3461e-04 - acc: 1.0000 - val_loss: 0.1288 - val_acc: 0.9777\n",
      "Epoch 37/50\n",
      "48000/48000 [==============================] - 7s 137us/step - loss: 4.8280e-04 - acc: 0.9999 - val_loss: 0.1298 - val_acc: 0.9778\n",
      "Epoch 38/50\n",
      "48000/48000 [==============================] - 7s 137us/step - loss: 3.2840e-04 - acc: 1.0000 - val_loss: 0.1331 - val_acc: 0.9767\n",
      "Epoch 39/50\n",
      "48000/48000 [==============================] - 7s 137us/step - loss: 2.3967e-04 - acc: 1.0000 - val_loss: 0.1338 - val_acc: 0.9781\n",
      "Epoch 40/50\n",
      "48000/48000 [==============================] - 7s 140us/step - loss: 2.0669e-04 - acc: 1.0000 - val_loss: 0.1337 - val_acc: 0.9778\n",
      "Epoch 41/50\n",
      "48000/48000 [==============================] - 7s 137us/step - loss: 2.2511e-04 - acc: 1.0000 - val_loss: 0.1335 - val_acc: 0.9776\n",
      "Epoch 42/50\n",
      "48000/48000 [==============================] - 6s 134us/step - loss: 1.4020e-04 - acc: 1.0000 - val_loss: 0.1446 - val_acc: 0.9765\n",
      "Epoch 43/50\n",
      "48000/48000 [==============================] - 7s 136us/step - loss: 1.2837e-04 - acc: 1.0000 - val_loss: 0.1401 - val_acc: 0.9778\n",
      "Epoch 44/50\n",
      "48000/48000 [==============================] - 6s 135us/step - loss: 8.9227e-05 - acc: 1.0000 - val_loss: 0.1404 - val_acc: 0.9773\n",
      "Epoch 45/50\n",
      "48000/48000 [==============================] - 6s 132us/step - loss: 8.2972e-05 - acc: 1.0000 - val_loss: 0.1416 - val_acc: 0.9778\n",
      "Epoch 46/50\n",
      "48000/48000 [==============================] - 6s 133us/step - loss: 9.2724e-05 - acc: 1.0000 - val_loss: 0.1489 - val_acc: 0.9774\n",
      "Epoch 47/50\n",
      "48000/48000 [==============================] - 6s 131us/step - loss: 6.4289e-05 - acc: 1.0000 - val_loss: 0.1460 - val_acc: 0.9782\n",
      "Epoch 48/50\n",
      "48000/48000 [==============================] - 6s 134us/step - loss: 4.4061e-05 - acc: 1.0000 - val_loss: 0.1513 - val_acc: 0.9767\n",
      "Epoch 49/50\n",
      "48000/48000 [==============================] - 6s 133us/step - loss: 9.5992e-05 - acc: 1.0000 - val_loss: 0.1475 - val_acc: 0.9782\n",
      "Epoch 50/50\n",
      "48000/48000 [==============================] - 6s 134us/step - loss: 2.5162e-05 - acc: 1.0000 - val_loss: 0.1554 - val_acc: 0.9772\n"
     ]
    }
   ],
   "source": [
    "history = model.fit(X_train, y_train, batch_size=128, epochs=50, validation_split=0.2)"
   ]
  },
  {
   "cell_type": "code",
   "execution_count": 28,
   "metadata": {},
   "outputs": [
    {
     "data": {
      "text/plain": [
       "<matplotlib.legend.Legend at 0x2374350b5c0>"
      ]
     },
     "execution_count": 28,
     "metadata": {},
     "output_type": "execute_result"
    },
    {
     "data": {
      "image/png": "[encoded data removed]",
      "text/plain": [
       "<Figure size 432x288 with 1 Axes>"
      ]
     },
     "metadata": {},
     "output_type": "display_data"
    }
   ],
   "source": [
    "plt.plot(history.history['loss'])\n",
    "plt.plot(history.history['val_loss'])\n",
    "plt.title('Loss')\n",
    "plt.xlabel('epoch')\n",
    "plt.legend(['loss','val_loss'])"
   ]
  },
  {
   "cell_type": "code",
   "execution_count": 29,
   "metadata": {},
   "outputs": [
    {
     "data": {
      "text/plain": [
       "<matplotlib.legend.Legend at 0x23743573898>"
      ]
     },
     "execution_count": 29,
     "metadata": {},
     "output_type": "execute_result"
    },
    {
     "data": {
      "image/png": "[encoded data removed]",
      "text/plain": [
       "<Figure size 432x288 with 1 Axes>"
      ]
     },
     "metadata": {},
     "output_type": "display_data"
    }
   ],
   "source": [
    "plt.plot(history.history['acc'])\n",
    "plt.plot(history.history['val_acc'])\n",
    "plt.title('Validation Accuracy')\n",
    "plt.xlabel('epoch')\n",
    "plt.legend(['acc','val_acc'])"
   ]
  },
  {
   "cell_type": "code",
   "execution_count": null,
   "metadata": {},
   "outputs": [],
   "source": []
  }
 ],
 "metadata": {
  "kernelspec": {
   "display_name": "Python 3",
   "language": "python",
   "name": "python3"
  },
  "language_info": {
   "codemirror_mode": {
    "name": "ipython",
    "version": 3
   },
   "file_extension": ".py",
   "mimetype": "text/x-python",
   "name": "python",
   "nbconvert_exporter": "python",
   "pygments_lexer": "ipython3",
   "version": "3.6.5"
  }
 },
 "nbformat": 4,
 "nbformat_minor": 2
}
